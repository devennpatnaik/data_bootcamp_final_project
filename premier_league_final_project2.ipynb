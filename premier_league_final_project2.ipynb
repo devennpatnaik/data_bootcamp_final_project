{
 "cells": [
  {
   "cell_type": "markdown",
   "metadata": {},
   "source": [
    "## Data Bootcamp Final Project\n",
    "##### *Deven Patnaik, Catherine Sang, and Salomon Ruiz*\n",
    "\n",
    "This dataset (cited in README.md) describes each Premier League soccer match in the 2010 through 2021 seasons. With this data, we seek to answer the question, \"Do penalties affect the result of a match?\" We define \"penalties\" as offsides calls, yellow cards, and red cards. Our first two sections examine this question by 1) comparing the result of each match to the total penalties of the match and 2) comparing the result of each match to the teams' difference in penalties. The data also provides team averages for each variable, so we performed additional experiments to answer a related question: \"Do more penalties *relative to each team average* affect the result of a match?\" \n",
    "\n",
    "We chose this data not because we are interested in the Premier League, but because we are curious about the relevance our question to other sports. Understanding the relevance of penalties to scores in soccer might hint a their relevance in football, basketball, and hockey."
   ]
  },
  {
   "cell_type": "markdown",
   "metadata": {},
   "source": [
    "### Contents\n",
    "\n",
    "*i. Reading in the data*\n",
    "\n",
    "*ii. Shaping, Cleaning, and Filtering*\n",
    "\n",
    "*iii. Understanding the Dataset and Making Assumptions*\n",
    "\n",
    "I. Comparing Match Result to Total Penalties \n",
    "* Match Result vs. Total Penalties\n",
    "* Match Result vs. Total Offsides Calls\n",
    "* Match Result vs. Total Yellow Cards\n",
    "* Match Result vs. Total Red Cards\n",
    "* Predictive Model\n",
    "\n",
    "II. Comparing Match Result to Difference in Penalties\n",
    "* Match Result vs. Difference in Penalties\n",
    "* Match Result vs. Difference in Offsides Calls\n",
    "* Match Result vs. Difference in Yellow Cards\n",
    "* Match Result vs. Difference in Red Cards\n",
    "* Predictive Model\n",
    "\n",
    "III. Comparing Match Result to Each Team's Penalty Average\n",
    "* Match Result vs. Each's Average Penalties\n",
    "* Match Result vs. Each's Average Offsides Calls\n",
    "* Match Result vs. Each's Average Yellow Cards\n",
    "* Match Result vs. Each's Average Red Cards\n",
    "* Predictive Model\n",
    "\n",
    "\n",
    "V. Discussion"
   ]
  },
  {
   "cell_type": "markdown",
   "metadata": {},
   "source": [
    "#### *i. Reading in the data*"
   ]
  },
  {
   "cell_type": "code",
   "execution_count": 2,
   "metadata": {},
   "outputs": [
    {
     "name": "stdout",
     "output_type": "stream",
     "text": [
      "      Unnamed: 0                                 link_match season  \\\n",
      "0              0   https://www.premierleague.com/match/7186  10/11   \n",
      "1              1   https://www.premierleague.com/match/7404  10/11   \n",
      "2              2   https://www.premierleague.com/match/7255  10/11   \n",
      "3              3   https://www.premierleague.com/match/7126  10/11   \n",
      "4              4   https://www.premierleague.com/match/7350  10/11   \n",
      "...          ...                                        ...    ...   \n",
      "4065        4065  https://www.premierleague.com/match/59113  20/21   \n",
      "4066        4066  https://www.premierleague.com/match/59177  20/21   \n",
      "4067        4067  https://www.premierleague.com/match/59178  20/21   \n",
      "4068        4068  https://www.premierleague.com/match/59182  20/21   \n",
      "4069        4069  https://www.premierleague.com/match/59052  20/21   \n",
      "\n",
      "            date          home_team                 away_team result_full  \\\n",
      "0     2010-11-01          Blackpool      West Bromwich Albion         2-1   \n",
      "1     2011-04-11          Liverpool           Manchester City         3-0   \n",
      "2     2010-12-13  Manchester United                   Arsenal         1-0   \n",
      "3     2010-09-13         Stoke City               Aston Villa         2-1   \n",
      "4     2011-02-14             Fulham                   Chelsea         0-0   \n",
      "...          ...                ...                       ...         ...   \n",
      "4065  2021-02-03          Liverpool  Brighton and Hove Albion         0-1   \n",
      "4066  2021-03-03            Burnley            Leicester City         1-1   \n",
      "4067  2021-03-03     Crystal Palace         Manchester United         0-0   \n",
      "4068  2021-03-03   Sheffield United               Aston Villa         1-0   \n",
      "4069  2020-12-30   Newcastle United                 Liverpool         0-0   \n",
      "\n",
      "     result_ht  home_clearances  home_corners  ...  tackles_avg_away  \\\n",
      "0          1-0             15.0           8.0  ...              20.0   \n",
      "1          3-0             16.0           6.0  ...              22.0   \n",
      "2          1-0             26.0           5.0  ...              21.2   \n",
      "3          0-1             26.0           8.0  ...              25.0   \n",
      "4          0-0             50.0           4.0  ...              19.4   \n",
      "...        ...              ...           ...  ...               ...   \n",
      "4065       0-0             15.0           5.0  ...              16.8   \n",
      "4066       1-1             13.0           5.0  ...              17.7   \n",
      "4067       0-0             25.0           4.0  ...              14.9   \n",
      "4068       1-0             47.0           2.0  ...              13.3   \n",
      "4069       0-0             52.0           5.0  ...              13.1   \n",
      "\n",
      "      touches_avg_away  yellow_cards_avg_away  goals_scored_ft_avg_away  \\\n",
      "0                584.9                    1.6                      1.44   \n",
      "1                681.4                    2.0                      1.61   \n",
      "2                748.0                    1.8                      2.12   \n",
      "3                567.3                    2.0                      1.33   \n",
      "4                728.6                    1.4                      1.84   \n",
      "...                ...                    ...                       ...   \n",
      "4065             651.0                    1.5                      1.10   \n",
      "4066             679.0                    1.8                      1.73   \n",
      "4067             742.6                    1.6                      2.04   \n",
      "4068             587.0                    1.7                      1.58   \n",
      "4069             844.5                    0.7                      2.47   \n",
      "\n",
      "      goals_conced_ft_avg_away  sg_match_ft_acum_away  \\\n",
      "0                         1.67                   -2.0   \n",
      "1                         0.87                   23.0   \n",
      "2                         1.12                   16.0   \n",
      "3                         2.00                   -2.0   \n",
      "4                         0.88                   24.0   \n",
      "...                        ...                    ...   \n",
      "4065                      1.38                   -6.0   \n",
      "4066                      1.15                   15.0   \n",
      "4067                      1.23                   21.0   \n",
      "4068                      1.08                   12.0   \n",
      "4069                      1.33                   17.0   \n",
      "\n",
      "      goals_scored_ht_avg_away  goals_conced_ht_avg_away  \\\n",
      "0                         0.33                      0.78   \n",
      "1                         0.87                      0.32   \n",
      "2                         0.94                      0.38   \n",
      "3                         1.00                      1.00   \n",
      "4                         0.84                      0.48   \n",
      "...                        ...                       ...   \n",
      "4065                      0.52                      0.67   \n",
      "4066                      0.77                      0.58   \n",
      "4067                      0.85                      0.69   \n",
      "4068                      0.67                      0.42   \n",
      "4069                      1.20                      0.87   \n",
      "\n",
      "      sg_match_ht_acum_away  performance_acum_away  \n",
      "0                      -4.0                   55.6  \n",
      "1                      17.0                   60.2  \n",
      "2                       9.0                   66.7  \n",
      "3                       0.0                   66.7  \n",
      "4                       9.0                   58.7  \n",
      "...                     ...                    ...  \n",
      "4065                   -3.0                   33.3  \n",
      "4066                    5.0                   62.8  \n",
      "4067                    4.0                   64.1  \n",
      "4068                    6.0                   54.2  \n",
      "4069                    5.0                   71.1  \n",
      "\n",
      "[4070 rows x 114 columns]\n"
     ]
    }
   ],
   "source": [
    "import numpy as np\n",
    "import pandas as pd                    \n",
    "import matplotlib as mpl               \n",
    "import datetime as dt                  \n",
    "import matplotlib.pyplot as plt\n",
    "import statsmodels.formula.api as smf\n",
    "%matplotlib inline\n",
    "df = pd.read_csv('df_full_premierleague.csv')\n",
    "print(df)"
   ]
  },
  {
   "cell_type": "markdown",
   "metadata": {},
   "source": [
    "#### *ii. Shaping, Cleaning, and Filtering* \n",
    "* Title all columns\n",
    "* Convert date to datetime format\n",
    "* Reindex by date\n",
    "* Delete matches with nulls and empty values\n",
    "* Remove irrelevant columns"
   ]
  },
  {
   "cell_type": "code",
   "execution_count": 3,
   "metadata": {},
   "outputs": [],
   "source": [
    "# Title all columns\n",
    "df.columns = [i.title() for i in df.columns]"
   ]
  },
  {
   "cell_type": "code",
   "execution_count": 4,
   "metadata": {},
   "outputs": [],
   "source": [
    "# Convert date to datetime format\n",
    "df['Date'] = pd.to_datetime(df['Date'])"
   ]
  },
  {
   "cell_type": "code",
   "execution_count": 5,
   "metadata": {},
   "outputs": [],
   "source": [
    "# Sort dataframe by date in chronological order\n",
    "df = df.sort_values(by=['Date'])"
   ]
  },
  {
   "cell_type": "code",
   "execution_count": 6,
   "metadata": {
    "scrolled": false
   },
   "outputs": [
    {
     "data": {
      "text/html": [
       "<div>\n",
       "<style scoped>\n",
       "    .dataframe tbody tr th:only-of-type {\n",
       "        vertical-align: middle;\n",
       "    }\n",
       "\n",
       "    .dataframe tbody tr th {\n",
       "        vertical-align: top;\n",
       "    }\n",
       "\n",
       "    .dataframe thead th {\n",
       "        text-align: right;\n",
       "    }\n",
       "</style>\n",
       "<table border=\"1\" class=\"dataframe\">\n",
       "  <thead>\n",
       "    <tr style=\"text-align: right;\">\n",
       "      <th></th>\n",
       "      <th>Unnamed: 0</th>\n",
       "      <th>Link_Match</th>\n",
       "      <th>Season</th>\n",
       "      <th>Date</th>\n",
       "      <th>Home_Team</th>\n",
       "      <th>Away_Team</th>\n",
       "      <th>Result_Full</th>\n",
       "      <th>Result_Ht</th>\n",
       "      <th>Home_Clearances</th>\n",
       "      <th>Home_Corners</th>\n",
       "      <th>...</th>\n",
       "      <th>Tackles_Avg_Away</th>\n",
       "      <th>Touches_Avg_Away</th>\n",
       "      <th>Yellow_Cards_Avg_Away</th>\n",
       "      <th>Goals_Scored_Ft_Avg_Away</th>\n",
       "      <th>Goals_Conced_Ft_Avg_Away</th>\n",
       "      <th>Sg_Match_Ft_Acum_Away</th>\n",
       "      <th>Goals_Scored_Ht_Avg_Away</th>\n",
       "      <th>Goals_Conced_Ht_Avg_Away</th>\n",
       "      <th>Sg_Match_Ht_Acum_Away</th>\n",
       "      <th>Performance_Acum_Away</th>\n",
       "    </tr>\n",
       "    <tr>\n",
       "      <th>Date</th>\n",
       "      <th></th>\n",
       "      <th></th>\n",
       "      <th></th>\n",
       "      <th></th>\n",
       "      <th></th>\n",
       "      <th></th>\n",
       "      <th></th>\n",
       "      <th></th>\n",
       "      <th></th>\n",
       "      <th></th>\n",
       "      <th></th>\n",
       "      <th></th>\n",
       "      <th></th>\n",
       "      <th></th>\n",
       "      <th></th>\n",
       "      <th></th>\n",
       "      <th></th>\n",
       "      <th></th>\n",
       "      <th></th>\n",
       "      <th></th>\n",
       "      <th></th>\n",
       "    </tr>\n",
       "  </thead>\n",
       "  <tbody>\n",
       "    <tr>\n",
       "      <th>2010-08-14</th>\n",
       "      <td>55</td>\n",
       "      <td>https://www.premierleague.com/match/7087</td>\n",
       "      <td>10/11</td>\n",
       "      <td>2010-08-14</td>\n",
       "      <td>Aston Villa</td>\n",
       "      <td>West Ham United</td>\n",
       "      <td>3-0</td>\n",
       "      <td>2-0</td>\n",
       "      <td>24.0</td>\n",
       "      <td>15.0</td>\n",
       "      <td>...</td>\n",
       "      <td>NaN</td>\n",
       "      <td>NaN</td>\n",
       "      <td>NaN</td>\n",
       "      <td>NaN</td>\n",
       "      <td>NaN</td>\n",
       "      <td>NaN</td>\n",
       "      <td>NaN</td>\n",
       "      <td>NaN</td>\n",
       "      <td>NaN</td>\n",
       "      <td>NaN</td>\n",
       "    </tr>\n",
       "    <tr>\n",
       "      <th>2010-08-14</th>\n",
       "      <td>57</td>\n",
       "      <td>https://www.premierleague.com/match/7089</td>\n",
       "      <td>10/11</td>\n",
       "      <td>2010-08-14</td>\n",
       "      <td>Bolton Wanderers</td>\n",
       "      <td>Fulham</td>\n",
       "      <td>0-0</td>\n",
       "      <td>0-0</td>\n",
       "      <td>54.0</td>\n",
       "      <td>4.0</td>\n",
       "      <td>...</td>\n",
       "      <td>NaN</td>\n",
       "      <td>NaN</td>\n",
       "      <td>NaN</td>\n",
       "      <td>NaN</td>\n",
       "      <td>NaN</td>\n",
       "      <td>NaN</td>\n",
       "      <td>NaN</td>\n",
       "      <td>NaN</td>\n",
       "      <td>NaN</td>\n",
       "      <td>NaN</td>\n",
       "    </tr>\n",
       "    <tr>\n",
       "      <th>2010-08-14</th>\n",
       "      <td>58</td>\n",
       "      <td>https://www.premierleague.com/match/7090</td>\n",
       "      <td>10/11</td>\n",
       "      <td>2010-08-14</td>\n",
       "      <td>Chelsea</td>\n",
       "      <td>West Bromwich Albion</td>\n",
       "      <td>6-0</td>\n",
       "      <td>2-0</td>\n",
       "      <td>10.0</td>\n",
       "      <td>3.0</td>\n",
       "      <td>...</td>\n",
       "      <td>NaN</td>\n",
       "      <td>NaN</td>\n",
       "      <td>NaN</td>\n",
       "      <td>NaN</td>\n",
       "      <td>NaN</td>\n",
       "      <td>NaN</td>\n",
       "      <td>NaN</td>\n",
       "      <td>NaN</td>\n",
       "      <td>NaN</td>\n",
       "      <td>NaN</td>\n",
       "    </tr>\n",
       "    <tr>\n",
       "      <th>2010-08-14</th>\n",
       "      <td>59</td>\n",
       "      <td>https://www.premierleague.com/match/7091</td>\n",
       "      <td>10/11</td>\n",
       "      <td>2010-08-14</td>\n",
       "      <td>Sunderland</td>\n",
       "      <td>Birmingham City</td>\n",
       "      <td>2-2</td>\n",
       "      <td>1-0</td>\n",
       "      <td>49.0</td>\n",
       "      <td>3.0</td>\n",
       "      <td>...</td>\n",
       "      <td>NaN</td>\n",
       "      <td>NaN</td>\n",
       "      <td>NaN</td>\n",
       "      <td>NaN</td>\n",
       "      <td>NaN</td>\n",
       "      <td>NaN</td>\n",
       "      <td>NaN</td>\n",
       "      <td>NaN</td>\n",
       "      <td>NaN</td>\n",
       "      <td>NaN</td>\n",
       "    </tr>\n",
       "    <tr>\n",
       "      <th>2010-08-14</th>\n",
       "      <td>60</td>\n",
       "      <td>https://www.premierleague.com/match/7092</td>\n",
       "      <td>10/11</td>\n",
       "      <td>2010-08-14</td>\n",
       "      <td>Tottenham Hotspur</td>\n",
       "      <td>Manchester City</td>\n",
       "      <td>0-0</td>\n",
       "      <td>0-0</td>\n",
       "      <td>20.0</td>\n",
       "      <td>10.0</td>\n",
       "      <td>...</td>\n",
       "      <td>NaN</td>\n",
       "      <td>NaN</td>\n",
       "      <td>NaN</td>\n",
       "      <td>NaN</td>\n",
       "      <td>NaN</td>\n",
       "      <td>NaN</td>\n",
       "      <td>NaN</td>\n",
       "      <td>NaN</td>\n",
       "      <td>NaN</td>\n",
       "      <td>NaN</td>\n",
       "    </tr>\n",
       "    <tr>\n",
       "      <th>...</th>\n",
       "      <td>...</td>\n",
       "      <td>...</td>\n",
       "      <td>...</td>\n",
       "      <td>...</td>\n",
       "      <td>...</td>\n",
       "      <td>...</td>\n",
       "      <td>...</td>\n",
       "      <td>...</td>\n",
       "      <td>...</td>\n",
       "      <td>...</td>\n",
       "      <td>...</td>\n",
       "      <td>...</td>\n",
       "      <td>...</td>\n",
       "      <td>...</td>\n",
       "      <td>...</td>\n",
       "      <td>...</td>\n",
       "      <td>...</td>\n",
       "      <td>...</td>\n",
       "      <td>...</td>\n",
       "      <td>...</td>\n",
       "      <td>...</td>\n",
       "    </tr>\n",
       "    <tr>\n",
       "      <th>2021-03-06</th>\n",
       "      <td>3923</td>\n",
       "      <td>https://www.premierleague.com/match/59157</td>\n",
       "      <td>20/21</td>\n",
       "      <td>2021-03-06</td>\n",
       "      <td>Brighton and Hove Albion</td>\n",
       "      <td>Leicester City</td>\n",
       "      <td>1-2</td>\n",
       "      <td>1-0</td>\n",
       "      <td>5.0</td>\n",
       "      <td>6.0</td>\n",
       "      <td>...</td>\n",
       "      <td>17.4</td>\n",
       "      <td>681.5</td>\n",
       "      <td>1.8</td>\n",
       "      <td>1.70</td>\n",
       "      <td>1.15</td>\n",
       "      <td>15.0</td>\n",
       "      <td>0.78</td>\n",
       "      <td>0.59</td>\n",
       "      <td>5.0</td>\n",
       "      <td>61.7</td>\n",
       "    </tr>\n",
       "    <tr>\n",
       "      <th>2021-03-06</th>\n",
       "      <td>3924</td>\n",
       "      <td>https://www.premierleague.com/match/59158</td>\n",
       "      <td>20/21</td>\n",
       "      <td>2021-03-06</td>\n",
       "      <td>Burnley</td>\n",
       "      <td>Arsenal</td>\n",
       "      <td>1-1</td>\n",
       "      <td>1-1</td>\n",
       "      <td>16.0</td>\n",
       "      <td>2.0</td>\n",
       "      <td>...</td>\n",
       "      <td>11.5</td>\n",
       "      <td>689.1</td>\n",
       "      <td>1.4</td>\n",
       "      <td>1.31</td>\n",
       "      <td>1.04</td>\n",
       "      <td>7.0</td>\n",
       "      <td>0.65</td>\n",
       "      <td>0.65</td>\n",
       "      <td>0.0</td>\n",
       "      <td>47.4</td>\n",
       "    </tr>\n",
       "    <tr>\n",
       "      <th>2021-03-07</th>\n",
       "      <td>4008</td>\n",
       "      <td>https://www.premierleague.com/match/59164</td>\n",
       "      <td>20/21</td>\n",
       "      <td>2021-03-07</td>\n",
       "      <td>West Bromwich Albion</td>\n",
       "      <td>Newcastle United</td>\n",
       "      <td>0-0</td>\n",
       "      <td>0-0</td>\n",
       "      <td>21.0</td>\n",
       "      <td>9.0</td>\n",
       "      <td>...</td>\n",
       "      <td>13.7</td>\n",
       "      <td>526.8</td>\n",
       "      <td>1.8</td>\n",
       "      <td>1.04</td>\n",
       "      <td>1.69</td>\n",
       "      <td>-17.0</td>\n",
       "      <td>0.35</td>\n",
       "      <td>0.69</td>\n",
       "      <td>-9.0</td>\n",
       "      <td>33.3</td>\n",
       "    </tr>\n",
       "    <tr>\n",
       "      <th>2021-03-07</th>\n",
       "      <td>4006</td>\n",
       "      <td>https://www.premierleague.com/match/59160</td>\n",
       "      <td>20/21</td>\n",
       "      <td>2021-03-07</td>\n",
       "      <td>Liverpool</td>\n",
       "      <td>Fulham</td>\n",
       "      <td>0-1</td>\n",
       "      <td>0-1</td>\n",
       "      <td>13.0</td>\n",
       "      <td>9.0</td>\n",
       "      <td>...</td>\n",
       "      <td>14.4</td>\n",
       "      <td>675.7</td>\n",
       "      <td>1.8</td>\n",
       "      <td>0.78</td>\n",
       "      <td>1.22</td>\n",
       "      <td>-12.0</td>\n",
       "      <td>0.37</td>\n",
       "      <td>0.59</td>\n",
       "      <td>-6.0</td>\n",
       "      <td>28.4</td>\n",
       "    </tr>\n",
       "    <tr>\n",
       "      <th>2021-03-07</th>\n",
       "      <td>4007</td>\n",
       "      <td>https://www.premierleague.com/match/59161</td>\n",
       "      <td>20/21</td>\n",
       "      <td>2021-03-07</td>\n",
       "      <td>Manchester City</td>\n",
       "      <td>Manchester United</td>\n",
       "      <td>0-2</td>\n",
       "      <td>0-1</td>\n",
       "      <td>7.0</td>\n",
       "      <td>6.0</td>\n",
       "      <td>...</td>\n",
       "      <td>14.6</td>\n",
       "      <td>744.0</td>\n",
       "      <td>1.5</td>\n",
       "      <td>1.96</td>\n",
       "      <td>1.19</td>\n",
       "      <td>21.0</td>\n",
       "      <td>0.81</td>\n",
       "      <td>0.67</td>\n",
       "      <td>4.0</td>\n",
       "      <td>63.0</td>\n",
       "    </tr>\n",
       "  </tbody>\n",
       "</table>\n",
       "<p>4070 rows × 114 columns</p>\n",
       "</div>"
      ],
      "text/plain": [
       "            Unnamed: 0                                 Link_Match Season  \\\n",
       "Date                                                                       \n",
       "2010-08-14          55   https://www.premierleague.com/match/7087  10/11   \n",
       "2010-08-14          57   https://www.premierleague.com/match/7089  10/11   \n",
       "2010-08-14          58   https://www.premierleague.com/match/7090  10/11   \n",
       "2010-08-14          59   https://www.premierleague.com/match/7091  10/11   \n",
       "2010-08-14          60   https://www.premierleague.com/match/7092  10/11   \n",
       "...                ...                                        ...    ...   \n",
       "2021-03-06        3923  https://www.premierleague.com/match/59157  20/21   \n",
       "2021-03-06        3924  https://www.premierleague.com/match/59158  20/21   \n",
       "2021-03-07        4008  https://www.premierleague.com/match/59164  20/21   \n",
       "2021-03-07        4006  https://www.premierleague.com/match/59160  20/21   \n",
       "2021-03-07        4007  https://www.premierleague.com/match/59161  20/21   \n",
       "\n",
       "                 Date                 Home_Team             Away_Team  \\\n",
       "Date                                                                    \n",
       "2010-08-14 2010-08-14               Aston Villa       West Ham United   \n",
       "2010-08-14 2010-08-14          Bolton Wanderers                Fulham   \n",
       "2010-08-14 2010-08-14                   Chelsea  West Bromwich Albion   \n",
       "2010-08-14 2010-08-14                Sunderland       Birmingham City   \n",
       "2010-08-14 2010-08-14         Tottenham Hotspur       Manchester City   \n",
       "...               ...                       ...                   ...   \n",
       "2021-03-06 2021-03-06  Brighton and Hove Albion        Leicester City   \n",
       "2021-03-06 2021-03-06                   Burnley               Arsenal   \n",
       "2021-03-07 2021-03-07      West Bromwich Albion      Newcastle United   \n",
       "2021-03-07 2021-03-07                 Liverpool                Fulham   \n",
       "2021-03-07 2021-03-07           Manchester City     Manchester United   \n",
       "\n",
       "           Result_Full Result_Ht  Home_Clearances  Home_Corners  ...  \\\n",
       "Date                                                             ...   \n",
       "2010-08-14         3-0       2-0             24.0          15.0  ...   \n",
       "2010-08-14         0-0       0-0             54.0           4.0  ...   \n",
       "2010-08-14         6-0       2-0             10.0           3.0  ...   \n",
       "2010-08-14         2-2       1-0             49.0           3.0  ...   \n",
       "2010-08-14         0-0       0-0             20.0          10.0  ...   \n",
       "...                ...       ...              ...           ...  ...   \n",
       "2021-03-06         1-2       1-0              5.0           6.0  ...   \n",
       "2021-03-06         1-1       1-1             16.0           2.0  ...   \n",
       "2021-03-07         0-0       0-0             21.0           9.0  ...   \n",
       "2021-03-07         0-1       0-1             13.0           9.0  ...   \n",
       "2021-03-07         0-2       0-1              7.0           6.0  ...   \n",
       "\n",
       "            Tackles_Avg_Away  Touches_Avg_Away  Yellow_Cards_Avg_Away  \\\n",
       "Date                                                                    \n",
       "2010-08-14               NaN               NaN                    NaN   \n",
       "2010-08-14               NaN               NaN                    NaN   \n",
       "2010-08-14               NaN               NaN                    NaN   \n",
       "2010-08-14               NaN               NaN                    NaN   \n",
       "2010-08-14               NaN               NaN                    NaN   \n",
       "...                      ...               ...                    ...   \n",
       "2021-03-06              17.4             681.5                    1.8   \n",
       "2021-03-06              11.5             689.1                    1.4   \n",
       "2021-03-07              13.7             526.8                    1.8   \n",
       "2021-03-07              14.4             675.7                    1.8   \n",
       "2021-03-07              14.6             744.0                    1.5   \n",
       "\n",
       "            Goals_Scored_Ft_Avg_Away  Goals_Conced_Ft_Avg_Away  \\\n",
       "Date                                                             \n",
       "2010-08-14                       NaN                       NaN   \n",
       "2010-08-14                       NaN                       NaN   \n",
       "2010-08-14                       NaN                       NaN   \n",
       "2010-08-14                       NaN                       NaN   \n",
       "2010-08-14                       NaN                       NaN   \n",
       "...                              ...                       ...   \n",
       "2021-03-06                      1.70                      1.15   \n",
       "2021-03-06                      1.31                      1.04   \n",
       "2021-03-07                      1.04                      1.69   \n",
       "2021-03-07                      0.78                      1.22   \n",
       "2021-03-07                      1.96                      1.19   \n",
       "\n",
       "            Sg_Match_Ft_Acum_Away  Goals_Scored_Ht_Avg_Away  \\\n",
       "Date                                                          \n",
       "2010-08-14                    NaN                       NaN   \n",
       "2010-08-14                    NaN                       NaN   \n",
       "2010-08-14                    NaN                       NaN   \n",
       "2010-08-14                    NaN                       NaN   \n",
       "2010-08-14                    NaN                       NaN   \n",
       "...                           ...                       ...   \n",
       "2021-03-06                   15.0                      0.78   \n",
       "2021-03-06                    7.0                      0.65   \n",
       "2021-03-07                  -17.0                      0.35   \n",
       "2021-03-07                  -12.0                      0.37   \n",
       "2021-03-07                   21.0                      0.81   \n",
       "\n",
       "            Goals_Conced_Ht_Avg_Away  Sg_Match_Ht_Acum_Away  \\\n",
       "Date                                                          \n",
       "2010-08-14                       NaN                    NaN   \n",
       "2010-08-14                       NaN                    NaN   \n",
       "2010-08-14                       NaN                    NaN   \n",
       "2010-08-14                       NaN                    NaN   \n",
       "2010-08-14                       NaN                    NaN   \n",
       "...                              ...                    ...   \n",
       "2021-03-06                      0.59                    5.0   \n",
       "2021-03-06                      0.65                    0.0   \n",
       "2021-03-07                      0.69                   -9.0   \n",
       "2021-03-07                      0.59                   -6.0   \n",
       "2021-03-07                      0.67                    4.0   \n",
       "\n",
       "            Performance_Acum_Away  \n",
       "Date                               \n",
       "2010-08-14                    NaN  \n",
       "2010-08-14                    NaN  \n",
       "2010-08-14                    NaN  \n",
       "2010-08-14                    NaN  \n",
       "2010-08-14                    NaN  \n",
       "...                           ...  \n",
       "2021-03-06                   61.7  \n",
       "2021-03-06                   47.4  \n",
       "2021-03-07                   33.3  \n",
       "2021-03-07                   28.4  \n",
       "2021-03-07                   63.0  \n",
       "\n",
       "[4070 rows x 114 columns]"
      ]
     },
     "execution_count": 6,
     "metadata": {},
     "output_type": "execute_result"
    }
   ],
   "source": [
    "# Reindex by date\n",
    "df = df.set_index(df['Date'])\n",
    "df"
   ]
  },
  {
   "cell_type": "code",
   "execution_count": null,
   "metadata": {},
   "outputs": [],
   "source": []
  },
  {
   "cell_type": "markdown",
   "metadata": {},
   "source": [
    "#### *iii. Understanding the Dataset and Making Assumptions*\n",
    "\n",
    "* Interpreting the Home Team vs Away Team Columns\n",
    "* Testing to Confirm the Dataset is at the Match Level\n",
    "* Testing to Confirm the Columns, Goal_Home_Ft and Goal_Away_Ft, match up with Result_Full\n",
    "* Understanding the Size of Dataset\n",
    "<br>\n",
    "&nbsp;&nbsp;&nbsp;&nbsp;&nbsp;&nbsp; Number of Seasons\n",
    "<br>\n",
    "&nbsp;&nbsp;&nbsp;&nbsp;&nbsp;&nbsp; Number of Matches per Season\n",
    "<br>\n",
    "&nbsp;&nbsp;&nbsp;&nbsp;&nbsp;&nbsp; Number of Matches per Team\n"
   ]
  },
  {
   "cell_type": "code",
   "execution_count": 7,
   "metadata": {},
   "outputs": [
    {
     "data": {
      "text/plain": [
       "True"
      ]
     },
     "execution_count": 7,
     "metadata": {},
     "output_type": "execute_result"
    }
   ],
   "source": [
    "# Testing to see if the unique values of the Home Team column equal the unique values of the Away Team column\n",
    "np.array_equal(np.sort(df['Home_Team'].unique()),np.sort(df['Away_Team'].unique()))"
   ]
  },
  {
   "cell_type": "markdown",
   "metadata": {},
   "source": [
    "Because the numpy array_equal function returned true, that means that the unique values of the Home Team column equal the Away Team column. This makes sense because every season the Premier League sets a schedule deciding which team plays as the home team and which team plays as the away team."
   ]
  },
  {
   "cell_type": "code",
   "execution_count": 8,
   "metadata": {
    "scrolled": true
   },
   "outputs": [
    {
     "data": {
      "text/plain": [
       "4070"
      ]
     },
     "execution_count": 8,
     "metadata": {},
     "output_type": "execute_result"
    }
   ],
   "source": [
    "# Testing to see if there are any repeat matches\n",
    "df['Link_Match'].nunique()"
   ]
  },
  {
   "cell_type": "markdown",
   "metadata": {},
   "source": [
    "There are 4070 unique match links and 4070 rows in our cleaned dataframe, so we can assume that the dataset is at the match level meaning each row represents a unique match."
   ]
  },
  {
   "cell_type": "code",
   "execution_count": 9,
   "metadata": {
    "scrolled": false
   },
   "outputs": [
    {
     "data": {
      "text/plain": [
       "11"
      ]
     },
     "execution_count": 9,
     "metadata": {},
     "output_type": "execute_result"
    }
   ],
   "source": [
    "# Finding the number of seasons in the dataset\n",
    "df['Season'].nunique()"
   ]
  },
  {
   "cell_type": "code",
   "execution_count": 10,
   "metadata": {},
   "outputs": [
    {
     "data": {
      "text/plain": [
       "array(['10/11', '11/12', '12/13', '13/14', '14/15', '15/16', '16/17',\n",
       "       '17/18', '18/19', '19/20', '20/21'], dtype=object)"
      ]
     },
     "execution_count": 10,
     "metadata": {},
     "output_type": "execute_result"
    }
   ],
   "source": [
    "# Finding the unique seasons in the dataset\n",
    "df['Season'].unique()"
   ]
  },
  {
   "cell_type": "markdown",
   "metadata": {},
   "source": [
    "There are 11 seasons represented in this dataset from the 2010-2011 season to the 2020-2021 season."
   ]
  },
  {
   "cell_type": "code",
   "execution_count": 11,
   "metadata": {},
   "outputs": [
    {
     "data": {
      "text/plain": [
       "dtype('O')"
      ]
     },
     "execution_count": 11,
     "metadata": {},
     "output_type": "execute_result"
    }
   ],
   "source": [
    "# Finding data type of Column Result_Full\n",
    "df['Result_Full'].dtype"
   ]
  },
  {
   "cell_type": "code",
   "execution_count": 12,
   "metadata": {
    "scrolled": true
   },
   "outputs": [
    {
     "data": {
      "text/plain": [
       "Date\n",
       "2010-08-14    3\n",
       "2010-08-14    0\n",
       "2010-08-14    6\n",
       "2010-08-14    2\n",
       "2010-08-14    0\n",
       "             ..\n",
       "2021-03-06    1\n",
       "2021-03-06    1\n",
       "2021-03-07    0\n",
       "2021-03-07    0\n",
       "2021-03-07    0\n",
       "Name: Result_Full, Length: 4070, dtype: object"
      ]
     },
     "execution_count": 12,
     "metadata": {},
     "output_type": "execute_result"
    }
   ],
   "source": [
    "# Slicing Result_Full to get the first number of the score, the number of goals scored by the home team\n",
    "Result_Home = df['Result_Full'].str.strip().str.slice(start=0,stop=1) \n",
    "Result_Home"
   ]
  },
  {
   "cell_type": "code",
   "execution_count": 13,
   "metadata": {
    "scrolled": false
   },
   "outputs": [
    {
     "data": {
      "text/html": [
       "<div>\n",
       "<style scoped>\n",
       "    .dataframe tbody tr th:only-of-type {\n",
       "        vertical-align: middle;\n",
       "    }\n",
       "\n",
       "    .dataframe tbody tr th {\n",
       "        vertical-align: top;\n",
       "    }\n",
       "\n",
       "    .dataframe thead th {\n",
       "        text-align: right;\n",
       "    }\n",
       "</style>\n",
       "<table border=\"1\" class=\"dataframe\">\n",
       "  <thead>\n",
       "    <tr style=\"text-align: right;\">\n",
       "      <th></th>\n",
       "      <th>Result_Full</th>\n",
       "    </tr>\n",
       "    <tr>\n",
       "      <th>Date</th>\n",
       "      <th></th>\n",
       "    </tr>\n",
       "  </thead>\n",
       "  <tbody>\n",
       "    <tr>\n",
       "      <th>2010-08-14</th>\n",
       "      <td>3</td>\n",
       "    </tr>\n",
       "    <tr>\n",
       "      <th>2010-08-14</th>\n",
       "      <td>0</td>\n",
       "    </tr>\n",
       "    <tr>\n",
       "      <th>2010-08-14</th>\n",
       "      <td>6</td>\n",
       "    </tr>\n",
       "    <tr>\n",
       "      <th>2010-08-14</th>\n",
       "      <td>2</td>\n",
       "    </tr>\n",
       "    <tr>\n",
       "      <th>2010-08-14</th>\n",
       "      <td>0</td>\n",
       "    </tr>\n",
       "    <tr>\n",
       "      <th>...</th>\n",
       "      <td>...</td>\n",
       "    </tr>\n",
       "    <tr>\n",
       "      <th>2021-03-06</th>\n",
       "      <td>1</td>\n",
       "    </tr>\n",
       "    <tr>\n",
       "      <th>2021-03-06</th>\n",
       "      <td>1</td>\n",
       "    </tr>\n",
       "    <tr>\n",
       "      <th>2021-03-07</th>\n",
       "      <td>0</td>\n",
       "    </tr>\n",
       "    <tr>\n",
       "      <th>2021-03-07</th>\n",
       "      <td>0</td>\n",
       "    </tr>\n",
       "    <tr>\n",
       "      <th>2021-03-07</th>\n",
       "      <td>0</td>\n",
       "    </tr>\n",
       "  </tbody>\n",
       "</table>\n",
       "<p>4070 rows × 1 columns</p>\n",
       "</div>"
      ],
      "text/plain": [
       "           Result_Full\n",
       "Date                  \n",
       "2010-08-14           3\n",
       "2010-08-14           0\n",
       "2010-08-14           6\n",
       "2010-08-14           2\n",
       "2010-08-14           0\n",
       "...                ...\n",
       "2021-03-06           1\n",
       "2021-03-06           1\n",
       "2021-03-07           0\n",
       "2021-03-07           0\n",
       "2021-03-07           0\n",
       "\n",
       "[4070 rows x 1 columns]"
      ]
     },
     "execution_count": 13,
     "metadata": {},
     "output_type": "execute_result"
    }
   ],
   "source": [
    "# Turning Result_Home into a dataframe\n",
    "df_temp = pd.DataFrame(Result_Home)\n",
    "df_temp"
   ]
  },
  {
   "cell_type": "code",
   "execution_count": 14,
   "metadata": {},
   "outputs": [],
   "source": [
    "# Converting Result_Full column into integer objects\n",
    "df_temp['Result_Full'] = df_temp['Result_Full'].astype(int)"
   ]
  },
  {
   "cell_type": "code",
   "execution_count": 15,
   "metadata": {},
   "outputs": [],
   "source": [
    "# Converting Goal_Home_Ft column into integer objects\n",
    "df['Goal_Home_Ft'] = df['Goal_Home_Ft'].astype(int)"
   ]
  },
  {
   "cell_type": "code",
   "execution_count": 16,
   "metadata": {
    "scrolled": true
   },
   "outputs": [
    {
     "data": {
      "text/plain": [
       "True"
      ]
     },
     "execution_count": 16,
     "metadata": {},
     "output_type": "execute_result"
    }
   ],
   "source": [
    "# Testing to Confirm the Columns, Goal_Home_Ft and Goal_Away_Ft, match up with Result_Full\n",
    "df_temp['Result_Full'].equals(df['Goal_Home_Ft'])"
   ]
  },
  {
   "cell_type": "markdown",
   "metadata": {},
   "source": [
    "Because the sliced Result_Full column equals the Goal_Home_Ft column, we can assume that the number of goals scored by the home team is their score in at the end of the game. "
   ]
  },
  {
   "cell_type": "code",
   "execution_count": 17,
   "metadata": {},
   "outputs": [],
   "source": [
    "# Slicing Result_Full to get the second number of the score, the number of goals scored by the away team\n",
    "Result_Away = df['Result_Full'].str.strip().str.slice(start=2) "
   ]
  },
  {
   "cell_type": "code",
   "execution_count": 18,
   "metadata": {
    "scrolled": false
   },
   "outputs": [
    {
     "data": {
      "text/html": [
       "<div>\n",
       "<style scoped>\n",
       "    .dataframe tbody tr th:only-of-type {\n",
       "        vertical-align: middle;\n",
       "    }\n",
       "\n",
       "    .dataframe tbody tr th {\n",
       "        vertical-align: top;\n",
       "    }\n",
       "\n",
       "    .dataframe thead th {\n",
       "        text-align: right;\n",
       "    }\n",
       "</style>\n",
       "<table border=\"1\" class=\"dataframe\">\n",
       "  <thead>\n",
       "    <tr style=\"text-align: right;\">\n",
       "      <th></th>\n",
       "      <th>Result_Full</th>\n",
       "    </tr>\n",
       "    <tr>\n",
       "      <th>Date</th>\n",
       "      <th></th>\n",
       "    </tr>\n",
       "  </thead>\n",
       "  <tbody>\n",
       "    <tr>\n",
       "      <th>2010-08-14</th>\n",
       "      <td>0</td>\n",
       "    </tr>\n",
       "    <tr>\n",
       "      <th>2010-08-14</th>\n",
       "      <td>0</td>\n",
       "    </tr>\n",
       "    <tr>\n",
       "      <th>2010-08-14</th>\n",
       "      <td>0</td>\n",
       "    </tr>\n",
       "    <tr>\n",
       "      <th>2010-08-14</th>\n",
       "      <td>2</td>\n",
       "    </tr>\n",
       "    <tr>\n",
       "      <th>2010-08-14</th>\n",
       "      <td>0</td>\n",
       "    </tr>\n",
       "    <tr>\n",
       "      <th>...</th>\n",
       "      <td>...</td>\n",
       "    </tr>\n",
       "    <tr>\n",
       "      <th>2021-03-06</th>\n",
       "      <td>2</td>\n",
       "    </tr>\n",
       "    <tr>\n",
       "      <th>2021-03-06</th>\n",
       "      <td>1</td>\n",
       "    </tr>\n",
       "    <tr>\n",
       "      <th>2021-03-07</th>\n",
       "      <td>0</td>\n",
       "    </tr>\n",
       "    <tr>\n",
       "      <th>2021-03-07</th>\n",
       "      <td>1</td>\n",
       "    </tr>\n",
       "    <tr>\n",
       "      <th>2021-03-07</th>\n",
       "      <td>2</td>\n",
       "    </tr>\n",
       "  </tbody>\n",
       "</table>\n",
       "<p>4070 rows × 1 columns</p>\n",
       "</div>"
      ],
      "text/plain": [
       "           Result_Full\n",
       "Date                  \n",
       "2010-08-14           0\n",
       "2010-08-14           0\n",
       "2010-08-14           0\n",
       "2010-08-14           2\n",
       "2010-08-14           0\n",
       "...                ...\n",
       "2021-03-06           2\n",
       "2021-03-06           1\n",
       "2021-03-07           0\n",
       "2021-03-07           1\n",
       "2021-03-07           2\n",
       "\n",
       "[4070 rows x 1 columns]"
      ]
     },
     "execution_count": 18,
     "metadata": {},
     "output_type": "execute_result"
    }
   ],
   "source": [
    "# Turning Result_Home into a dataframe\n",
    "df_temp2 = pd.DataFrame(Result_Away)\n",
    "df_temp2"
   ]
  },
  {
   "cell_type": "code",
   "execution_count": 19,
   "metadata": {},
   "outputs": [],
   "source": [
    "# Converting Result_Full column into integer objects\n",
    "df_temp2['Result_Full'] = df_temp2['Result_Full'].astype(int)"
   ]
  },
  {
   "cell_type": "code",
   "execution_count": 20,
   "metadata": {},
   "outputs": [],
   "source": [
    "# Converting Goal_Away_Ft column into integer objects\n",
    "df['Goal_Away_Ft'] = df['Goal_Away_Ft'].astype(int)"
   ]
  },
  {
   "cell_type": "code",
   "execution_count": 21,
   "metadata": {},
   "outputs": [
    {
     "data": {
      "text/plain": [
       "True"
      ]
     },
     "execution_count": 21,
     "metadata": {},
     "output_type": "execute_result"
    }
   ],
   "source": [
    "# Testing to Confirm the Columns, Goal_Home_Ft and Goal_Away_Ft, match up with Result_Full\n",
    "df_temp2['Result_Full'].equals(df['Goal_Away_Ft'])"
   ]
  },
  {
   "cell_type": "markdown",
   "metadata": {},
   "source": [
    "Because the sliced Result_Full column equals the Goal_Away_Ft column, we can also assume that the number of goals scored by the away team is their score in at the end of the game."
   ]
  },
  {
   "cell_type": "code",
   "execution_count": 22,
   "metadata": {},
   "outputs": [
    {
     "data": {
      "text/plain": [
       "Season\n",
       "10/11    380\n",
       "11/12    380\n",
       "12/13    380\n",
       "13/14    380\n",
       "14/15    380\n",
       "15/16    379\n",
       "16/17    380\n",
       "17/18    380\n",
       "18/19    380\n",
       "19/20    380\n",
       "20/21    271\n",
       "Name: Date, dtype: int64"
      ]
     },
     "execution_count": 22,
     "metadata": {},
     "output_type": "execute_result"
    }
   ],
   "source": [
    "# Finding the number of matches per season\n",
    "df.groupby('Season')['Date'].count()"
   ]
  },
  {
   "cell_type": "markdown",
   "metadata": {},
   "source": [
    "Most years, there are 380 matches per yearly season with the exception of the 2015-2016 season and the current season. There are only 271 matches for the 2020-2021 season because the season is not over yet. In terms of the 2015-2016 season, it seems like there were 380 matches played according to [Wikipedia](https://en.wikipedia.org/wiki/2015%E2%80%9316_Premier_League), so there may be a missing entry in the dataset. "
   ]
  },
  {
   "cell_type": "code",
   "execution_count": 23,
   "metadata": {
    "scrolled": false
   },
   "outputs": [],
   "source": [
    "# Finding the number of matches per Home Team\n",
    "home = df.groupby('Home_Team')[['Link_Match']].count()"
   ]
  },
  {
   "cell_type": "code",
   "execution_count": 24,
   "metadata": {
    "scrolled": true
   },
   "outputs": [],
   "source": [
    "# Renaming the index of home\n",
    "home.index = home.index.rename('Team')"
   ]
  },
  {
   "cell_type": "code",
   "execution_count": 25,
   "metadata": {},
   "outputs": [
    {
     "data": {
      "text/html": [
       "<div>\n",
       "<style scoped>\n",
       "    .dataframe tbody tr th:only-of-type {\n",
       "        vertical-align: middle;\n",
       "    }\n",
       "\n",
       "    .dataframe tbody tr th {\n",
       "        vertical-align: top;\n",
       "    }\n",
       "\n",
       "    .dataframe thead th {\n",
       "        text-align: right;\n",
       "    }\n",
       "</style>\n",
       "<table border=\"1\" class=\"dataframe\">\n",
       "  <thead>\n",
       "    <tr style=\"text-align: right;\">\n",
       "      <th></th>\n",
       "      <th>Num_Matches_h</th>\n",
       "    </tr>\n",
       "    <tr>\n",
       "      <th>Team</th>\n",
       "      <th></th>\n",
       "    </tr>\n",
       "  </thead>\n",
       "  <tbody>\n",
       "    <tr>\n",
       "      <th>AFC Bournemouth</th>\n",
       "      <td>95</td>\n",
       "    </tr>\n",
       "    <tr>\n",
       "      <th>Arsenal</th>\n",
       "      <td>203</td>\n",
       "    </tr>\n",
       "    <tr>\n",
       "      <th>Aston Villa</th>\n",
       "      <td>145</td>\n",
       "    </tr>\n",
       "    <tr>\n",
       "      <th>Birmingham City</th>\n",
       "      <td>19</td>\n",
       "    </tr>\n",
       "    <tr>\n",
       "      <th>Blackburn Rovers</th>\n",
       "      <td>38</td>\n",
       "    </tr>\n",
       "    <tr>\n",
       "      <th>Blackpool</th>\n",
       "      <td>19</td>\n",
       "    </tr>\n",
       "    <tr>\n",
       "      <th>Bolton Wanderers</th>\n",
       "      <td>38</td>\n",
       "    </tr>\n",
       "    <tr>\n",
       "      <th>Brighton and Hove Albion</th>\n",
       "      <td>71</td>\n",
       "    </tr>\n",
       "    <tr>\n",
       "      <th>Burnley</th>\n",
       "      <td>110</td>\n",
       "    </tr>\n",
       "    <tr>\n",
       "      <th>Cardiff City</th>\n",
       "      <td>38</td>\n",
       "    </tr>\n",
       "    <tr>\n",
       "      <th>Chelsea</th>\n",
       "      <td>203</td>\n",
       "    </tr>\n",
       "    <tr>\n",
       "      <th>Crystal Palace</th>\n",
       "      <td>146</td>\n",
       "    </tr>\n",
       "    <tr>\n",
       "      <th>Everton</th>\n",
       "      <td>203</td>\n",
       "    </tr>\n",
       "    <tr>\n",
       "      <th>Fulham</th>\n",
       "      <td>109</td>\n",
       "    </tr>\n",
       "    <tr>\n",
       "      <th>Huddersfield Town</th>\n",
       "      <td>38</td>\n",
       "    </tr>\n",
       "    <tr>\n",
       "      <th>Hull City</th>\n",
       "      <td>57</td>\n",
       "    </tr>\n",
       "    <tr>\n",
       "      <th>Leeds United</th>\n",
       "      <td>13</td>\n",
       "    </tr>\n",
       "    <tr>\n",
       "      <th>Leicester City</th>\n",
       "      <td>127</td>\n",
       "    </tr>\n",
       "    <tr>\n",
       "      <th>Liverpool</th>\n",
       "      <td>204</td>\n",
       "    </tr>\n",
       "    <tr>\n",
       "      <th>Manchester City</th>\n",
       "      <td>205</td>\n",
       "    </tr>\n",
       "    <tr>\n",
       "      <th>Manchester United</th>\n",
       "      <td>203</td>\n",
       "    </tr>\n",
       "    <tr>\n",
       "      <th>Middlesbrough</th>\n",
       "      <td>19</td>\n",
       "    </tr>\n",
       "    <tr>\n",
       "      <th>Newcastle United</th>\n",
       "      <td>184</td>\n",
       "    </tr>\n",
       "    <tr>\n",
       "      <th>Norwich City</th>\n",
       "      <td>95</td>\n",
       "    </tr>\n",
       "    <tr>\n",
       "      <th>Queens Park Rangers</th>\n",
       "      <td>57</td>\n",
       "    </tr>\n",
       "    <tr>\n",
       "      <th>Reading</th>\n",
       "      <td>19</td>\n",
       "    </tr>\n",
       "    <tr>\n",
       "      <th>Sheffield United</th>\n",
       "      <td>34</td>\n",
       "    </tr>\n",
       "    <tr>\n",
       "      <th>Southampton</th>\n",
       "      <td>165</td>\n",
       "    </tr>\n",
       "    <tr>\n",
       "      <th>Stoke City</th>\n",
       "      <td>152</td>\n",
       "    </tr>\n",
       "    <tr>\n",
       "      <th>Sunderland</th>\n",
       "      <td>133</td>\n",
       "    </tr>\n",
       "    <tr>\n",
       "      <th>Swansea City</th>\n",
       "      <td>133</td>\n",
       "    </tr>\n",
       "    <tr>\n",
       "      <th>Tottenham Hotspur</th>\n",
       "      <td>203</td>\n",
       "    </tr>\n",
       "    <tr>\n",
       "      <th>Watford</th>\n",
       "      <td>95</td>\n",
       "    </tr>\n",
       "    <tr>\n",
       "      <th>West Bromwich Albion</th>\n",
       "      <td>167</td>\n",
       "    </tr>\n",
       "    <tr>\n",
       "      <th>West Ham United</th>\n",
       "      <td>184</td>\n",
       "    </tr>\n",
       "    <tr>\n",
       "      <th>Wigan Athletic</th>\n",
       "      <td>57</td>\n",
       "    </tr>\n",
       "    <tr>\n",
       "      <th>Wolverhampton Wanderers</th>\n",
       "      <td>89</td>\n",
       "    </tr>\n",
       "  </tbody>\n",
       "</table>\n",
       "</div>"
      ],
      "text/plain": [
       "                          Num_Matches_h\n",
       "Team                                   \n",
       "AFC Bournemouth                      95\n",
       "Arsenal                             203\n",
       "Aston Villa                         145\n",
       "Birmingham City                      19\n",
       "Blackburn Rovers                     38\n",
       "Blackpool                            19\n",
       "Bolton Wanderers                     38\n",
       "Brighton and Hove Albion             71\n",
       "Burnley                             110\n",
       "Cardiff City                         38\n",
       "Chelsea                             203\n",
       "Crystal Palace                      146\n",
       "Everton                             203\n",
       "Fulham                              109\n",
       "Huddersfield Town                    38\n",
       "Hull City                            57\n",
       "Leeds United                         13\n",
       "Leicester City                      127\n",
       "Liverpool                           204\n",
       "Manchester City                     205\n",
       "Manchester United                   203\n",
       "Middlesbrough                        19\n",
       "Newcastle United                    184\n",
       "Norwich City                         95\n",
       "Queens Park Rangers                  57\n",
       "Reading                              19\n",
       "Sheffield United                     34\n",
       "Southampton                         165\n",
       "Stoke City                          152\n",
       "Sunderland                          133\n",
       "Swansea City                        133\n",
       "Tottenham Hotspur                   203\n",
       "Watford                              95\n",
       "West Bromwich Albion                167\n",
       "West Ham United                     184\n",
       "Wigan Athletic                       57\n",
       "Wolverhampton Wanderers              89"
      ]
     },
     "execution_count": 25,
     "metadata": {},
     "output_type": "execute_result"
    }
   ],
   "source": [
    "#Renaming the Link_Match column to Num_Matches_h\n",
    "home.columns = ['Num_Matches_h']\n",
    "home"
   ]
  },
  {
   "cell_type": "code",
   "execution_count": 26,
   "metadata": {
    "scrolled": false
   },
   "outputs": [],
   "source": [
    "# Finding the number of matches per Away Team\n",
    "away = df.groupby('Away_Team')[['Link_Match']].count()"
   ]
  },
  {
   "cell_type": "code",
   "execution_count": 27,
   "metadata": {},
   "outputs": [],
   "source": [
    "# Renaming the index of away\n",
    "away.index = away.index.rename('Team')"
   ]
  },
  {
   "cell_type": "code",
   "execution_count": 28,
   "metadata": {},
   "outputs": [
    {
     "data": {
      "text/html": [
       "<div>\n",
       "<style scoped>\n",
       "    .dataframe tbody tr th:only-of-type {\n",
       "        vertical-align: middle;\n",
       "    }\n",
       "\n",
       "    .dataframe tbody tr th {\n",
       "        vertical-align: top;\n",
       "    }\n",
       "\n",
       "    .dataframe thead th {\n",
       "        text-align: right;\n",
       "    }\n",
       "</style>\n",
       "<table border=\"1\" class=\"dataframe\">\n",
       "  <thead>\n",
       "    <tr style=\"text-align: right;\">\n",
       "      <th></th>\n",
       "      <th>Num_Matches_a</th>\n",
       "    </tr>\n",
       "    <tr>\n",
       "      <th>Team</th>\n",
       "      <th></th>\n",
       "    </tr>\n",
       "  </thead>\n",
       "  <tbody>\n",
       "    <tr>\n",
       "      <th>AFC Bournemouth</th>\n",
       "      <td>94</td>\n",
       "    </tr>\n",
       "    <tr>\n",
       "      <th>Arsenal</th>\n",
       "      <td>204</td>\n",
       "    </tr>\n",
       "    <tr>\n",
       "      <th>Aston Villa</th>\n",
       "      <td>147</td>\n",
       "    </tr>\n",
       "    <tr>\n",
       "      <th>Birmingham City</th>\n",
       "      <td>19</td>\n",
       "    </tr>\n",
       "    <tr>\n",
       "      <th>Blackburn Rovers</th>\n",
       "      <td>38</td>\n",
       "    </tr>\n",
       "    <tr>\n",
       "      <th>Blackpool</th>\n",
       "      <td>19</td>\n",
       "    </tr>\n",
       "    <tr>\n",
       "      <th>Bolton Wanderers</th>\n",
       "      <td>38</td>\n",
       "    </tr>\n",
       "    <tr>\n",
       "      <th>Brighton and Hove Albion</th>\n",
       "      <td>70</td>\n",
       "    </tr>\n",
       "    <tr>\n",
       "      <th>Burnley</th>\n",
       "      <td>108</td>\n",
       "    </tr>\n",
       "    <tr>\n",
       "      <th>Cardiff City</th>\n",
       "      <td>38</td>\n",
       "    </tr>\n",
       "    <tr>\n",
       "      <th>Chelsea</th>\n",
       "      <td>204</td>\n",
       "    </tr>\n",
       "    <tr>\n",
       "      <th>Crystal Palace</th>\n",
       "      <td>146</td>\n",
       "    </tr>\n",
       "    <tr>\n",
       "      <th>Everton</th>\n",
       "      <td>203</td>\n",
       "    </tr>\n",
       "    <tr>\n",
       "      <th>Fulham</th>\n",
       "      <td>109</td>\n",
       "    </tr>\n",
       "    <tr>\n",
       "      <th>Huddersfield Town</th>\n",
       "      <td>38</td>\n",
       "    </tr>\n",
       "    <tr>\n",
       "      <th>Hull City</th>\n",
       "      <td>57</td>\n",
       "    </tr>\n",
       "    <tr>\n",
       "      <th>Leeds United</th>\n",
       "      <td>13</td>\n",
       "    </tr>\n",
       "    <tr>\n",
       "      <th>Leicester City</th>\n",
       "      <td>129</td>\n",
       "    </tr>\n",
       "    <tr>\n",
       "      <th>Liverpool</th>\n",
       "      <td>203</td>\n",
       "    </tr>\n",
       "    <tr>\n",
       "      <th>Manchester City</th>\n",
       "      <td>203</td>\n",
       "    </tr>\n",
       "    <tr>\n",
       "      <th>Manchester United</th>\n",
       "      <td>205</td>\n",
       "    </tr>\n",
       "    <tr>\n",
       "      <th>Middlesbrough</th>\n",
       "      <td>19</td>\n",
       "    </tr>\n",
       "    <tr>\n",
       "      <th>Newcastle United</th>\n",
       "      <td>185</td>\n",
       "    </tr>\n",
       "    <tr>\n",
       "      <th>Norwich City</th>\n",
       "      <td>95</td>\n",
       "    </tr>\n",
       "    <tr>\n",
       "      <th>Queens Park Rangers</th>\n",
       "      <td>57</td>\n",
       "    </tr>\n",
       "    <tr>\n",
       "      <th>Reading</th>\n",
       "      <td>19</td>\n",
       "    </tr>\n",
       "    <tr>\n",
       "      <th>Sheffield United</th>\n",
       "      <td>32</td>\n",
       "    </tr>\n",
       "    <tr>\n",
       "      <th>Southampton</th>\n",
       "      <td>166</td>\n",
       "    </tr>\n",
       "    <tr>\n",
       "      <th>Stoke City</th>\n",
       "      <td>152</td>\n",
       "    </tr>\n",
       "    <tr>\n",
       "      <th>Sunderland</th>\n",
       "      <td>133</td>\n",
       "    </tr>\n",
       "    <tr>\n",
       "      <th>Swansea City</th>\n",
       "      <td>133</td>\n",
       "    </tr>\n",
       "    <tr>\n",
       "      <th>Tottenham Hotspur</th>\n",
       "      <td>202</td>\n",
       "    </tr>\n",
       "    <tr>\n",
       "      <th>Watford</th>\n",
       "      <td>95</td>\n",
       "    </tr>\n",
       "    <tr>\n",
       "      <th>West Bromwich Albion</th>\n",
       "      <td>165</td>\n",
       "    </tr>\n",
       "    <tr>\n",
       "      <th>West Ham United</th>\n",
       "      <td>184</td>\n",
       "    </tr>\n",
       "    <tr>\n",
       "      <th>Wigan Athletic</th>\n",
       "      <td>57</td>\n",
       "    </tr>\n",
       "    <tr>\n",
       "      <th>Wolverhampton Wanderers</th>\n",
       "      <td>91</td>\n",
       "    </tr>\n",
       "  </tbody>\n",
       "</table>\n",
       "</div>"
      ],
      "text/plain": [
       "                          Num_Matches_a\n",
       "Team                                   \n",
       "AFC Bournemouth                      94\n",
       "Arsenal                             204\n",
       "Aston Villa                         147\n",
       "Birmingham City                      19\n",
       "Blackburn Rovers                     38\n",
       "Blackpool                            19\n",
       "Bolton Wanderers                     38\n",
       "Brighton and Hove Albion             70\n",
       "Burnley                             108\n",
       "Cardiff City                         38\n",
       "Chelsea                             204\n",
       "Crystal Palace                      146\n",
       "Everton                             203\n",
       "Fulham                              109\n",
       "Huddersfield Town                    38\n",
       "Hull City                            57\n",
       "Leeds United                         13\n",
       "Leicester City                      129\n",
       "Liverpool                           203\n",
       "Manchester City                     203\n",
       "Manchester United                   205\n",
       "Middlesbrough                        19\n",
       "Newcastle United                    185\n",
       "Norwich City                         95\n",
       "Queens Park Rangers                  57\n",
       "Reading                              19\n",
       "Sheffield United                     32\n",
       "Southampton                         166\n",
       "Stoke City                          152\n",
       "Sunderland                          133\n",
       "Swansea City                        133\n",
       "Tottenham Hotspur                   202\n",
       "Watford                              95\n",
       "West Bromwich Albion                165\n",
       "West Ham United                     184\n",
       "Wigan Athletic                       57\n",
       "Wolverhampton Wanderers              91"
      ]
     },
     "execution_count": 28,
     "metadata": {},
     "output_type": "execute_result"
    }
   ],
   "source": [
    "# Renaming the Link_Match column to Num_Matches_a\n",
    "away.columns = ['Num_Matches_a']\n",
    "away"
   ]
  },
  {
   "cell_type": "code",
   "execution_count": 29,
   "metadata": {
    "scrolled": false
   },
   "outputs": [
    {
     "data": {
      "text/html": [
       "<div>\n",
       "<style scoped>\n",
       "    .dataframe tbody tr th:only-of-type {\n",
       "        vertical-align: middle;\n",
       "    }\n",
       "\n",
       "    .dataframe tbody tr th {\n",
       "        vertical-align: top;\n",
       "    }\n",
       "\n",
       "    .dataframe thead th {\n",
       "        text-align: right;\n",
       "    }\n",
       "</style>\n",
       "<table border=\"1\" class=\"dataframe\">\n",
       "  <thead>\n",
       "    <tr style=\"text-align: right;\">\n",
       "      <th></th>\n",
       "      <th>Num_Matches_h</th>\n",
       "      <th>Num_Matches_a</th>\n",
       "    </tr>\n",
       "    <tr>\n",
       "      <th>Team</th>\n",
       "      <th></th>\n",
       "      <th></th>\n",
       "    </tr>\n",
       "  </thead>\n",
       "  <tbody>\n",
       "    <tr>\n",
       "      <th>AFC Bournemouth</th>\n",
       "      <td>95</td>\n",
       "      <td>94</td>\n",
       "    </tr>\n",
       "    <tr>\n",
       "      <th>Arsenal</th>\n",
       "      <td>203</td>\n",
       "      <td>204</td>\n",
       "    </tr>\n",
       "    <tr>\n",
       "      <th>Aston Villa</th>\n",
       "      <td>145</td>\n",
       "      <td>147</td>\n",
       "    </tr>\n",
       "    <tr>\n",
       "      <th>Birmingham City</th>\n",
       "      <td>19</td>\n",
       "      <td>19</td>\n",
       "    </tr>\n",
       "    <tr>\n",
       "      <th>Blackburn Rovers</th>\n",
       "      <td>38</td>\n",
       "      <td>38</td>\n",
       "    </tr>\n",
       "    <tr>\n",
       "      <th>Blackpool</th>\n",
       "      <td>19</td>\n",
       "      <td>19</td>\n",
       "    </tr>\n",
       "    <tr>\n",
       "      <th>Bolton Wanderers</th>\n",
       "      <td>38</td>\n",
       "      <td>38</td>\n",
       "    </tr>\n",
       "    <tr>\n",
       "      <th>Brighton and Hove Albion</th>\n",
       "      <td>71</td>\n",
       "      <td>70</td>\n",
       "    </tr>\n",
       "    <tr>\n",
       "      <th>Burnley</th>\n",
       "      <td>110</td>\n",
       "      <td>108</td>\n",
       "    </tr>\n",
       "    <tr>\n",
       "      <th>Cardiff City</th>\n",
       "      <td>38</td>\n",
       "      <td>38</td>\n",
       "    </tr>\n",
       "    <tr>\n",
       "      <th>Chelsea</th>\n",
       "      <td>203</td>\n",
       "      <td>204</td>\n",
       "    </tr>\n",
       "    <tr>\n",
       "      <th>Crystal Palace</th>\n",
       "      <td>146</td>\n",
       "      <td>146</td>\n",
       "    </tr>\n",
       "    <tr>\n",
       "      <th>Everton</th>\n",
       "      <td>203</td>\n",
       "      <td>203</td>\n",
       "    </tr>\n",
       "    <tr>\n",
       "      <th>Fulham</th>\n",
       "      <td>109</td>\n",
       "      <td>109</td>\n",
       "    </tr>\n",
       "    <tr>\n",
       "      <th>Huddersfield Town</th>\n",
       "      <td>38</td>\n",
       "      <td>38</td>\n",
       "    </tr>\n",
       "    <tr>\n",
       "      <th>Hull City</th>\n",
       "      <td>57</td>\n",
       "      <td>57</td>\n",
       "    </tr>\n",
       "    <tr>\n",
       "      <th>Leeds United</th>\n",
       "      <td>13</td>\n",
       "      <td>13</td>\n",
       "    </tr>\n",
       "    <tr>\n",
       "      <th>Leicester City</th>\n",
       "      <td>127</td>\n",
       "      <td>129</td>\n",
       "    </tr>\n",
       "    <tr>\n",
       "      <th>Liverpool</th>\n",
       "      <td>204</td>\n",
       "      <td>203</td>\n",
       "    </tr>\n",
       "    <tr>\n",
       "      <th>Manchester City</th>\n",
       "      <td>205</td>\n",
       "      <td>203</td>\n",
       "    </tr>\n",
       "    <tr>\n",
       "      <th>Manchester United</th>\n",
       "      <td>203</td>\n",
       "      <td>205</td>\n",
       "    </tr>\n",
       "    <tr>\n",
       "      <th>Middlesbrough</th>\n",
       "      <td>19</td>\n",
       "      <td>19</td>\n",
       "    </tr>\n",
       "    <tr>\n",
       "      <th>Newcastle United</th>\n",
       "      <td>184</td>\n",
       "      <td>185</td>\n",
       "    </tr>\n",
       "    <tr>\n",
       "      <th>Norwich City</th>\n",
       "      <td>95</td>\n",
       "      <td>95</td>\n",
       "    </tr>\n",
       "    <tr>\n",
       "      <th>Queens Park Rangers</th>\n",
       "      <td>57</td>\n",
       "      <td>57</td>\n",
       "    </tr>\n",
       "    <tr>\n",
       "      <th>Reading</th>\n",
       "      <td>19</td>\n",
       "      <td>19</td>\n",
       "    </tr>\n",
       "    <tr>\n",
       "      <th>Sheffield United</th>\n",
       "      <td>34</td>\n",
       "      <td>32</td>\n",
       "    </tr>\n",
       "    <tr>\n",
       "      <th>Southampton</th>\n",
       "      <td>165</td>\n",
       "      <td>166</td>\n",
       "    </tr>\n",
       "    <tr>\n",
       "      <th>Stoke City</th>\n",
       "      <td>152</td>\n",
       "      <td>152</td>\n",
       "    </tr>\n",
       "    <tr>\n",
       "      <th>Sunderland</th>\n",
       "      <td>133</td>\n",
       "      <td>133</td>\n",
       "    </tr>\n",
       "    <tr>\n",
       "      <th>Swansea City</th>\n",
       "      <td>133</td>\n",
       "      <td>133</td>\n",
       "    </tr>\n",
       "    <tr>\n",
       "      <th>Tottenham Hotspur</th>\n",
       "      <td>203</td>\n",
       "      <td>202</td>\n",
       "    </tr>\n",
       "    <tr>\n",
       "      <th>Watford</th>\n",
       "      <td>95</td>\n",
       "      <td>95</td>\n",
       "    </tr>\n",
       "    <tr>\n",
       "      <th>West Bromwich Albion</th>\n",
       "      <td>167</td>\n",
       "      <td>165</td>\n",
       "    </tr>\n",
       "    <tr>\n",
       "      <th>West Ham United</th>\n",
       "      <td>184</td>\n",
       "      <td>184</td>\n",
       "    </tr>\n",
       "    <tr>\n",
       "      <th>Wigan Athletic</th>\n",
       "      <td>57</td>\n",
       "      <td>57</td>\n",
       "    </tr>\n",
       "    <tr>\n",
       "      <th>Wolverhampton Wanderers</th>\n",
       "      <td>89</td>\n",
       "      <td>91</td>\n",
       "    </tr>\n",
       "  </tbody>\n",
       "</table>\n",
       "</div>"
      ],
      "text/plain": [
       "                          Num_Matches_h  Num_Matches_a\n",
       "Team                                                  \n",
       "AFC Bournemouth                      95             94\n",
       "Arsenal                             203            204\n",
       "Aston Villa                         145            147\n",
       "Birmingham City                      19             19\n",
       "Blackburn Rovers                     38             38\n",
       "Blackpool                            19             19\n",
       "Bolton Wanderers                     38             38\n",
       "Brighton and Hove Albion             71             70\n",
       "Burnley                             110            108\n",
       "Cardiff City                         38             38\n",
       "Chelsea                             203            204\n",
       "Crystal Palace                      146            146\n",
       "Everton                             203            203\n",
       "Fulham                              109            109\n",
       "Huddersfield Town                    38             38\n",
       "Hull City                            57             57\n",
       "Leeds United                         13             13\n",
       "Leicester City                      127            129\n",
       "Liverpool                           204            203\n",
       "Manchester City                     205            203\n",
       "Manchester United                   203            205\n",
       "Middlesbrough                        19             19\n",
       "Newcastle United                    184            185\n",
       "Norwich City                         95             95\n",
       "Queens Park Rangers                  57             57\n",
       "Reading                              19             19\n",
       "Sheffield United                     34             32\n",
       "Southampton                         165            166\n",
       "Stoke City                          152            152\n",
       "Sunderland                          133            133\n",
       "Swansea City                        133            133\n",
       "Tottenham Hotspur                   203            202\n",
       "Watford                              95             95\n",
       "West Bromwich Albion                167            165\n",
       "West Ham United                     184            184\n",
       "Wigan Athletic                       57             57\n",
       "Wolverhampton Wanderers              89             91"
      ]
     },
     "execution_count": 29,
     "metadata": {},
     "output_type": "execute_result"
    }
   ],
   "source": [
    "# Merging dataframes home and away into one dataframe called df_team\n",
    "df_team = pd.merge(home,away,on='Team')\n",
    "df_team"
   ]
  },
  {
   "cell_type": "code",
   "execution_count": 30,
   "metadata": {},
   "outputs": [
    {
     "data": {
      "text/html": [
       "<div>\n",
       "<style scoped>\n",
       "    .dataframe tbody tr th:only-of-type {\n",
       "        vertical-align: middle;\n",
       "    }\n",
       "\n",
       "    .dataframe tbody tr th {\n",
       "        vertical-align: top;\n",
       "    }\n",
       "\n",
       "    .dataframe thead th {\n",
       "        text-align: right;\n",
       "    }\n",
       "</style>\n",
       "<table border=\"1\" class=\"dataframe\">\n",
       "  <thead>\n",
       "    <tr style=\"text-align: right;\">\n",
       "      <th></th>\n",
       "      <th>Num_Matches_h</th>\n",
       "      <th>Num_Matches_a</th>\n",
       "      <th>Num_Matches</th>\n",
       "    </tr>\n",
       "    <tr>\n",
       "      <th>Team</th>\n",
       "      <th></th>\n",
       "      <th></th>\n",
       "      <th></th>\n",
       "    </tr>\n",
       "  </thead>\n",
       "  <tbody>\n",
       "    <tr>\n",
       "      <th>AFC Bournemouth</th>\n",
       "      <td>95</td>\n",
       "      <td>94</td>\n",
       "      <td>189</td>\n",
       "    </tr>\n",
       "    <tr>\n",
       "      <th>Arsenal</th>\n",
       "      <td>203</td>\n",
       "      <td>204</td>\n",
       "      <td>407</td>\n",
       "    </tr>\n",
       "    <tr>\n",
       "      <th>Aston Villa</th>\n",
       "      <td>145</td>\n",
       "      <td>147</td>\n",
       "      <td>292</td>\n",
       "    </tr>\n",
       "    <tr>\n",
       "      <th>Birmingham City</th>\n",
       "      <td>19</td>\n",
       "      <td>19</td>\n",
       "      <td>38</td>\n",
       "    </tr>\n",
       "    <tr>\n",
       "      <th>Blackburn Rovers</th>\n",
       "      <td>38</td>\n",
       "      <td>38</td>\n",
       "      <td>76</td>\n",
       "    </tr>\n",
       "    <tr>\n",
       "      <th>Blackpool</th>\n",
       "      <td>19</td>\n",
       "      <td>19</td>\n",
       "      <td>38</td>\n",
       "    </tr>\n",
       "    <tr>\n",
       "      <th>Bolton Wanderers</th>\n",
       "      <td>38</td>\n",
       "      <td>38</td>\n",
       "      <td>76</td>\n",
       "    </tr>\n",
       "    <tr>\n",
       "      <th>Brighton and Hove Albion</th>\n",
       "      <td>71</td>\n",
       "      <td>70</td>\n",
       "      <td>141</td>\n",
       "    </tr>\n",
       "    <tr>\n",
       "      <th>Burnley</th>\n",
       "      <td>110</td>\n",
       "      <td>108</td>\n",
       "      <td>218</td>\n",
       "    </tr>\n",
       "    <tr>\n",
       "      <th>Cardiff City</th>\n",
       "      <td>38</td>\n",
       "      <td>38</td>\n",
       "      <td>76</td>\n",
       "    </tr>\n",
       "    <tr>\n",
       "      <th>Chelsea</th>\n",
       "      <td>203</td>\n",
       "      <td>204</td>\n",
       "      <td>407</td>\n",
       "    </tr>\n",
       "    <tr>\n",
       "      <th>Crystal Palace</th>\n",
       "      <td>146</td>\n",
       "      <td>146</td>\n",
       "      <td>292</td>\n",
       "    </tr>\n",
       "    <tr>\n",
       "      <th>Everton</th>\n",
       "      <td>203</td>\n",
       "      <td>203</td>\n",
       "      <td>406</td>\n",
       "    </tr>\n",
       "    <tr>\n",
       "      <th>Fulham</th>\n",
       "      <td>109</td>\n",
       "      <td>109</td>\n",
       "      <td>218</td>\n",
       "    </tr>\n",
       "    <tr>\n",
       "      <th>Huddersfield Town</th>\n",
       "      <td>38</td>\n",
       "      <td>38</td>\n",
       "      <td>76</td>\n",
       "    </tr>\n",
       "    <tr>\n",
       "      <th>Hull City</th>\n",
       "      <td>57</td>\n",
       "      <td>57</td>\n",
       "      <td>114</td>\n",
       "    </tr>\n",
       "    <tr>\n",
       "      <th>Leeds United</th>\n",
       "      <td>13</td>\n",
       "      <td>13</td>\n",
       "      <td>26</td>\n",
       "    </tr>\n",
       "    <tr>\n",
       "      <th>Leicester City</th>\n",
       "      <td>127</td>\n",
       "      <td>129</td>\n",
       "      <td>256</td>\n",
       "    </tr>\n",
       "    <tr>\n",
       "      <th>Liverpool</th>\n",
       "      <td>204</td>\n",
       "      <td>203</td>\n",
       "      <td>407</td>\n",
       "    </tr>\n",
       "    <tr>\n",
       "      <th>Manchester City</th>\n",
       "      <td>205</td>\n",
       "      <td>203</td>\n",
       "      <td>408</td>\n",
       "    </tr>\n",
       "    <tr>\n",
       "      <th>Manchester United</th>\n",
       "      <td>203</td>\n",
       "      <td>205</td>\n",
       "      <td>408</td>\n",
       "    </tr>\n",
       "    <tr>\n",
       "      <th>Middlesbrough</th>\n",
       "      <td>19</td>\n",
       "      <td>19</td>\n",
       "      <td>38</td>\n",
       "    </tr>\n",
       "    <tr>\n",
       "      <th>Newcastle United</th>\n",
       "      <td>184</td>\n",
       "      <td>185</td>\n",
       "      <td>369</td>\n",
       "    </tr>\n",
       "    <tr>\n",
       "      <th>Norwich City</th>\n",
       "      <td>95</td>\n",
       "      <td>95</td>\n",
       "      <td>190</td>\n",
       "    </tr>\n",
       "    <tr>\n",
       "      <th>Queens Park Rangers</th>\n",
       "      <td>57</td>\n",
       "      <td>57</td>\n",
       "      <td>114</td>\n",
       "    </tr>\n",
       "    <tr>\n",
       "      <th>Reading</th>\n",
       "      <td>19</td>\n",
       "      <td>19</td>\n",
       "      <td>38</td>\n",
       "    </tr>\n",
       "    <tr>\n",
       "      <th>Sheffield United</th>\n",
       "      <td>34</td>\n",
       "      <td>32</td>\n",
       "      <td>66</td>\n",
       "    </tr>\n",
       "    <tr>\n",
       "      <th>Southampton</th>\n",
       "      <td>165</td>\n",
       "      <td>166</td>\n",
       "      <td>331</td>\n",
       "    </tr>\n",
       "    <tr>\n",
       "      <th>Stoke City</th>\n",
       "      <td>152</td>\n",
       "      <td>152</td>\n",
       "      <td>304</td>\n",
       "    </tr>\n",
       "    <tr>\n",
       "      <th>Sunderland</th>\n",
       "      <td>133</td>\n",
       "      <td>133</td>\n",
       "      <td>266</td>\n",
       "    </tr>\n",
       "    <tr>\n",
       "      <th>Swansea City</th>\n",
       "      <td>133</td>\n",
       "      <td>133</td>\n",
       "      <td>266</td>\n",
       "    </tr>\n",
       "    <tr>\n",
       "      <th>Tottenham Hotspur</th>\n",
       "      <td>203</td>\n",
       "      <td>202</td>\n",
       "      <td>405</td>\n",
       "    </tr>\n",
       "    <tr>\n",
       "      <th>Watford</th>\n",
       "      <td>95</td>\n",
       "      <td>95</td>\n",
       "      <td>190</td>\n",
       "    </tr>\n",
       "    <tr>\n",
       "      <th>West Bromwich Albion</th>\n",
       "      <td>167</td>\n",
       "      <td>165</td>\n",
       "      <td>332</td>\n",
       "    </tr>\n",
       "    <tr>\n",
       "      <th>West Ham United</th>\n",
       "      <td>184</td>\n",
       "      <td>184</td>\n",
       "      <td>368</td>\n",
       "    </tr>\n",
       "    <tr>\n",
       "      <th>Wigan Athletic</th>\n",
       "      <td>57</td>\n",
       "      <td>57</td>\n",
       "      <td>114</td>\n",
       "    </tr>\n",
       "    <tr>\n",
       "      <th>Wolverhampton Wanderers</th>\n",
       "      <td>89</td>\n",
       "      <td>91</td>\n",
       "      <td>180</td>\n",
       "    </tr>\n",
       "  </tbody>\n",
       "</table>\n",
       "</div>"
      ],
      "text/plain": [
       "                          Num_Matches_h  Num_Matches_a  Num_Matches\n",
       "Team                                                               \n",
       "AFC Bournemouth                      95             94          189\n",
       "Arsenal                             203            204          407\n",
       "Aston Villa                         145            147          292\n",
       "Birmingham City                      19             19           38\n",
       "Blackburn Rovers                     38             38           76\n",
       "Blackpool                            19             19           38\n",
       "Bolton Wanderers                     38             38           76\n",
       "Brighton and Hove Albion             71             70          141\n",
       "Burnley                             110            108          218\n",
       "Cardiff City                         38             38           76\n",
       "Chelsea                             203            204          407\n",
       "Crystal Palace                      146            146          292\n",
       "Everton                             203            203          406\n",
       "Fulham                              109            109          218\n",
       "Huddersfield Town                    38             38           76\n",
       "Hull City                            57             57          114\n",
       "Leeds United                         13             13           26\n",
       "Leicester City                      127            129          256\n",
       "Liverpool                           204            203          407\n",
       "Manchester City                     205            203          408\n",
       "Manchester United                   203            205          408\n",
       "Middlesbrough                        19             19           38\n",
       "Newcastle United                    184            185          369\n",
       "Norwich City                         95             95          190\n",
       "Queens Park Rangers                  57             57          114\n",
       "Reading                              19             19           38\n",
       "Sheffield United                     34             32           66\n",
       "Southampton                         165            166          331\n",
       "Stoke City                          152            152          304\n",
       "Sunderland                          133            133          266\n",
       "Swansea City                        133            133          266\n",
       "Tottenham Hotspur                   203            202          405\n",
       "Watford                              95             95          190\n",
       "West Bromwich Albion                167            165          332\n",
       "West Ham United                     184            184          368\n",
       "Wigan Athletic                       57             57          114\n",
       "Wolverhampton Wanderers              89             91          180"
      ]
     },
     "execution_count": 30,
     "metadata": {},
     "output_type": "execute_result"
    }
   ],
   "source": [
    "# Making a new column for total matches per team called Num_Matches\n",
    "df_team['Num_Matches'] = df_team['Num_Matches_h'] + df_team['Num_Matches_a']\n",
    "df_team"
   ]
  },
  {
   "cell_type": "code",
   "execution_count": 31,
   "metadata": {
    "scrolled": false
   },
   "outputs": [
    {
     "data": {
      "image/png": "[encoded data removed]",
      "text/plain": [
       "<Figure size 1440x720 with 1 Axes>"
      ]
     },
     "metadata": {
      "needs_background": "light"
     },
     "output_type": "display_data"
    }
   ],
   "source": [
    "# Sort teams by descending number of matches\n",
    "df_team = df_team.sort_values(by='Num_Matches',ascending=False)\n",
    "\n",
    "# Forming graph\n",
    "fig, ax = plt.subplots()\n",
    "df_team['Num_Matches'].plot.bar(ax=ax, figsize=(20,10))\n",
    "\n",
    "# Setting title and labels\n",
    "ax.set_title('Number of Matches per Premier League Team, 2010-2021', size=20, fontweight = 'bold')\n",
    "ax.set_xlabel('Premier League Team', size=16)\n",
    "ax.set_ylabel('Number of Matches', size=16)\n",
    "\n",
    "# Changing the size of the ticks \n",
    "plt.xticks(size = 14)\n",
    "plt.yticks(size = 14)\n",
    "\n",
    "# Add a grid\n",
    "ax.yaxis.grid(True)\n",
    "plt.show()"
   ]
  },
  {
   "cell_type": "markdown",
   "metadata": {},
   "source": [
    "As shown in the graph above, the top five teams - Manchester City, Manchester United, Liverpool, Chelsea, and Arsenal - are tied for the most amount of matches played in the last decade. Even though this analysis is not broken down by yearly season, we can assume that all five of these teams played every season. On the other hand the lowest five teams in terms of number of games played - Leeds United, Middlesbrough, Reading, Birmingham City, and Blackpool - were probably not part of the Premier League for the majority of the seasons. Each season, there are only twenty teams in the league, so we can assume that each of these teams probably only played one season."
   ]
  },
  {
   "cell_type": "markdown",
   "metadata": {},
   "source": [
    "### I. Comparing Match Result to Total Penalties"
   ]
  },
  {
   "cell_type": "markdown",
   "metadata": {},
   "source": [
    "First, we can compare the match result to the total number of offsides calls, yellow cards and red cards of both teams. In order to do so, we can look at the difference in goals between the two teams to see if the spread is bigger when the total number of each penalty is greater. The goals difference is given by the column \"Sg_Match_Ft\". Since the current season is still running, we decided to exclude it from our analysis, so we have 3799 observations in total. "
   ]
  },
  {
   "cell_type": "code",
   "execution_count": 40,
   "metadata": {},
   "outputs": [],
   "source": [
    "#Removing the current season\n",
    "df = df[df['Season'] != '20/21']  #We can also include it if you think it is more appropriate   \n",
    "\n",
    "#Convert difference in goals to absolute value \n",
    "df['Sg_Match_Ft'] = df['Sg_Match_Ft'].abs()\n",
    "\n",
    "#Convert home team and away team offsides, yellow cards and red cards to integer type \n",
    "df['Home_Offsides'] = df['Home_Offsides'].astype(int)\n",
    "df['Away_Offsides'] = df['Away_Offsides'].astype(int)\n",
    "df['Home_Yellow_Cards'] = df['Home_Yellow_Cards'].astype(int)\n",
    "df['Away_Yellow_Cards'] = df['Away_Yellow_Cards'].astype(int)\n",
    "df['Home_Red_Cards'] = df['Home_Red_Cards'].astype(int)\n",
    "df['Away_Red_Cards'] = df['Away_Red_Cards'].astype(int)\n",
    "\n",
    "#Add home team and away team offsides \n",
    "df['Total_Offsides'] = df['Home_Offsides'] + df['Away_Offsides']\n",
    "\n",
    "#Add home team and away team yellow cards \n",
    "df['Total_Yellow_Cards'] = df['Home_Yellow_Cards'] + df['Away_Yellow_Cards']\n",
    "\n",
    "#Add home team and away team red cards \n",
    "df['Total_Red_Cards'] = df['Home_Red_Cards'] + df['Away_Red_Cards']\n",
    "\n",
    "#For plotting purposes\n",
    "df['Match_Teams'] = df[['Home_Team', 'Away_Team']].apply(' -vs- '.join, axis=1)"
   ]
  },
  {
   "cell_type": "markdown",
   "metadata": {},
   "source": [
    "* #### Match Result vs. Total Offsides Calls"
   ]
  },
  {
   "cell_type": "markdown",
   "metadata": {},
   "source": [
    "A first approach to compare match results to the total number of offside calls is to look at the matches with the highest goals difference and the matches with the greatest number of offside calls. For example, we looked at the top 10 in the most recent completed season, 19/20. "
   ]
  },
  {
   "cell_type": "code",
   "execution_count": 83,
   "metadata": {
    "scrolled": false
   },
   "outputs": [
    {
     "data": {
      "image/png": "[encoded data removed]",
      "text/plain": [
       "<Figure size 432x288 with 1 Axes>"
      ]
     },
     "metadata": {
      "needs_background": "light"
     },
     "output_type": "display_data"
    },
    {
     "data": {
      "image/png": "[encoded data removed]",
      "text/plain": [
       "<Figure size 432x288 with 1 Axes>"
      ]
     },
     "metadata": {
      "needs_background": "light"
     },
     "output_type": "display_data"
    }
   ],
   "source": [
    "#Top 10 matches with the highest number of penalties for 19/20 season\n",
    "df_last_season = df.loc[ df['Season'] == '19/20'].set_index(['Match_Teams'])\n",
    "fig, ax = plt.subplots()\n",
    "df_last_season[['Total_Offsides']].sort_values('Total_Offsides', ascending = False).head(10).plot.barh(ax=ax, color = 'limegreen')\n",
    "ax.invert_yaxis()\n",
    "ax.set_title('Top 10 matches with the highest number of offsides calls for 19/20 season', fontweight = 'bold')\n",
    "ax.set_xlabel('Number of Offsides')\n",
    "ax.get_legend().remove()\n",
    "ax.yaxis.label.set_visible(False)\n",
    "\n",
    "\n",
    "#Top 10 matches with the highest difference in goals for 19/20 season\n",
    "fig, ax = plt.subplots()\n",
    "df_last_season[['Sg_Match_Ft']].sort_values('Sg_Match_Ft', ascending = False).head(10).plot.barh(ax=ax, color = 'darkorange')\n",
    "ax.invert_yaxis()\n",
    "ax.set_title('Top 10 matches with the highest difference in goals for 19/20 season', fontweight = 'bold')\n",
    "ax.get_legend().remove()\n",
    "ax.set_xlabel('Difference in Goals')\n",
    "ax.yaxis.label.set_visible(False)"
   ]
  },
  {
   "cell_type": "markdown",
   "metadata": {},
   "source": [
    "As we can see from the charts above, the top 10 matches with the most offsides are not the same as the matches with the greatest difference in goals scored, so it seems offsides calls do not have a big influence in the match result. We can also see how common offsides calls were during the last season to have a better idea whether or not they could potentially influence the match result."
   ]
  },
  {
   "cell_type": "code",
   "execution_count": 34,
   "metadata": {},
   "outputs": [
    {
     "data": {
      "text/plain": [
       "Total_Offsides\n",
       "0     14\n",
       "1     73\n",
       "2     54\n",
       "3     68\n",
       "4     69\n",
       "5     45\n",
       "6     30\n",
       "7     12\n",
       "8      6\n",
       "9      5\n",
       "10     2\n",
       "12     1\n",
       "13     1\n",
       "Name: Link_Match, dtype: int64"
      ]
     },
     "execution_count": 34,
     "metadata": {},
     "output_type": "execute_result"
    }
   ],
   "source": [
    "df_last_season.groupby('Total_Offsides')['Link_Match'].nunique()"
   ]
  },
  {
   "cell_type": "code",
   "execution_count": 35,
   "metadata": {},
   "outputs": [
    {
     "data": {
      "text/plain": [
       "1288"
      ]
     },
     "execution_count": 35,
     "metadata": {},
     "output_type": "execute_result"
    }
   ],
   "source": [
    "df_last_season['Total_Offsides'].sum()"
   ]
  },
  {
   "cell_type": "code",
   "execution_count": 63,
   "metadata": {},
   "outputs": [
    {
     "data": {
      "text/plain": [
       "3.389473684210526"
      ]
     },
     "execution_count": 63,
     "metadata": {},
     "output_type": "execute_result"
    }
   ],
   "source": [
    "df_last_season['Total_Offsides'].mean()"
   ]
  },
  {
   "cell_type": "markdown",
   "metadata": {},
   "source": [
    "We can see offside calls are actually pretty common. For the 380 matches in the season, there were 1288 offsides in total and on average there were 3.38 during each match. "
   ]
  },
  {
   "cell_type": "code",
   "execution_count": 53,
   "metadata": {},
   "outputs": [
    {
     "data": {
      "text/plain": [
       "Total_Offsides\n",
       "0     125\n",
       "1     342\n",
       "2     547\n",
       "3     689\n",
       "4     627\n",
       "5     461\n",
       "6     427\n",
       "7     245\n",
       "8     160\n",
       "9      85\n",
       "10     41\n",
       "11     20\n",
       "12     14\n",
       "13     10\n",
       "14      2\n",
       "15      3\n",
       "18      1\n",
       "Name: Link_Match, dtype: int64"
      ]
     },
     "execution_count": 53,
     "metadata": {},
     "output_type": "execute_result"
    }
   ],
   "source": [
    "df.groupby('Total_Offsides')['Link_Match'].nunique()"
   ]
  },
  {
   "cell_type": "code",
   "execution_count": 60,
   "metadata": {},
   "outputs": [
    {
     "data": {
      "text/plain": [
       "15657"
      ]
     },
     "execution_count": 60,
     "metadata": {},
     "output_type": "execute_result"
    }
   ],
   "source": [
    "df['Total_Offsides'].sum()"
   ]
  },
  {
   "cell_type": "code",
   "execution_count": 64,
   "metadata": {},
   "outputs": [
    {
     "data": {
      "text/plain": [
       "4.121347723085022"
      ]
     },
     "execution_count": 64,
     "metadata": {},
     "output_type": "execute_result"
    }
   ],
   "source": [
    "df['Total_Offsides'].mean()"
   ]
  },
  {
   "cell_type": "markdown",
   "metadata": {},
   "source": [
    "For the whole sample, offsides are also significant and the mean is even higher. Nonetheless, even if offsides are frequent, they seem to have a low impact in the match result. To prove this hypothesis, we can run a linear regression between the total number of offsides and the goals difference to see if there is any relationship "
   ]
  },
  {
   "cell_type": "code",
   "execution_count": 39,
   "metadata": {
    "scrolled": false
   },
   "outputs": [
    {
     "name": "stdout",
     "output_type": "stream",
     "text": [
      "                            OLS Regression Results                            \n",
      "==============================================================================\n",
      "Dep. Variable:            Sg_Match_Ft   R-squared:                       0.001\n",
      "Model:                            OLS   Adj. R-squared:                  0.000\n",
      "Method:                 Least Squares   F-statistic:                     2.648\n",
      "Date:                Fri, 14 May 2021   Prob (F-statistic):              0.104\n",
      "Time:                        02:14:02   Log-Likelihood:                -6192.3\n",
      "No. Observations:                3799   AIC:                         1.239e+04\n",
      "Df Residuals:                    3797   BIC:                         1.240e+04\n",
      "Df Model:                           1                                         \n",
      "Covariance Type:            nonrobust                                         \n",
      "==================================================================================\n",
      "                     coef    std err          t      P>|t|      [0.025      0.975]\n",
      "----------------------------------------------------------------------------------\n",
      "Intercept          1.4537      0.040     36.500      0.000       1.376       1.532\n",
      "Total_Offsides    -0.0136      0.008     -1.627      0.104      -0.030       0.003\n",
      "==============================================================================\n",
      "Omnibus:                      672.840   Durbin-Watson:                   2.001\n",
      "Prob(Omnibus):                  0.000   Jarque-Bera (JB):             1232.002\n",
      "Skew:                           1.106   Prob(JB):                    2.98e-268\n",
      "Kurtosis:                       4.699   Cond. No.                         9.79\n",
      "==============================================================================\n",
      "\n",
      "Warnings:\n",
      "[1] Standard Errors assume that the covariance matrix of the errors is correctly specified.\n"
     ]
    }
   ],
   "source": [
    "reg = smf.ols('Sg_Match_Ft ~ Total_Offsides',df).fit()\n",
    "print(reg.summary())"
   ]
  },
  {
   "cell_type": "markdown",
   "metadata": {},
   "source": [
    "As we can see from the regression results above, the coefficient on total offsides is small and it is not statistically significant since t statistic is less than 2 and p-value is greater than 5%. Therefore, we can say offside calls do not have a big impact on the match result "
   ]
  },
  {
   "cell_type": "code",
   "execution_count": null,
   "metadata": {},
   "outputs": [],
   "source": []
  },
  {
   "cell_type": "code",
   "execution_count": 74,
   "metadata": {},
   "outputs": [],
   "source": [
    "# I tried running a scatter plot but it wasn't super good\n",
    "# I also looked at each team's individual score in the match and their number of offsides in the match but the results were \n",
    "#   similar, so I dont know if it would be better to compare individually each team or the difference in goals. \n",
    "# We can also plot the teams that have had the most offsides(on average or on aggregate) but I am not sure if thats relevant \n",
    "#    for our central question\n"
   ]
  },
  {
   "cell_type": "markdown",
   "metadata": {},
   "source": [
    "* ####  Match Result vs. Total Yellow Cards\n"
   ]
  },
  {
   "cell_type": "markdown",
   "metadata": {},
   "source": [
    "We can first look at the average number of yellow cards there is in a match. "
   ]
  },
  {
   "cell_type": "code",
   "execution_count": 59,
   "metadata": {},
   "outputs": [
    {
     "data": {
      "text/plain": [
       "3.257436167412477"
      ]
     },
     "execution_count": 59,
     "metadata": {},
     "output_type": "execute_result"
    }
   ],
   "source": [
    "df['Total_Yellow_Cards'].mean()"
   ]
  },
  {
   "cell_type": "code",
   "execution_count": 49,
   "metadata": {},
   "outputs": [
    {
     "data": {
      "text/plain": [
       "12375"
      ]
     },
     "execution_count": 49,
     "metadata": {},
     "output_type": "execute_result"
    }
   ],
   "source": [
    "df['Total_Yellow_Cards'].sum()"
   ]
  },
  {
   "cell_type": "markdown",
   "metadata": {},
   "source": [
    "We can notice there have been less yellow cards in total compared to offsides calls and the average is lower. Nonetheless, we can see if they have a bigger impact on match results. Again, we can start by looking at the matches with the most yellow cards received during the match and the matches with the biggest goals difference. Let's use season 19/20 again as an example. "
   ]
  },
  {
   "cell_type": "code",
   "execution_count": 82,
   "metadata": {},
   "outputs": [
    {
     "data": {
      "image/png": "[encoded data removed]",
      "text/plain": [
       "<Figure size 432x288 with 1 Axes>"
      ]
     },
     "metadata": {
      "needs_background": "light"
     },
     "output_type": "display_data"
    },
    {
     "data": {
      "image/png": "[encoded data removed]",
      "text/plain": [
       "<Figure size 432x288 with 1 Axes>"
      ]
     },
     "metadata": {
      "needs_background": "light"
     },
     "output_type": "display_data"
    }
   ],
   "source": [
    "fig, ax = plt.subplots()\n",
    "df_last_season[['Total_Yellow_Cards']].sort_values('Total_Yellow_Cards', ascending = False).head(10).plot.barh(ax=ax, color = 'gold')\n",
    "ax.invert_yaxis()\n",
    "ax.set_title('Top 10 matches with the highest number of yellow cards for 19/20 season', fontweight = 'bold')\n",
    "ax.set_xlabel('Number of Yellow Cards')\n",
    "ax.yaxis.label.set_visible(False)\n",
    "ax.get_legend().remove()\n",
    "\n",
    "#Top 10 matches with the highest difference in goals for 19/20 season\n",
    "fig, ax = plt.subplots()\n",
    "df_last_season[['Sg_Match_Ft']].sort_values('Sg_Match_Ft', ascending = False).head(10).plot.barh(ax=ax, color = 'darkorange')\n",
    "ax.invert_yaxis()\n",
    "ax.set_title('Top 10 matches with the highest difference in goals for 19/20 season', fontweight = 'bold')\n",
    "ax.get_legend().remove()\n",
    "ax.set_xlabel('Difference in Goals')\n",
    "ax.yaxis.label.set_visible(False)"
   ]
  },
  {
   "cell_type": "markdown",
   "metadata": {},
   "source": [
    "From the graphs above, we can notice that, similar to offsides calls, yellow cards do not seem to be the main driver of scores differences. However, by running a linear regression we can see the coefficient on yellow cards is statistically significant although it does not add a lot of explanatory power to the difference in the scores.(R-square = 2.7%)   "
   ]
  },
  {
   "cell_type": "code",
   "execution_count": 66,
   "metadata": {},
   "outputs": [
    {
     "name": "stdout",
     "output_type": "stream",
     "text": [
      "                            OLS Regression Results                            \n",
      "==============================================================================\n",
      "Dep. Variable:            Sg_Match_Ft   R-squared:                       0.027\n",
      "Model:                            OLS   Adj. R-squared:                  0.027\n",
      "Method:                 Least Squares   F-statistic:                     104.9\n",
      "Date:                Fri, 14 May 2021   Prob (F-statistic):           2.67e-24\n",
      "Time:                        02:46:27   Log-Likelihood:                -6141.9\n",
      "No. Observations:                3799   AIC:                         1.229e+04\n",
      "Df Residuals:                    3797   BIC:                         1.230e+04\n",
      "Df Model:                           1                                         \n",
      "Covariance Type:            nonrobust                                         \n",
      "======================================================================================\n",
      "                         coef    std err          t      P>|t|      [0.025      0.975]\n",
      "--------------------------------------------------------------------------------------\n",
      "Intercept              1.7462      0.039     44.371      0.000       1.669       1.823\n",
      "Total_Yellow_Cards    -0.1070      0.010    -10.241      0.000      -0.127      -0.086\n",
      "==============================================================================\n",
      "Omnibus:                      642.395   Durbin-Watson:                   1.991\n",
      "Prob(Omnibus):                  0.000   Jarque-Bera (JB):             1162.553\n",
      "Skew:                           1.066   Prob(JB):                    3.59e-253\n",
      "Kurtosis:                       4.673   Cond. No.                         7.90\n",
      "==============================================================================\n",
      "\n",
      "Warnings:\n",
      "[1] Standard Errors assume that the covariance matrix of the errors is correctly specified.\n"
     ]
    }
   ],
   "source": [
    "reg = smf.ols('Sg_Match_Ft ~ Total_Yellow_Cards',df).fit()\n",
    "print(reg.summary())"
   ]
  },
  {
   "cell_type": "markdown",
   "metadata": {},
   "source": [
    "* #### Match Result vs. Total Red Cards\n"
   ]
  },
  {
   "cell_type": "code",
   "execution_count": 458,
   "metadata": {},
   "outputs": [
    {
     "data": {
      "text/plain": [
       "Total_Red_Cards\n",
       "0    3301\n",
       "1     456\n",
       "2      41\n",
       "3       1\n",
       "Name: Link_Match, dtype: int64"
      ]
     },
     "execution_count": 458,
     "metadata": {},
     "output_type": "execute_result"
    }
   ],
   "source": [
    "df.groupby('Total_Red_Cards')['Link_Match'].nunique()\n",
    "df_last_season.groupby('Total_Red_Cards')['Link_Match'].nunique()"
   ]
  },
  {
   "cell_type": "code",
   "execution_count": 459,
   "metadata": {},
   "outputs": [
    {
     "data": {
      "text/plain": [
       "Total_Red_Cards\n",
       "0    334\n",
       "1     44\n",
       "2      2\n",
       "Name: Link_Match, dtype: int64"
      ]
     },
     "execution_count": 459,
     "metadata": {},
     "output_type": "execute_result"
    }
   ],
   "source": [
    "df_last_season.groupby('Total_Red_Cards')['Link_Match'].nunique()"
   ]
  },
  {
   "cell_type": "markdown",
   "metadata": {},
   "source": [
    "We can observe red cards are not common compared to the previous penalties. In the whole sample we can see there was only one match where 3 red cards were given. In the last season, there were 2 matches with 2 red cards given during the match, 44 matches with 1 red card and the rest did not have any red cards. We can see if any of the 2 matches with 2 red cards is among the matches where the score gap was the highest.  "
   ]
  },
  {
   "cell_type": "code",
   "execution_count": 96,
   "metadata": {},
   "outputs": [
    {
     "data": {
      "image/png": "[encoded data removed]",
      "text/plain": [
       "<Figure size 504x144 with 1 Axes>"
      ]
     },
     "metadata": {
      "needs_background": "light"
     },
     "output_type": "display_data"
    },
    {
     "data": {
      "image/png": "[encoded data removed]",
      "text/plain": [
       "<Figure size 432x288 with 1 Axes>"
      ]
     },
     "metadata": {
      "needs_background": "light"
     },
     "output_type": "display_data"
    }
   ],
   "source": [
    "fig, ax = plt.subplots()\n",
    "df_last_season[['Total_Red_Cards']].sort_values('Total_Red_Cards', ascending = False).head(2).plot.barh(ax=ax, color = 'red', figsize=(7,2))\n",
    "ax.invert_yaxis()\n",
    "ax.set_title('Top 10 matches with the highest number of red cards for 19/20 season', fontweight = 'bold')\n",
    "ax.set_xlabel('Number of red cards')\n",
    "ax.yaxis.label.set_visible(False)\n",
    "ax.get_legend().remove()\n",
    "ax.set_xticks(np.arange(0, 3, 1))\n",
    "\n",
    "#Top 10 matches with the highest difference in goals for 19/20 season\n",
    "fig, ax = plt.subplots()\n",
    "df_last_season[['Sg_Match_Ft']].sort_values('Sg_Match_Ft', ascending = False).head(10).plot.barh(ax=ax, color = 'darkorange')\n",
    "ax.invert_yaxis()\n",
    "ax.set_title('Top 10 matches with the highest difference in goals for 19/20 season', fontweight = 'bold')\n",
    "ax.get_legend().remove()\n",
    "ax.set_xlabel('Difference in Goals')\n",
    "ax.yaxis.label.set_visible(False)"
   ]
  },
  {
   "cell_type": "markdown",
   "metadata": {},
   "source": [
    "We can notice that neither of the matches with 2 red cards during that season is among those matches where the goals difference is higher. Therefore, we can infer other factors had a bigger influence in those match results. For instance, we can look at the Southampton vs Leicester City where the score was 0-9. According to the premier league website stats for this match (https://www.premierleague.com/match/46702), Leicester City had a higher ball possession percentage, more shots, touches and passes, which seem to be factors that better explain the match result. However, the Southampton team did get a red card, which might have influenced the match result to a certain extent.      "
   ]
  },
  {
   "cell_type": "code",
   "execution_count": null,
   "metadata": {},
   "outputs": [],
   "source": []
  },
  {
   "cell_type": "markdown",
   "metadata": {},
   "source": [
    "* #### Match Result vs. Total Penalties\n"
   ]
  },
  {
   "cell_type": "markdown",
   "metadata": {},
   "source": [
    "Finally, we can run a regression that includes all penalties to see if together they are more helpful at predicting the match result. "
   ]
  },
  {
   "cell_type": "code",
   "execution_count": 42,
   "metadata": {},
   "outputs": [
    {
     "name": "stdout",
     "output_type": "stream",
     "text": [
      "                            OLS Regression Results                            \n",
      "==============================================================================\n",
      "Dep. Variable:            Sg_Match_Ft   R-squared:                       0.028\n",
      "Model:                            OLS   Adj. R-squared:                  0.028\n",
      "Method:                 Least Squares   F-statistic:                     37.09\n",
      "Date:                Fri, 14 May 2021   Prob (F-statistic):           1.28e-23\n",
      "Time:                        02:15:55   Log-Likelihood:                -6138.7\n",
      "No. Observations:                3799   AIC:                         1.229e+04\n",
      "Df Residuals:                    3795   BIC:                         1.231e+04\n",
      "Df Model:                           3                                         \n",
      "Covariance Type:            nonrobust                                         \n",
      "======================================================================================\n",
      "                         coef    std err          t      P>|t|      [0.025      0.975]\n",
      "--------------------------------------------------------------------------------------\n",
      "Intercept              1.8000      0.053     34.255      0.000       1.697       1.903\n",
      "Total_Offsides        -0.0150      0.008     -1.818      0.069      -0.031       0.001\n",
      "Total_Yellow_Cards    -0.1085      0.010    -10.366      0.000      -0.129      -0.088\n",
      "Total_Red_Cards        0.0899      0.052      1.729      0.084      -0.012       0.192\n",
      "==============================================================================\n",
      "Omnibus:                      634.442   Durbin-Watson:                   1.993\n",
      "Prob(Omnibus):                  0.000   Jarque-Bera (JB):             1138.547\n",
      "Skew:                           1.058   Prob(JB):                    5.86e-248\n",
      "Kurtosis:                       4.647   Cond. No.                         16.1\n",
      "==============================================================================\n",
      "\n",
      "Warnings:\n",
      "[1] Standard Errors assume that the covariance matrix of the errors is correctly specified.\n"
     ]
    }
   ],
   "source": [
    "reg = smf.ols('Sg_Match_Ft ~ Total_Offsides + Total_Yellow_Cards + Total_Red_Cards',df).fit()\n",
    "print(reg.summary())"
   ]
  },
  {
   "cell_type": "code",
   "execution_count": null,
   "metadata": {},
   "outputs": [],
   "source": []
  },
  {
   "cell_type": "code",
   "execution_count": null,
   "metadata": {},
   "outputs": [],
   "source": []
  },
  {
   "cell_type": "code",
   "execution_count": 97,
   "metadata": {},
   "outputs": [
    {
     "data": {
      "text/plain": [
       "Sg_Match_Ft\n",
       "0     936\n",
       "1    1402\n",
       "2     832\n",
       "3     389\n",
       "4     155\n",
       "5      63\n",
       "6      17\n",
       "7       1\n",
       "8       3\n",
       "9       1\n",
       "Name: Link_Match, dtype: int64"
      ]
     },
     "execution_count": 97,
     "metadata": {},
     "output_type": "execute_result"
    }
   ],
   "source": [
    "df.groupby('Sg_Match_Ft')['Link_Match'].nunique()"
   ]
  },
  {
   "cell_type": "markdown",
   "metadata": {},
   "source": [
    "* #### Predictive Model"
   ]
  },
  {
   "cell_type": "markdown",
   "metadata": {},
   "source": [
    "### II. Comparing Match Result to Difference in Penalties\n",
    "* Match Result vs. Difference in Penalties\n",
    "* Match Result vs. Difference in Offsides Calls\n",
    "* Match Result vs. Difference in Yellow Cards\n",
    "* Match Result vs. Difference in Red Cards\n",
    "* Predictive Model"
   ]
  },
  {
   "cell_type": "code",
   "execution_count": null,
   "metadata": {},
   "outputs": [],
   "source": []
  }
 ],
 "metadata": {
  "kernelspec": {
   "display_name": "Python 3",
   "language": "python",
   "name": "python3"
  },
  "language_info": {
   "codemirror_mode": {
    "name": "ipython",
    "version": 3
   },
   "file_extension": ".py",
   "mimetype": "text/x-python",
   "name": "python",
   "nbconvert_exporter": "python",
   "pygments_lexer": "ipython3",
   "version": "3.8.3"
  }
 },
 "nbformat": 4,
 "nbformat_minor": 4
}
