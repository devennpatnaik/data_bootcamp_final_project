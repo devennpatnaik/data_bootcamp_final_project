{
 "cells": [
  {
   "cell_type": "markdown",
   "metadata": {},
   "source": [
    "## Data Bootcamp Final Project\n",
    "##### *Deven Patnaik, Catherine Sang, and Salomon Ruiz*\n",
    "\n",
    "This dataset (cited in README.md) describes each Premier League soccer match in the 2010 through 2021 seasons. With this data, we seek to answer the question, \"Do penalties affect the result of a match?\" We define \"penalties\" as offsides calls, yellow cards, and red cards. We examine this question by 1) comparing the result of each match to the total penalties of the match and 2) comparing the result of each match to the teams' difference in penalties.\n",
    "\n",
    "Hypotheses:\n",
    "* Comparing Match Result to Total Penalties: Each penalty type has a statistically significant negative correlation with match result. Total penalties has a statistically significant negative correlation with match result.\n",
    "* Comparing Match Result to Difference in Penalties: Each difference in penalty type has a statistically significant negative correlation with match result. Difference in total penalties has a statistically significant negative correlation with match result. \n",
    "\n",
    "We chose this data not because we are interested in the Premier League, but because we are curious about the relevance our question to other sports. Understanding the relevance of penalties to scores in soccer might hint a their relevance in football, basketball, and hockey."
   ]
  },
  {
   "cell_type": "markdown",
   "metadata": {},
   "source": [
    "### Contents\n",
    "\n",
    "*i. Reading in the Data*\n",
    "\n",
    "*ii. Shaping, Cleaning, and Filtering*\n",
    "\n",
    "*iii. Understanding the Dataset and Making Assumptions*\n",
    "\n",
    "I. Comparing Match Result to Total Penalties \n",
    "* Match Result vs. Total Offsides Calls\n",
    "* Match Result vs. Total Yellow Cards\n",
    "* Match Result vs. Total Red Cards\n",
    "* Match Result vs. Total Penalties\n",
    "* Supervised Learning Models\n",
    "\n",
    "II. Comparing Match Result to Difference in Penalties\n",
    "* Match Result vs. Difference in Offsides Calls\n",
    "* Match Result vs. Difference in Yellow Cards\n",
    "* Match Result vs. Difference in Red Cards\n",
    "* Match Result vs. Difference in Total Penalties\n",
    "* Supervised Learning Models\n",
    "\n",
    "V. Discussion"
   ]
  },
  {
   "cell_type": "markdown",
   "metadata": {},
   "source": [
    "#### *i. Reading in the Data*"
   ]
  },
  {
   "cell_type": "code",
   "execution_count": 1,
   "metadata": {},
   "outputs": [
    {
     "data": {
      "text/html": [
       "<div>\n",
       "<style scoped>\n",
       "    .dataframe tbody tr th:only-of-type {\n",
       "        vertical-align: middle;\n",
       "    }\n",
       "\n",
       "    .dataframe tbody tr th {\n",
       "        vertical-align: top;\n",
       "    }\n",
       "\n",
       "    .dataframe thead th {\n",
       "        text-align: right;\n",
       "    }\n",
       "</style>\n",
       "<table border=\"1\" class=\"dataframe\">\n",
       "  <thead>\n",
       "    <tr style=\"text-align: right;\">\n",
       "      <th></th>\n",
       "      <th>Unnamed: 0</th>\n",
       "      <th>link_match</th>\n",
       "      <th>season</th>\n",
       "      <th>date</th>\n",
       "      <th>home_team</th>\n",
       "      <th>away_team</th>\n",
       "      <th>result_full</th>\n",
       "      <th>result_ht</th>\n",
       "      <th>home_clearances</th>\n",
       "      <th>home_corners</th>\n",
       "      <th>...</th>\n",
       "      <th>tackles_avg_away</th>\n",
       "      <th>touches_avg_away</th>\n",
       "      <th>yellow_cards_avg_away</th>\n",
       "      <th>goals_scored_ft_avg_away</th>\n",
       "      <th>goals_conced_ft_avg_away</th>\n",
       "      <th>sg_match_ft_acum_away</th>\n",
       "      <th>goals_scored_ht_avg_away</th>\n",
       "      <th>goals_conced_ht_avg_away</th>\n",
       "      <th>sg_match_ht_acum_away</th>\n",
       "      <th>performance_acum_away</th>\n",
       "    </tr>\n",
       "  </thead>\n",
       "  <tbody>\n",
       "    <tr>\n",
       "      <th>0</th>\n",
       "      <td>0</td>\n",
       "      <td>https://www.premierleague.com/match/7186</td>\n",
       "      <td>10/11</td>\n",
       "      <td>2010-11-01</td>\n",
       "      <td>Blackpool</td>\n",
       "      <td>West Bromwich Albion</td>\n",
       "      <td>2-1</td>\n",
       "      <td>1-0</td>\n",
       "      <td>15.0</td>\n",
       "      <td>8.0</td>\n",
       "      <td>...</td>\n",
       "      <td>20.0</td>\n",
       "      <td>584.9</td>\n",
       "      <td>1.6</td>\n",
       "      <td>1.44</td>\n",
       "      <td>1.67</td>\n",
       "      <td>-2.0</td>\n",
       "      <td>0.33</td>\n",
       "      <td>0.78</td>\n",
       "      <td>-4.0</td>\n",
       "      <td>55.6</td>\n",
       "    </tr>\n",
       "    <tr>\n",
       "      <th>1</th>\n",
       "      <td>1</td>\n",
       "      <td>https://www.premierleague.com/match/7404</td>\n",
       "      <td>10/11</td>\n",
       "      <td>2011-04-11</td>\n",
       "      <td>Liverpool</td>\n",
       "      <td>Manchester City</td>\n",
       "      <td>3-0</td>\n",
       "      <td>3-0</td>\n",
       "      <td>16.0</td>\n",
       "      <td>6.0</td>\n",
       "      <td>...</td>\n",
       "      <td>22.0</td>\n",
       "      <td>681.4</td>\n",
       "      <td>2.0</td>\n",
       "      <td>1.61</td>\n",
       "      <td>0.87</td>\n",
       "      <td>23.0</td>\n",
       "      <td>0.87</td>\n",
       "      <td>0.32</td>\n",
       "      <td>17.0</td>\n",
       "      <td>60.2</td>\n",
       "    </tr>\n",
       "    <tr>\n",
       "      <th>2</th>\n",
       "      <td>2</td>\n",
       "      <td>https://www.premierleague.com/match/7255</td>\n",
       "      <td>10/11</td>\n",
       "      <td>2010-12-13</td>\n",
       "      <td>Manchester United</td>\n",
       "      <td>Arsenal</td>\n",
       "      <td>1-0</td>\n",
       "      <td>1-0</td>\n",
       "      <td>26.0</td>\n",
       "      <td>5.0</td>\n",
       "      <td>...</td>\n",
       "      <td>21.2</td>\n",
       "      <td>748.0</td>\n",
       "      <td>1.8</td>\n",
       "      <td>2.12</td>\n",
       "      <td>1.12</td>\n",
       "      <td>16.0</td>\n",
       "      <td>0.94</td>\n",
       "      <td>0.38</td>\n",
       "      <td>9.0</td>\n",
       "      <td>66.7</td>\n",
       "    </tr>\n",
       "    <tr>\n",
       "      <th>3</th>\n",
       "      <td>3</td>\n",
       "      <td>https://www.premierleague.com/match/7126</td>\n",
       "      <td>10/11</td>\n",
       "      <td>2010-09-13</td>\n",
       "      <td>Stoke City</td>\n",
       "      <td>Aston Villa</td>\n",
       "      <td>2-1</td>\n",
       "      <td>0-1</td>\n",
       "      <td>26.0</td>\n",
       "      <td>8.0</td>\n",
       "      <td>...</td>\n",
       "      <td>25.0</td>\n",
       "      <td>567.3</td>\n",
       "      <td>2.0</td>\n",
       "      <td>1.33</td>\n",
       "      <td>2.00</td>\n",
       "      <td>-2.0</td>\n",
       "      <td>1.00</td>\n",
       "      <td>1.00</td>\n",
       "      <td>0.0</td>\n",
       "      <td>66.7</td>\n",
       "    </tr>\n",
       "    <tr>\n",
       "      <th>4</th>\n",
       "      <td>4</td>\n",
       "      <td>https://www.premierleague.com/match/7350</td>\n",
       "      <td>10/11</td>\n",
       "      <td>2011-02-14</td>\n",
       "      <td>Fulham</td>\n",
       "      <td>Chelsea</td>\n",
       "      <td>0-0</td>\n",
       "      <td>0-0</td>\n",
       "      <td>50.0</td>\n",
       "      <td>4.0</td>\n",
       "      <td>...</td>\n",
       "      <td>19.4</td>\n",
       "      <td>728.6</td>\n",
       "      <td>1.4</td>\n",
       "      <td>1.84</td>\n",
       "      <td>0.88</td>\n",
       "      <td>24.0</td>\n",
       "      <td>0.84</td>\n",
       "      <td>0.48</td>\n",
       "      <td>9.0</td>\n",
       "      <td>58.7</td>\n",
       "    </tr>\n",
       "    <tr>\n",
       "      <th>...</th>\n",
       "      <td>...</td>\n",
       "      <td>...</td>\n",
       "      <td>...</td>\n",
       "      <td>...</td>\n",
       "      <td>...</td>\n",
       "      <td>...</td>\n",
       "      <td>...</td>\n",
       "      <td>...</td>\n",
       "      <td>...</td>\n",
       "      <td>...</td>\n",
       "      <td>...</td>\n",
       "      <td>...</td>\n",
       "      <td>...</td>\n",
       "      <td>...</td>\n",
       "      <td>...</td>\n",
       "      <td>...</td>\n",
       "      <td>...</td>\n",
       "      <td>...</td>\n",
       "      <td>...</td>\n",
       "      <td>...</td>\n",
       "      <td>...</td>\n",
       "    </tr>\n",
       "    <tr>\n",
       "      <th>4065</th>\n",
       "      <td>4065</td>\n",
       "      <td>https://www.premierleague.com/match/59113</td>\n",
       "      <td>20/21</td>\n",
       "      <td>2021-02-03</td>\n",
       "      <td>Liverpool</td>\n",
       "      <td>Brighton and Hove Albion</td>\n",
       "      <td>0-1</td>\n",
       "      <td>0-0</td>\n",
       "      <td>15.0</td>\n",
       "      <td>5.0</td>\n",
       "      <td>...</td>\n",
       "      <td>16.8</td>\n",
       "      <td>651.0</td>\n",
       "      <td>1.5</td>\n",
       "      <td>1.10</td>\n",
       "      <td>1.38</td>\n",
       "      <td>-6.0</td>\n",
       "      <td>0.52</td>\n",
       "      <td>0.67</td>\n",
       "      <td>-3.0</td>\n",
       "      <td>33.3</td>\n",
       "    </tr>\n",
       "    <tr>\n",
       "      <th>4066</th>\n",
       "      <td>4066</td>\n",
       "      <td>https://www.premierleague.com/match/59177</td>\n",
       "      <td>20/21</td>\n",
       "      <td>2021-03-03</td>\n",
       "      <td>Burnley</td>\n",
       "      <td>Leicester City</td>\n",
       "      <td>1-1</td>\n",
       "      <td>1-1</td>\n",
       "      <td>13.0</td>\n",
       "      <td>5.0</td>\n",
       "      <td>...</td>\n",
       "      <td>17.7</td>\n",
       "      <td>679.0</td>\n",
       "      <td>1.8</td>\n",
       "      <td>1.73</td>\n",
       "      <td>1.15</td>\n",
       "      <td>15.0</td>\n",
       "      <td>0.77</td>\n",
       "      <td>0.58</td>\n",
       "      <td>5.0</td>\n",
       "      <td>62.8</td>\n",
       "    </tr>\n",
       "    <tr>\n",
       "      <th>4067</th>\n",
       "      <td>4067</td>\n",
       "      <td>https://www.premierleague.com/match/59178</td>\n",
       "      <td>20/21</td>\n",
       "      <td>2021-03-03</td>\n",
       "      <td>Crystal Palace</td>\n",
       "      <td>Manchester United</td>\n",
       "      <td>0-0</td>\n",
       "      <td>0-0</td>\n",
       "      <td>25.0</td>\n",
       "      <td>4.0</td>\n",
       "      <td>...</td>\n",
       "      <td>14.9</td>\n",
       "      <td>742.6</td>\n",
       "      <td>1.6</td>\n",
       "      <td>2.04</td>\n",
       "      <td>1.23</td>\n",
       "      <td>21.0</td>\n",
       "      <td>0.85</td>\n",
       "      <td>0.69</td>\n",
       "      <td>4.0</td>\n",
       "      <td>64.1</td>\n",
       "    </tr>\n",
       "    <tr>\n",
       "      <th>4068</th>\n",
       "      <td>4068</td>\n",
       "      <td>https://www.premierleague.com/match/59182</td>\n",
       "      <td>20/21</td>\n",
       "      <td>2021-03-03</td>\n",
       "      <td>Sheffield United</td>\n",
       "      <td>Aston Villa</td>\n",
       "      <td>1-0</td>\n",
       "      <td>1-0</td>\n",
       "      <td>47.0</td>\n",
       "      <td>2.0</td>\n",
       "      <td>...</td>\n",
       "      <td>13.3</td>\n",
       "      <td>587.0</td>\n",
       "      <td>1.7</td>\n",
       "      <td>1.58</td>\n",
       "      <td>1.08</td>\n",
       "      <td>12.0</td>\n",
       "      <td>0.67</td>\n",
       "      <td>0.42</td>\n",
       "      <td>6.0</td>\n",
       "      <td>54.2</td>\n",
       "    </tr>\n",
       "    <tr>\n",
       "      <th>4069</th>\n",
       "      <td>4069</td>\n",
       "      <td>https://www.premierleague.com/match/59052</td>\n",
       "      <td>20/21</td>\n",
       "      <td>2020-12-30</td>\n",
       "      <td>Newcastle United</td>\n",
       "      <td>Liverpool</td>\n",
       "      <td>0-0</td>\n",
       "      <td>0-0</td>\n",
       "      <td>52.0</td>\n",
       "      <td>5.0</td>\n",
       "      <td>...</td>\n",
       "      <td>13.1</td>\n",
       "      <td>844.5</td>\n",
       "      <td>0.7</td>\n",
       "      <td>2.47</td>\n",
       "      <td>1.33</td>\n",
       "      <td>17.0</td>\n",
       "      <td>1.20</td>\n",
       "      <td>0.87</td>\n",
       "      <td>5.0</td>\n",
       "      <td>71.1</td>\n",
       "    </tr>\n",
       "  </tbody>\n",
       "</table>\n",
       "<p>4070 rows × 114 columns</p>\n",
       "</div>"
      ],
      "text/plain": [
       "      Unnamed: 0                                 link_match season  \\\n",
       "0              0   https://www.premierleague.com/match/7186  10/11   \n",
       "1              1   https://www.premierleague.com/match/7404  10/11   \n",
       "2              2   https://www.premierleague.com/match/7255  10/11   \n",
       "3              3   https://www.premierleague.com/match/7126  10/11   \n",
       "4              4   https://www.premierleague.com/match/7350  10/11   \n",
       "...          ...                                        ...    ...   \n",
       "4065        4065  https://www.premierleague.com/match/59113  20/21   \n",
       "4066        4066  https://www.premierleague.com/match/59177  20/21   \n",
       "4067        4067  https://www.premierleague.com/match/59178  20/21   \n",
       "4068        4068  https://www.premierleague.com/match/59182  20/21   \n",
       "4069        4069  https://www.premierleague.com/match/59052  20/21   \n",
       "\n",
       "            date          home_team                 away_team result_full  \\\n",
       "0     2010-11-01          Blackpool      West Bromwich Albion         2-1   \n",
       "1     2011-04-11          Liverpool           Manchester City         3-0   \n",
       "2     2010-12-13  Manchester United                   Arsenal         1-0   \n",
       "3     2010-09-13         Stoke City               Aston Villa         2-1   \n",
       "4     2011-02-14             Fulham                   Chelsea         0-0   \n",
       "...          ...                ...                       ...         ...   \n",
       "4065  2021-02-03          Liverpool  Brighton and Hove Albion         0-1   \n",
       "4066  2021-03-03            Burnley            Leicester City         1-1   \n",
       "4067  2021-03-03     Crystal Palace         Manchester United         0-0   \n",
       "4068  2021-03-03   Sheffield United               Aston Villa         1-0   \n",
       "4069  2020-12-30   Newcastle United                 Liverpool         0-0   \n",
       "\n",
       "     result_ht  home_clearances  home_corners  ...  tackles_avg_away  \\\n",
       "0          1-0             15.0           8.0  ...              20.0   \n",
       "1          3-0             16.0           6.0  ...              22.0   \n",
       "2          1-0             26.0           5.0  ...              21.2   \n",
       "3          0-1             26.0           8.0  ...              25.0   \n",
       "4          0-0             50.0           4.0  ...              19.4   \n",
       "...        ...              ...           ...  ...               ...   \n",
       "4065       0-0             15.0           5.0  ...              16.8   \n",
       "4066       1-1             13.0           5.0  ...              17.7   \n",
       "4067       0-0             25.0           4.0  ...              14.9   \n",
       "4068       1-0             47.0           2.0  ...              13.3   \n",
       "4069       0-0             52.0           5.0  ...              13.1   \n",
       "\n",
       "      touches_avg_away  yellow_cards_avg_away  goals_scored_ft_avg_away  \\\n",
       "0                584.9                    1.6                      1.44   \n",
       "1                681.4                    2.0                      1.61   \n",
       "2                748.0                    1.8                      2.12   \n",
       "3                567.3                    2.0                      1.33   \n",
       "4                728.6                    1.4                      1.84   \n",
       "...                ...                    ...                       ...   \n",
       "4065             651.0                    1.5                      1.10   \n",
       "4066             679.0                    1.8                      1.73   \n",
       "4067             742.6                    1.6                      2.04   \n",
       "4068             587.0                    1.7                      1.58   \n",
       "4069             844.5                    0.7                      2.47   \n",
       "\n",
       "      goals_conced_ft_avg_away  sg_match_ft_acum_away  \\\n",
       "0                         1.67                   -2.0   \n",
       "1                         0.87                   23.0   \n",
       "2                         1.12                   16.0   \n",
       "3                         2.00                   -2.0   \n",
       "4                         0.88                   24.0   \n",
       "...                        ...                    ...   \n",
       "4065                      1.38                   -6.0   \n",
       "4066                      1.15                   15.0   \n",
       "4067                      1.23                   21.0   \n",
       "4068                      1.08                   12.0   \n",
       "4069                      1.33                   17.0   \n",
       "\n",
       "      goals_scored_ht_avg_away  goals_conced_ht_avg_away  \\\n",
       "0                         0.33                      0.78   \n",
       "1                         0.87                      0.32   \n",
       "2                         0.94                      0.38   \n",
       "3                         1.00                      1.00   \n",
       "4                         0.84                      0.48   \n",
       "...                        ...                       ...   \n",
       "4065                      0.52                      0.67   \n",
       "4066                      0.77                      0.58   \n",
       "4067                      0.85                      0.69   \n",
       "4068                      0.67                      0.42   \n",
       "4069                      1.20                      0.87   \n",
       "\n",
       "      sg_match_ht_acum_away  performance_acum_away  \n",
       "0                      -4.0                   55.6  \n",
       "1                      17.0                   60.2  \n",
       "2                       9.0                   66.7  \n",
       "3                       0.0                   66.7  \n",
       "4                       9.0                   58.7  \n",
       "...                     ...                    ...  \n",
       "4065                   -3.0                   33.3  \n",
       "4066                    5.0                   62.8  \n",
       "4067                    4.0                   64.1  \n",
       "4068                    6.0                   54.2  \n",
       "4069                    5.0                   71.1  \n",
       "\n",
       "[4070 rows x 114 columns]"
      ]
     },
     "execution_count": 1,
     "metadata": {},
     "output_type": "execute_result"
    }
   ],
   "source": [
    "import numpy as np\n",
    "import pandas as pd                    \n",
    "import matplotlib as mpl               \n",
    "import datetime as dt                  \n",
    "import matplotlib.pyplot as plt\n",
    "import statsmodels.formula.api as smf\n",
    "from sklearn.linear_model import LogisticRegression as logreg\n",
    "from sklearn.neighbors import KNeighborsRegressor as knn\n",
    "from sklearn.model_selection import cross_val_score\n",
    "from sklearn.ensemble import RandomForestRegressor as rf\n",
    "%matplotlib inline\n",
    "df = pd.read_csv('df_full_premierleague.csv')\n",
    "df"
   ]
  },
  {
   "cell_type": "markdown",
   "metadata": {},
   "source": [
    "#### *ii. Shaping, Cleaning, and Filtering* \n",
    "* Title all columns\n",
    "* Convert date to datetime format\n",
    "* Delete matches with null, infinite, and empty values\n",
    "* Reindex by date"
   ]
  },
  {
   "cell_type": "code",
   "execution_count": 2,
   "metadata": {},
   "outputs": [],
   "source": [
    "# Title all columns\n",
    "df.columns = [i.title() for i in df.columns]"
   ]
  },
  {
   "cell_type": "code",
   "execution_count": 3,
   "metadata": {},
   "outputs": [],
   "source": [
    "# Convert date to datetime format\n",
    "df['Date'] = pd.to_datetime(df['Date'])"
   ]
  },
  {
   "cell_type": "code",
   "execution_count": 4,
   "metadata": {},
   "outputs": [],
   "source": [
    "# Sort dataframe by date in chronological order\n",
    "df = df.sort_values(by=['Date'])"
   ]
  },
  {
   "cell_type": "code",
   "execution_count": 5,
   "metadata": {},
   "outputs": [],
   "source": [
    "# Delete matches with null, infinite, and empty values\n",
    "df = df.replace([np.inf, -np.inf, 'empty'], np.nan)\n",
    "df = df.dropna()"
   ]
  },
  {
   "cell_type": "code",
   "execution_count": 6,
   "metadata": {},
   "outputs": [
    {
     "data": {
      "text/html": [
       "<div>\n",
       "<style scoped>\n",
       "    .dataframe tbody tr th:only-of-type {\n",
       "        vertical-align: middle;\n",
       "    }\n",
       "\n",
       "    .dataframe tbody tr th {\n",
       "        vertical-align: top;\n",
       "    }\n",
       "\n",
       "    .dataframe thead th {\n",
       "        text-align: right;\n",
       "    }\n",
       "</style>\n",
       "<table border=\"1\" class=\"dataframe\">\n",
       "  <thead>\n",
       "    <tr style=\"text-align: right;\">\n",
       "      <th></th>\n",
       "      <th>Unnamed: 0</th>\n",
       "      <th>Link_Match</th>\n",
       "      <th>Season</th>\n",
       "      <th>Date</th>\n",
       "      <th>Home_Team</th>\n",
       "      <th>Away_Team</th>\n",
       "      <th>Result_Full</th>\n",
       "      <th>Result_Ht</th>\n",
       "      <th>Home_Clearances</th>\n",
       "      <th>Home_Corners</th>\n",
       "      <th>...</th>\n",
       "      <th>Tackles_Avg_Away</th>\n",
       "      <th>Touches_Avg_Away</th>\n",
       "      <th>Yellow_Cards_Avg_Away</th>\n",
       "      <th>Goals_Scored_Ft_Avg_Away</th>\n",
       "      <th>Goals_Conced_Ft_Avg_Away</th>\n",
       "      <th>Sg_Match_Ft_Acum_Away</th>\n",
       "      <th>Goals_Scored_Ht_Avg_Away</th>\n",
       "      <th>Goals_Conced_Ht_Avg_Away</th>\n",
       "      <th>Sg_Match_Ht_Acum_Away</th>\n",
       "      <th>Performance_Acum_Away</th>\n",
       "    </tr>\n",
       "    <tr>\n",
       "      <th>Date</th>\n",
       "      <th></th>\n",
       "      <th></th>\n",
       "      <th></th>\n",
       "      <th></th>\n",
       "      <th></th>\n",
       "      <th></th>\n",
       "      <th></th>\n",
       "      <th></th>\n",
       "      <th></th>\n",
       "      <th></th>\n",
       "      <th></th>\n",
       "      <th></th>\n",
       "      <th></th>\n",
       "      <th></th>\n",
       "      <th></th>\n",
       "      <th></th>\n",
       "      <th></th>\n",
       "      <th></th>\n",
       "      <th></th>\n",
       "      <th></th>\n",
       "      <th></th>\n",
       "    </tr>\n",
       "  </thead>\n",
       "  <tbody>\n",
       "    <tr>\n",
       "      <th>2010-08-28</th>\n",
       "      <td>177</td>\n",
       "      <td>https://www.premierleague.com/match/7110</td>\n",
       "      <td>10/11</td>\n",
       "      <td>2010-08-28</td>\n",
       "      <td>Manchester United</td>\n",
       "      <td>West Ham United</td>\n",
       "      <td>3-0</td>\n",
       "      <td>1-0</td>\n",
       "      <td>18.0</td>\n",
       "      <td>9.0</td>\n",
       "      <td>...</td>\n",
       "      <td>13.5</td>\n",
       "      <td>550.5</td>\n",
       "      <td>2.0</td>\n",
       "      <td>0.50</td>\n",
       "      <td>3.00</td>\n",
       "      <td>-5.0</td>\n",
       "      <td>0.00</td>\n",
       "      <td>1.00</td>\n",
       "      <td>-2.0</td>\n",
       "      <td>0.0</td>\n",
       "    </tr>\n",
       "    <tr>\n",
       "      <th>2010-08-28</th>\n",
       "      <td>174</td>\n",
       "      <td>https://www.premierleague.com/match/7107</td>\n",
       "      <td>10/11</td>\n",
       "      <td>2010-08-28</td>\n",
       "      <td>Blackburn Rovers</td>\n",
       "      <td>Arsenal</td>\n",
       "      <td>1-2</td>\n",
       "      <td>1-1</td>\n",
       "      <td>32.0</td>\n",
       "      <td>4.0</td>\n",
       "      <td>...</td>\n",
       "      <td>17.0</td>\n",
       "      <td>781.0</td>\n",
       "      <td>1.0</td>\n",
       "      <td>3.50</td>\n",
       "      <td>0.50</td>\n",
       "      <td>6.0</td>\n",
       "      <td>1.50</td>\n",
       "      <td>0.00</td>\n",
       "      <td>3.0</td>\n",
       "      <td>66.7</td>\n",
       "    </tr>\n",
       "    <tr>\n",
       "      <th>2010-08-28</th>\n",
       "      <td>176</td>\n",
       "      <td>https://www.premierleague.com/match/7109</td>\n",
       "      <td>10/11</td>\n",
       "      <td>2010-08-28</td>\n",
       "      <td>Chelsea</td>\n",
       "      <td>Stoke City</td>\n",
       "      <td>2-0</td>\n",
       "      <td>1-0</td>\n",
       "      <td>24.0</td>\n",
       "      <td>6.0</td>\n",
       "      <td>...</td>\n",
       "      <td>18.0</td>\n",
       "      <td>465.5</td>\n",
       "      <td>2.5</td>\n",
       "      <td>1.00</td>\n",
       "      <td>2.00</td>\n",
       "      <td>-2.0</td>\n",
       "      <td>0.50</td>\n",
       "      <td>2.00</td>\n",
       "      <td>-3.0</td>\n",
       "      <td>0.0</td>\n",
       "    </tr>\n",
       "    <tr>\n",
       "      <th>2010-08-28</th>\n",
       "      <td>179</td>\n",
       "      <td>https://www.premierleague.com/match/7112</td>\n",
       "      <td>10/11</td>\n",
       "      <td>2010-08-28</td>\n",
       "      <td>Wolverhampton Wanderers</td>\n",
       "      <td>Newcastle United</td>\n",
       "      <td>1-1</td>\n",
       "      <td>1-0</td>\n",
       "      <td>35.0</td>\n",
       "      <td>5.0</td>\n",
       "      <td>...</td>\n",
       "      <td>20.0</td>\n",
       "      <td>549.0</td>\n",
       "      <td>2.5</td>\n",
       "      <td>3.00</td>\n",
       "      <td>1.50</td>\n",
       "      <td>3.0</td>\n",
       "      <td>1.50</td>\n",
       "      <td>1.00</td>\n",
       "      <td>1.0</td>\n",
       "      <td>50.0</td>\n",
       "    </tr>\n",
       "    <tr>\n",
       "      <th>2010-08-29</th>\n",
       "      <td>300</td>\n",
       "      <td>https://www.premierleague.com/match/7113</td>\n",
       "      <td>10/11</td>\n",
       "      <td>2010-08-29</td>\n",
       "      <td>Aston Villa</td>\n",
       "      <td>Everton</td>\n",
       "      <td>1-0</td>\n",
       "      <td>1-0</td>\n",
       "      <td>50.0</td>\n",
       "      <td>4.0</td>\n",
       "      <td>...</td>\n",
       "      <td>16.0</td>\n",
       "      <td>679.5</td>\n",
       "      <td>1.0</td>\n",
       "      <td>0.50</td>\n",
       "      <td>1.00</td>\n",
       "      <td>-1.0</td>\n",
       "      <td>0.50</td>\n",
       "      <td>0.50</td>\n",
       "      <td>0.0</td>\n",
       "      <td>16.7</td>\n",
       "    </tr>\n",
       "    <tr>\n",
       "      <th>...</th>\n",
       "      <td>...</td>\n",
       "      <td>...</td>\n",
       "      <td>...</td>\n",
       "      <td>...</td>\n",
       "      <td>...</td>\n",
       "      <td>...</td>\n",
       "      <td>...</td>\n",
       "      <td>...</td>\n",
       "      <td>...</td>\n",
       "      <td>...</td>\n",
       "      <td>...</td>\n",
       "      <td>...</td>\n",
       "      <td>...</td>\n",
       "      <td>...</td>\n",
       "      <td>...</td>\n",
       "      <td>...</td>\n",
       "      <td>...</td>\n",
       "      <td>...</td>\n",
       "      <td>...</td>\n",
       "      <td>...</td>\n",
       "      <td>...</td>\n",
       "    </tr>\n",
       "    <tr>\n",
       "      <th>2021-03-06</th>\n",
       "      <td>3923</td>\n",
       "      <td>https://www.premierleague.com/match/59157</td>\n",
       "      <td>20/21</td>\n",
       "      <td>2021-03-06</td>\n",
       "      <td>Brighton and Hove Albion</td>\n",
       "      <td>Leicester City</td>\n",
       "      <td>1-2</td>\n",
       "      <td>1-0</td>\n",
       "      <td>5.0</td>\n",
       "      <td>6.0</td>\n",
       "      <td>...</td>\n",
       "      <td>17.4</td>\n",
       "      <td>681.5</td>\n",
       "      <td>1.8</td>\n",
       "      <td>1.70</td>\n",
       "      <td>1.15</td>\n",
       "      <td>15.0</td>\n",
       "      <td>0.78</td>\n",
       "      <td>0.59</td>\n",
       "      <td>5.0</td>\n",
       "      <td>61.7</td>\n",
       "    </tr>\n",
       "    <tr>\n",
       "      <th>2021-03-06</th>\n",
       "      <td>3924</td>\n",
       "      <td>https://www.premierleague.com/match/59158</td>\n",
       "      <td>20/21</td>\n",
       "      <td>2021-03-06</td>\n",
       "      <td>Burnley</td>\n",
       "      <td>Arsenal</td>\n",
       "      <td>1-1</td>\n",
       "      <td>1-1</td>\n",
       "      <td>16.0</td>\n",
       "      <td>2.0</td>\n",
       "      <td>...</td>\n",
       "      <td>11.5</td>\n",
       "      <td>689.1</td>\n",
       "      <td>1.4</td>\n",
       "      <td>1.31</td>\n",
       "      <td>1.04</td>\n",
       "      <td>7.0</td>\n",
       "      <td>0.65</td>\n",
       "      <td>0.65</td>\n",
       "      <td>0.0</td>\n",
       "      <td>47.4</td>\n",
       "    </tr>\n",
       "    <tr>\n",
       "      <th>2021-03-07</th>\n",
       "      <td>4008</td>\n",
       "      <td>https://www.premierleague.com/match/59164</td>\n",
       "      <td>20/21</td>\n",
       "      <td>2021-03-07</td>\n",
       "      <td>West Bromwich Albion</td>\n",
       "      <td>Newcastle United</td>\n",
       "      <td>0-0</td>\n",
       "      <td>0-0</td>\n",
       "      <td>21.0</td>\n",
       "      <td>9.0</td>\n",
       "      <td>...</td>\n",
       "      <td>13.7</td>\n",
       "      <td>526.8</td>\n",
       "      <td>1.8</td>\n",
       "      <td>1.04</td>\n",
       "      <td>1.69</td>\n",
       "      <td>-17.0</td>\n",
       "      <td>0.35</td>\n",
       "      <td>0.69</td>\n",
       "      <td>-9.0</td>\n",
       "      <td>33.3</td>\n",
       "    </tr>\n",
       "    <tr>\n",
       "      <th>2021-03-07</th>\n",
       "      <td>4006</td>\n",
       "      <td>https://www.premierleague.com/match/59160</td>\n",
       "      <td>20/21</td>\n",
       "      <td>2021-03-07</td>\n",
       "      <td>Liverpool</td>\n",
       "      <td>Fulham</td>\n",
       "      <td>0-1</td>\n",
       "      <td>0-1</td>\n",
       "      <td>13.0</td>\n",
       "      <td>9.0</td>\n",
       "      <td>...</td>\n",
       "      <td>14.4</td>\n",
       "      <td>675.7</td>\n",
       "      <td>1.8</td>\n",
       "      <td>0.78</td>\n",
       "      <td>1.22</td>\n",
       "      <td>-12.0</td>\n",
       "      <td>0.37</td>\n",
       "      <td>0.59</td>\n",
       "      <td>-6.0</td>\n",
       "      <td>28.4</td>\n",
       "    </tr>\n",
       "    <tr>\n",
       "      <th>2021-03-07</th>\n",
       "      <td>4007</td>\n",
       "      <td>https://www.premierleague.com/match/59161</td>\n",
       "      <td>20/21</td>\n",
       "      <td>2021-03-07</td>\n",
       "      <td>Manchester City</td>\n",
       "      <td>Manchester United</td>\n",
       "      <td>0-2</td>\n",
       "      <td>0-1</td>\n",
       "      <td>7.0</td>\n",
       "      <td>6.0</td>\n",
       "      <td>...</td>\n",
       "      <td>14.6</td>\n",
       "      <td>744.0</td>\n",
       "      <td>1.5</td>\n",
       "      <td>1.96</td>\n",
       "      <td>1.19</td>\n",
       "      <td>21.0</td>\n",
       "      <td>0.81</td>\n",
       "      <td>0.67</td>\n",
       "      <td>4.0</td>\n",
       "      <td>63.0</td>\n",
       "    </tr>\n",
       "  </tbody>\n",
       "</table>\n",
       "<p>3841 rows × 114 columns</p>\n",
       "</div>"
      ],
      "text/plain": [
       "            Unnamed: 0                                 Link_Match Season  \\\n",
       "Date                                                                       \n",
       "2010-08-28         177   https://www.premierleague.com/match/7110  10/11   \n",
       "2010-08-28         174   https://www.premierleague.com/match/7107  10/11   \n",
       "2010-08-28         176   https://www.premierleague.com/match/7109  10/11   \n",
       "2010-08-28         179   https://www.premierleague.com/match/7112  10/11   \n",
       "2010-08-29         300   https://www.premierleague.com/match/7113  10/11   \n",
       "...                ...                                        ...    ...   \n",
       "2021-03-06        3923  https://www.premierleague.com/match/59157  20/21   \n",
       "2021-03-06        3924  https://www.premierleague.com/match/59158  20/21   \n",
       "2021-03-07        4008  https://www.premierleague.com/match/59164  20/21   \n",
       "2021-03-07        4006  https://www.premierleague.com/match/59160  20/21   \n",
       "2021-03-07        4007  https://www.premierleague.com/match/59161  20/21   \n",
       "\n",
       "                 Date                 Home_Team          Away_Team  \\\n",
       "Date                                                                 \n",
       "2010-08-28 2010-08-28         Manchester United    West Ham United   \n",
       "2010-08-28 2010-08-28          Blackburn Rovers            Arsenal   \n",
       "2010-08-28 2010-08-28                   Chelsea         Stoke City   \n",
       "2010-08-28 2010-08-28   Wolverhampton Wanderers   Newcastle United   \n",
       "2010-08-29 2010-08-29               Aston Villa            Everton   \n",
       "...               ...                       ...                ...   \n",
       "2021-03-06 2021-03-06  Brighton and Hove Albion     Leicester City   \n",
       "2021-03-06 2021-03-06                   Burnley            Arsenal   \n",
       "2021-03-07 2021-03-07      West Bromwich Albion   Newcastle United   \n",
       "2021-03-07 2021-03-07                 Liverpool             Fulham   \n",
       "2021-03-07 2021-03-07           Manchester City  Manchester United   \n",
       "\n",
       "           Result_Full Result_Ht  Home_Clearances  Home_Corners  ...  \\\n",
       "Date                                                             ...   \n",
       "2010-08-28         3-0       1-0             18.0           9.0  ...   \n",
       "2010-08-28         1-2       1-1             32.0           4.0  ...   \n",
       "2010-08-28         2-0       1-0             24.0           6.0  ...   \n",
       "2010-08-28         1-1       1-0             35.0           5.0  ...   \n",
       "2010-08-29         1-0       1-0             50.0           4.0  ...   \n",
       "...                ...       ...              ...           ...  ...   \n",
       "2021-03-06         1-2       1-0              5.0           6.0  ...   \n",
       "2021-03-06         1-1       1-1             16.0           2.0  ...   \n",
       "2021-03-07         0-0       0-0             21.0           9.0  ...   \n",
       "2021-03-07         0-1       0-1             13.0           9.0  ...   \n",
       "2021-03-07         0-2       0-1              7.0           6.0  ...   \n",
       "\n",
       "            Tackles_Avg_Away  Touches_Avg_Away  Yellow_Cards_Avg_Away  \\\n",
       "Date                                                                    \n",
       "2010-08-28              13.5             550.5                    2.0   \n",
       "2010-08-28              17.0             781.0                    1.0   \n",
       "2010-08-28              18.0             465.5                    2.5   \n",
       "2010-08-28              20.0             549.0                    2.5   \n",
       "2010-08-29              16.0             679.5                    1.0   \n",
       "...                      ...               ...                    ...   \n",
       "2021-03-06              17.4             681.5                    1.8   \n",
       "2021-03-06              11.5             689.1                    1.4   \n",
       "2021-03-07              13.7             526.8                    1.8   \n",
       "2021-03-07              14.4             675.7                    1.8   \n",
       "2021-03-07              14.6             744.0                    1.5   \n",
       "\n",
       "            Goals_Scored_Ft_Avg_Away  Goals_Conced_Ft_Avg_Away  \\\n",
       "Date                                                             \n",
       "2010-08-28                      0.50                      3.00   \n",
       "2010-08-28                      3.50                      0.50   \n",
       "2010-08-28                      1.00                      2.00   \n",
       "2010-08-28                      3.00                      1.50   \n",
       "2010-08-29                      0.50                      1.00   \n",
       "...                              ...                       ...   \n",
       "2021-03-06                      1.70                      1.15   \n",
       "2021-03-06                      1.31                      1.04   \n",
       "2021-03-07                      1.04                      1.69   \n",
       "2021-03-07                      0.78                      1.22   \n",
       "2021-03-07                      1.96                      1.19   \n",
       "\n",
       "            Sg_Match_Ft_Acum_Away  Goals_Scored_Ht_Avg_Away  \\\n",
       "Date                                                          \n",
       "2010-08-28                   -5.0                      0.00   \n",
       "2010-08-28                    6.0                      1.50   \n",
       "2010-08-28                   -2.0                      0.50   \n",
       "2010-08-28                    3.0                      1.50   \n",
       "2010-08-29                   -1.0                      0.50   \n",
       "...                           ...                       ...   \n",
       "2021-03-06                   15.0                      0.78   \n",
       "2021-03-06                    7.0                      0.65   \n",
       "2021-03-07                  -17.0                      0.35   \n",
       "2021-03-07                  -12.0                      0.37   \n",
       "2021-03-07                   21.0                      0.81   \n",
       "\n",
       "            Goals_Conced_Ht_Avg_Away  Sg_Match_Ht_Acum_Away  \\\n",
       "Date                                                          \n",
       "2010-08-28                      1.00                   -2.0   \n",
       "2010-08-28                      0.00                    3.0   \n",
       "2010-08-28                      2.00                   -3.0   \n",
       "2010-08-28                      1.00                    1.0   \n",
       "2010-08-29                      0.50                    0.0   \n",
       "...                              ...                    ...   \n",
       "2021-03-06                      0.59                    5.0   \n",
       "2021-03-06                      0.65                    0.0   \n",
       "2021-03-07                      0.69                   -9.0   \n",
       "2021-03-07                      0.59                   -6.0   \n",
       "2021-03-07                      0.67                    4.0   \n",
       "\n",
       "            Performance_Acum_Away  \n",
       "Date                               \n",
       "2010-08-28                    0.0  \n",
       "2010-08-28                   66.7  \n",
       "2010-08-28                    0.0  \n",
       "2010-08-28                   50.0  \n",
       "2010-08-29                   16.7  \n",
       "...                           ...  \n",
       "2021-03-06                   61.7  \n",
       "2021-03-06                   47.4  \n",
       "2021-03-07                   33.3  \n",
       "2021-03-07                   28.4  \n",
       "2021-03-07                   63.0  \n",
       "\n",
       "[3841 rows x 114 columns]"
      ]
     },
     "execution_count": 6,
     "metadata": {},
     "output_type": "execute_result"
    }
   ],
   "source": [
    "# Reindex by date\n",
    "df = df.set_index(df['Date'])\n",
    "df"
   ]
  },
  {
   "cell_type": "markdown",
   "metadata": {},
   "source": [
    "#### *iii. Understanding the Dataset and Making Assumptions*\n",
    "\n",
    "* Interpreting the Home Team vs Away Team Columns\n",
    "* Testing to Confirm the Dataset is at the Match Level\n",
    "* Testing to Confirm the Columns, Goal_Home_Ft and Goal_Away_Ft, match up with Result_Full\n",
    "* Understanding the Size of Dataset\n",
    "<br>\n",
    "&nbsp;&nbsp;&nbsp;&nbsp;&nbsp;&nbsp; Number of Seasons\n",
    "<br>\n",
    "&nbsp;&nbsp;&nbsp;&nbsp;&nbsp;&nbsp; Number of Matches per Season\n",
    "<br>\n",
    "&nbsp;&nbsp;&nbsp;&nbsp;&nbsp;&nbsp; Number of Matches per Team\n"
   ]
  },
  {
   "cell_type": "code",
   "execution_count": 7,
   "metadata": {},
   "outputs": [
    {
     "data": {
      "text/plain": [
       "True"
      ]
     },
     "execution_count": 7,
     "metadata": {},
     "output_type": "execute_result"
    }
   ],
   "source": [
    "# Testing to see if the unique values of the Home Team column equal the unique values of the Away Team column\n",
    "np.array_equal(np.sort(df['Home_Team'].unique()),np.sort(df['Away_Team'].unique()))"
   ]
  },
  {
   "cell_type": "markdown",
   "metadata": {},
   "source": [
    "Because the numpy array_equal function returned true, that means that the unique values of the Home Team column equal the Away Team column. This makes sense because every season the Premier League sets a schedule deciding which team plays as the home team and which team plays as the away team."
   ]
  },
  {
   "cell_type": "code",
   "execution_count": 8,
   "metadata": {
    "scrolled": true
   },
   "outputs": [
    {
     "data": {
      "text/plain": [
       "3841"
      ]
     },
     "execution_count": 8,
     "metadata": {},
     "output_type": "execute_result"
    }
   ],
   "source": [
    "# Testing to see if there are any repeat matches\n",
    "df['Link_Match'].nunique()"
   ]
  },
  {
   "cell_type": "markdown",
   "metadata": {},
   "source": [
    "There are 3841 unique match links and 3841 rows in our cleaned dataframe, so we can assume that the dataset is at the match level meaning each row represents a unique match."
   ]
  },
  {
   "cell_type": "code",
   "execution_count": 9,
   "metadata": {},
   "outputs": [
    {
     "data": {
      "text/plain": [
       "11"
      ]
     },
     "execution_count": 9,
     "metadata": {},
     "output_type": "execute_result"
    }
   ],
   "source": [
    "# Finding the number of seasons in the dataset\n",
    "df['Season'].nunique()"
   ]
  },
  {
   "cell_type": "code",
   "execution_count": 10,
   "metadata": {},
   "outputs": [
    {
     "data": {
      "text/plain": [
       "array(['10/11', '11/12', '12/13', '13/14', '14/15', '15/16', '16/17',\n",
       "       '17/18', '18/19', '19/20', '20/21'], dtype=object)"
      ]
     },
     "execution_count": 10,
     "metadata": {},
     "output_type": "execute_result"
    }
   ],
   "source": [
    "# Finding the unique seasons in the dataset\n",
    "df['Season'].unique()"
   ]
  },
  {
   "cell_type": "markdown",
   "metadata": {},
   "source": [
    "There are 11 seasons represented in this dataset from the 2010-2011 season to the 2020-2021 season."
   ]
  },
  {
   "cell_type": "code",
   "execution_count": 11,
   "metadata": {},
   "outputs": [
    {
     "data": {
      "text/plain": [
       "dtype('O')"
      ]
     },
     "execution_count": 11,
     "metadata": {},
     "output_type": "execute_result"
    }
   ],
   "source": [
    "# Finding data type of Column Result_Full\n",
    "df['Result_Full'].dtype"
   ]
  },
  {
   "cell_type": "code",
   "execution_count": 12,
   "metadata": {
    "scrolled": true
   },
   "outputs": [
    {
     "data": {
      "text/plain": [
       "Date\n",
       "2010-08-28    3\n",
       "2010-08-28    1\n",
       "2010-08-28    2\n",
       "2010-08-28    1\n",
       "2010-08-29    1\n",
       "             ..\n",
       "2021-03-06    1\n",
       "2021-03-06    1\n",
       "2021-03-07    0\n",
       "2021-03-07    0\n",
       "2021-03-07    0\n",
       "Name: Result_Full, Length: 3841, dtype: object"
      ]
     },
     "execution_count": 12,
     "metadata": {},
     "output_type": "execute_result"
    }
   ],
   "source": [
    "# Slicing Result_Full to get the first number of the score, the number of goals scored by the home team\n",
    "Result_Home = df['Result_Full'].str.strip().str.slice(start=0,stop=1) \n",
    "Result_Home"
   ]
  },
  {
   "cell_type": "code",
   "execution_count": 13,
   "metadata": {},
   "outputs": [
    {
     "data": {
      "text/html": [
       "<div>\n",
       "<style scoped>\n",
       "    .dataframe tbody tr th:only-of-type {\n",
       "        vertical-align: middle;\n",
       "    }\n",
       "\n",
       "    .dataframe tbody tr th {\n",
       "        vertical-align: top;\n",
       "    }\n",
       "\n",
       "    .dataframe thead th {\n",
       "        text-align: right;\n",
       "    }\n",
       "</style>\n",
       "<table border=\"1\" class=\"dataframe\">\n",
       "  <thead>\n",
       "    <tr style=\"text-align: right;\">\n",
       "      <th></th>\n",
       "      <th>Result_Full</th>\n",
       "    </tr>\n",
       "    <tr>\n",
       "      <th>Date</th>\n",
       "      <th></th>\n",
       "    </tr>\n",
       "  </thead>\n",
       "  <tbody>\n",
       "    <tr>\n",
       "      <th>2010-08-28</th>\n",
       "      <td>3</td>\n",
       "    </tr>\n",
       "    <tr>\n",
       "      <th>2010-08-28</th>\n",
       "      <td>1</td>\n",
       "    </tr>\n",
       "    <tr>\n",
       "      <th>2010-08-28</th>\n",
       "      <td>2</td>\n",
       "    </tr>\n",
       "    <tr>\n",
       "      <th>2010-08-28</th>\n",
       "      <td>1</td>\n",
       "    </tr>\n",
       "    <tr>\n",
       "      <th>2010-08-29</th>\n",
       "      <td>1</td>\n",
       "    </tr>\n",
       "    <tr>\n",
       "      <th>...</th>\n",
       "      <td>...</td>\n",
       "    </tr>\n",
       "    <tr>\n",
       "      <th>2021-03-06</th>\n",
       "      <td>1</td>\n",
       "    </tr>\n",
       "    <tr>\n",
       "      <th>2021-03-06</th>\n",
       "      <td>1</td>\n",
       "    </tr>\n",
       "    <tr>\n",
       "      <th>2021-03-07</th>\n",
       "      <td>0</td>\n",
       "    </tr>\n",
       "    <tr>\n",
       "      <th>2021-03-07</th>\n",
       "      <td>0</td>\n",
       "    </tr>\n",
       "    <tr>\n",
       "      <th>2021-03-07</th>\n",
       "      <td>0</td>\n",
       "    </tr>\n",
       "  </tbody>\n",
       "</table>\n",
       "<p>3841 rows × 1 columns</p>\n",
       "</div>"
      ],
      "text/plain": [
       "           Result_Full\n",
       "Date                  \n",
       "2010-08-28           3\n",
       "2010-08-28           1\n",
       "2010-08-28           2\n",
       "2010-08-28           1\n",
       "2010-08-29           1\n",
       "...                ...\n",
       "2021-03-06           1\n",
       "2021-03-06           1\n",
       "2021-03-07           0\n",
       "2021-03-07           0\n",
       "2021-03-07           0\n",
       "\n",
       "[3841 rows x 1 columns]"
      ]
     },
     "execution_count": 13,
     "metadata": {},
     "output_type": "execute_result"
    }
   ],
   "source": [
    "# Turning Result_Home into a dataframe\n",
    "df_temp = pd.DataFrame(Result_Home)\n",
    "df_temp"
   ]
  },
  {
   "cell_type": "code",
   "execution_count": 14,
   "metadata": {},
   "outputs": [],
   "source": [
    "# Converting Result_Full column into integer objects\n",
    "df_temp['Result_Full'] = df_temp['Result_Full'].astype(int)"
   ]
  },
  {
   "cell_type": "code",
   "execution_count": 15,
   "metadata": {},
   "outputs": [],
   "source": [
    "# Converting Goal_Home_Ft column into integer objects\n",
    "df['Goal_Home_Ft'] = df['Goal_Home_Ft'].astype(int)"
   ]
  },
  {
   "cell_type": "code",
   "execution_count": 16,
   "metadata": {
    "scrolled": true
   },
   "outputs": [
    {
     "data": {
      "text/plain": [
       "True"
      ]
     },
     "execution_count": 16,
     "metadata": {},
     "output_type": "execute_result"
    }
   ],
   "source": [
    "# Testing to Confirm the Columns, Goal_Home_Ft and Goal_Away_Ft, match up with Result_Full\n",
    "df_temp['Result_Full'].equals(df['Goal_Home_Ft'])"
   ]
  },
  {
   "cell_type": "markdown",
   "metadata": {},
   "source": [
    "Because the sliced Result_Full column equals the Goal_Home_Ft column, we can assume that the number of goals scored by the home team is their score in at the end of the game. "
   ]
  },
  {
   "cell_type": "code",
   "execution_count": 17,
   "metadata": {},
   "outputs": [],
   "source": [
    "# Slicing Result_Full to get the second number of the score, the number of goals scored by the away team\n",
    "Result_Away = df['Result_Full'].str.strip().str.slice(start=2) "
   ]
  },
  {
   "cell_type": "code",
   "execution_count": 18,
   "metadata": {},
   "outputs": [
    {
     "data": {
      "text/html": [
       "<div>\n",
       "<style scoped>\n",
       "    .dataframe tbody tr th:only-of-type {\n",
       "        vertical-align: middle;\n",
       "    }\n",
       "\n",
       "    .dataframe tbody tr th {\n",
       "        vertical-align: top;\n",
       "    }\n",
       "\n",
       "    .dataframe thead th {\n",
       "        text-align: right;\n",
       "    }\n",
       "</style>\n",
       "<table border=\"1\" class=\"dataframe\">\n",
       "  <thead>\n",
       "    <tr style=\"text-align: right;\">\n",
       "      <th></th>\n",
       "      <th>Result_Full</th>\n",
       "    </tr>\n",
       "    <tr>\n",
       "      <th>Date</th>\n",
       "      <th></th>\n",
       "    </tr>\n",
       "  </thead>\n",
       "  <tbody>\n",
       "    <tr>\n",
       "      <th>2010-08-28</th>\n",
       "      <td>0</td>\n",
       "    </tr>\n",
       "    <tr>\n",
       "      <th>2010-08-28</th>\n",
       "      <td>2</td>\n",
       "    </tr>\n",
       "    <tr>\n",
       "      <th>2010-08-28</th>\n",
       "      <td>0</td>\n",
       "    </tr>\n",
       "    <tr>\n",
       "      <th>2010-08-28</th>\n",
       "      <td>1</td>\n",
       "    </tr>\n",
       "    <tr>\n",
       "      <th>2010-08-29</th>\n",
       "      <td>0</td>\n",
       "    </tr>\n",
       "    <tr>\n",
       "      <th>...</th>\n",
       "      <td>...</td>\n",
       "    </tr>\n",
       "    <tr>\n",
       "      <th>2021-03-06</th>\n",
       "      <td>2</td>\n",
       "    </tr>\n",
       "    <tr>\n",
       "      <th>2021-03-06</th>\n",
       "      <td>1</td>\n",
       "    </tr>\n",
       "    <tr>\n",
       "      <th>2021-03-07</th>\n",
       "      <td>0</td>\n",
       "    </tr>\n",
       "    <tr>\n",
       "      <th>2021-03-07</th>\n",
       "      <td>1</td>\n",
       "    </tr>\n",
       "    <tr>\n",
       "      <th>2021-03-07</th>\n",
       "      <td>2</td>\n",
       "    </tr>\n",
       "  </tbody>\n",
       "</table>\n",
       "<p>3841 rows × 1 columns</p>\n",
       "</div>"
      ],
      "text/plain": [
       "           Result_Full\n",
       "Date                  \n",
       "2010-08-28           0\n",
       "2010-08-28           2\n",
       "2010-08-28           0\n",
       "2010-08-28           1\n",
       "2010-08-29           0\n",
       "...                ...\n",
       "2021-03-06           2\n",
       "2021-03-06           1\n",
       "2021-03-07           0\n",
       "2021-03-07           1\n",
       "2021-03-07           2\n",
       "\n",
       "[3841 rows x 1 columns]"
      ]
     },
     "execution_count": 18,
     "metadata": {},
     "output_type": "execute_result"
    }
   ],
   "source": [
    "# Turning Result_Home into a dataframe\n",
    "df_temp2 = pd.DataFrame(Result_Away)\n",
    "df_temp2"
   ]
  },
  {
   "cell_type": "code",
   "execution_count": 19,
   "metadata": {},
   "outputs": [],
   "source": [
    "# Converting Result_Full column into integer objects\n",
    "df_temp2['Result_Full'] = df_temp2['Result_Full'].astype(int)"
   ]
  },
  {
   "cell_type": "code",
   "execution_count": 20,
   "metadata": {},
   "outputs": [],
   "source": [
    "# Converting Goal_Away_Ft column into integer objects\n",
    "df['Goal_Away_Ft'] = df['Goal_Away_Ft'].astype(int)"
   ]
  },
  {
   "cell_type": "code",
   "execution_count": 21,
   "metadata": {},
   "outputs": [
    {
     "data": {
      "text/plain": [
       "True"
      ]
     },
     "execution_count": 21,
     "metadata": {},
     "output_type": "execute_result"
    }
   ],
   "source": [
    "# Testing to Confirm the Columns, Goal_Home_Ft and Goal_Away_Ft, match up with Result_Full\n",
    "df_temp2['Result_Full'].equals(df['Goal_Away_Ft'])"
   ]
  },
  {
   "cell_type": "markdown",
   "metadata": {},
   "source": [
    "Because the sliced Result_Full column equals the Goal_Away_Ft column, we can also assume that the number of goals scored by the away team is their score in at the end of the game."
   ]
  },
  {
   "cell_type": "code",
   "execution_count": 22,
   "metadata": {},
   "outputs": [
    {
     "data": {
      "text/plain": [
       "Season\n",
       "10/11    358\n",
       "11/12    359\n",
       "12/13    359\n",
       "13/14    360\n",
       "14/15    360\n",
       "15/16    358\n",
       "16/17    359\n",
       "17/18    359\n",
       "18/19    360\n",
       "19/20    360\n",
       "20/21    249\n",
       "Name: Date, dtype: int64"
      ]
     },
     "execution_count": 22,
     "metadata": {},
     "output_type": "execute_result"
    }
   ],
   "source": [
    "# Finding the number of matches per season\n",
    "df.groupby('Season')['Date'].count()"
   ]
  },
  {
   "cell_type": "markdown",
   "metadata": {},
   "source": [
    "Most years, there are 380 matches per yearly season with the exception of the 2015-2016 season and the current season. There are only 271 matches for the 2020-2021 season because the season is not over yet. In terms of the 2015-2016 season, it seems like there were 380 matches played according to [Wikipedia](https://en.wikipedia.org/wiki/2015%E2%80%9316_Premier_League), so there may be a missing entry in the dataset. "
   ]
  },
  {
   "cell_type": "code",
   "execution_count": 23,
   "metadata": {},
   "outputs": [],
   "source": [
    "# Finding the number of matches per Home Team\n",
    "home = df.groupby('Home_Team')[['Link_Match']].count()"
   ]
  },
  {
   "cell_type": "code",
   "execution_count": 24,
   "metadata": {
    "scrolled": true
   },
   "outputs": [],
   "source": [
    "# Renaming the index of home\n",
    "home.index = home.index.rename('Team')"
   ]
  },
  {
   "cell_type": "code",
   "execution_count": 25,
   "metadata": {},
   "outputs": [
    {
     "data": {
      "text/html": [
       "<div>\n",
       "<style scoped>\n",
       "    .dataframe tbody tr th:only-of-type {\n",
       "        vertical-align: middle;\n",
       "    }\n",
       "\n",
       "    .dataframe tbody tr th {\n",
       "        vertical-align: top;\n",
       "    }\n",
       "\n",
       "    .dataframe thead th {\n",
       "        text-align: right;\n",
       "    }\n",
       "</style>\n",
       "<table border=\"1\" class=\"dataframe\">\n",
       "  <thead>\n",
       "    <tr style=\"text-align: right;\">\n",
       "      <th></th>\n",
       "      <th>Num_Matches_h</th>\n",
       "    </tr>\n",
       "    <tr>\n",
       "      <th>Team</th>\n",
       "      <th></th>\n",
       "    </tr>\n",
       "  </thead>\n",
       "  <tbody>\n",
       "    <tr>\n",
       "      <th>AFC Bournemouth</th>\n",
       "      <td>90</td>\n",
       "    </tr>\n",
       "    <tr>\n",
       "      <th>Arsenal</th>\n",
       "      <td>192</td>\n",
       "    </tr>\n",
       "    <tr>\n",
       "      <th>Aston Villa</th>\n",
       "      <td>137</td>\n",
       "    </tr>\n",
       "    <tr>\n",
       "      <th>Birmingham City</th>\n",
       "      <td>18</td>\n",
       "    </tr>\n",
       "    <tr>\n",
       "      <th>Blackburn Rovers</th>\n",
       "      <td>35</td>\n",
       "    </tr>\n",
       "    <tr>\n",
       "      <th>Blackpool</th>\n",
       "      <td>18</td>\n",
       "    </tr>\n",
       "    <tr>\n",
       "      <th>Bolton Wanderers</th>\n",
       "      <td>36</td>\n",
       "    </tr>\n",
       "    <tr>\n",
       "      <th>Brighton and Hove Albion</th>\n",
       "      <td>66</td>\n",
       "    </tr>\n",
       "    <tr>\n",
       "      <th>Burnley</th>\n",
       "      <td>104</td>\n",
       "    </tr>\n",
       "    <tr>\n",
       "      <th>Cardiff City</th>\n",
       "      <td>36</td>\n",
       "    </tr>\n",
       "    <tr>\n",
       "      <th>Chelsea</th>\n",
       "      <td>190</td>\n",
       "    </tr>\n",
       "    <tr>\n",
       "      <th>Crystal Palace</th>\n",
       "      <td>138</td>\n",
       "    </tr>\n",
       "    <tr>\n",
       "      <th>Everton</th>\n",
       "      <td>192</td>\n",
       "    </tr>\n",
       "    <tr>\n",
       "      <th>Fulham</th>\n",
       "      <td>102</td>\n",
       "    </tr>\n",
       "    <tr>\n",
       "      <th>Huddersfield Town</th>\n",
       "      <td>35</td>\n",
       "    </tr>\n",
       "    <tr>\n",
       "      <th>Hull City</th>\n",
       "      <td>54</td>\n",
       "    </tr>\n",
       "    <tr>\n",
       "      <th>Leeds United</th>\n",
       "      <td>12</td>\n",
       "    </tr>\n",
       "    <tr>\n",
       "      <th>Leicester City</th>\n",
       "      <td>120</td>\n",
       "    </tr>\n",
       "    <tr>\n",
       "      <th>Liverpool</th>\n",
       "      <td>193</td>\n",
       "    </tr>\n",
       "    <tr>\n",
       "      <th>Manchester City</th>\n",
       "      <td>194</td>\n",
       "    </tr>\n",
       "    <tr>\n",
       "      <th>Manchester United</th>\n",
       "      <td>192</td>\n",
       "    </tr>\n",
       "    <tr>\n",
       "      <th>Middlesbrough</th>\n",
       "      <td>18</td>\n",
       "    </tr>\n",
       "    <tr>\n",
       "      <th>Newcastle United</th>\n",
       "      <td>174</td>\n",
       "    </tr>\n",
       "    <tr>\n",
       "      <th>Norwich City</th>\n",
       "      <td>90</td>\n",
       "    </tr>\n",
       "    <tr>\n",
       "      <th>Queens Park Rangers</th>\n",
       "      <td>54</td>\n",
       "    </tr>\n",
       "    <tr>\n",
       "      <th>Reading</th>\n",
       "      <td>18</td>\n",
       "    </tr>\n",
       "    <tr>\n",
       "      <th>Sheffield United</th>\n",
       "      <td>32</td>\n",
       "    </tr>\n",
       "    <tr>\n",
       "      <th>Southampton</th>\n",
       "      <td>156</td>\n",
       "    </tr>\n",
       "    <tr>\n",
       "      <th>Stoke City</th>\n",
       "      <td>144</td>\n",
       "    </tr>\n",
       "    <tr>\n",
       "      <th>Sunderland</th>\n",
       "      <td>126</td>\n",
       "    </tr>\n",
       "    <tr>\n",
       "      <th>Swansea City</th>\n",
       "      <td>126</td>\n",
       "    </tr>\n",
       "    <tr>\n",
       "      <th>Tottenham Hotspur</th>\n",
       "      <td>191</td>\n",
       "    </tr>\n",
       "    <tr>\n",
       "      <th>Watford</th>\n",
       "      <td>90</td>\n",
       "    </tr>\n",
       "    <tr>\n",
       "      <th>West Bromwich Albion</th>\n",
       "      <td>158</td>\n",
       "    </tr>\n",
       "    <tr>\n",
       "      <th>West Ham United</th>\n",
       "      <td>173</td>\n",
       "    </tr>\n",
       "    <tr>\n",
       "      <th>Wigan Athletic</th>\n",
       "      <td>53</td>\n",
       "    </tr>\n",
       "    <tr>\n",
       "      <th>Wolverhampton Wanderers</th>\n",
       "      <td>84</td>\n",
       "    </tr>\n",
       "  </tbody>\n",
       "</table>\n",
       "</div>"
      ],
      "text/plain": [
       "                          Num_Matches_h\n",
       "Team                                   \n",
       "AFC Bournemouth                      90\n",
       "Arsenal                             192\n",
       "Aston Villa                         137\n",
       "Birmingham City                      18\n",
       "Blackburn Rovers                     35\n",
       "Blackpool                            18\n",
       "Bolton Wanderers                     36\n",
       "Brighton and Hove Albion             66\n",
       "Burnley                             104\n",
       "Cardiff City                         36\n",
       "Chelsea                             190\n",
       "Crystal Palace                      138\n",
       "Everton                             192\n",
       "Fulham                              102\n",
       "Huddersfield Town                    35\n",
       "Hull City                            54\n",
       "Leeds United                         12\n",
       "Leicester City                      120\n",
       "Liverpool                           193\n",
       "Manchester City                     194\n",
       "Manchester United                   192\n",
       "Middlesbrough                        18\n",
       "Newcastle United                    174\n",
       "Norwich City                         90\n",
       "Queens Park Rangers                  54\n",
       "Reading                              18\n",
       "Sheffield United                     32\n",
       "Southampton                         156\n",
       "Stoke City                          144\n",
       "Sunderland                          126\n",
       "Swansea City                        126\n",
       "Tottenham Hotspur                   191\n",
       "Watford                              90\n",
       "West Bromwich Albion                158\n",
       "West Ham United                     173\n",
       "Wigan Athletic                       53\n",
       "Wolverhampton Wanderers              84"
      ]
     },
     "execution_count": 25,
     "metadata": {},
     "output_type": "execute_result"
    }
   ],
   "source": [
    "#Renaming the Link_Match column to Num_Matches_h\n",
    "home.columns = ['Num_Matches_h']\n",
    "home"
   ]
  },
  {
   "cell_type": "code",
   "execution_count": 26,
   "metadata": {},
   "outputs": [],
   "source": [
    "# Finding the number of matches per Away Team\n",
    "away = df.groupby('Away_Team')[['Link_Match']].count()"
   ]
  },
  {
   "cell_type": "code",
   "execution_count": 27,
   "metadata": {},
   "outputs": [],
   "source": [
    "# Renaming the index of away\n",
    "away.index = away.index.rename('Team')"
   ]
  },
  {
   "cell_type": "code",
   "execution_count": 28,
   "metadata": {},
   "outputs": [
    {
     "data": {
      "text/html": [
       "<div>\n",
       "<style scoped>\n",
       "    .dataframe tbody tr th:only-of-type {\n",
       "        vertical-align: middle;\n",
       "    }\n",
       "\n",
       "    .dataframe tbody tr th {\n",
       "        vertical-align: top;\n",
       "    }\n",
       "\n",
       "    .dataframe thead th {\n",
       "        text-align: right;\n",
       "    }\n",
       "</style>\n",
       "<table border=\"1\" class=\"dataframe\">\n",
       "  <thead>\n",
       "    <tr style=\"text-align: right;\">\n",
       "      <th></th>\n",
       "      <th>Num_Matches_a</th>\n",
       "    </tr>\n",
       "    <tr>\n",
       "      <th>Team</th>\n",
       "      <th></th>\n",
       "    </tr>\n",
       "  </thead>\n",
       "  <tbody>\n",
       "    <tr>\n",
       "      <th>AFC Bournemouth</th>\n",
       "      <td>89</td>\n",
       "    </tr>\n",
       "    <tr>\n",
       "      <th>Arsenal</th>\n",
       "      <td>193</td>\n",
       "    </tr>\n",
       "    <tr>\n",
       "      <th>Aston Villa</th>\n",
       "      <td>139</td>\n",
       "    </tr>\n",
       "    <tr>\n",
       "      <th>Birmingham City</th>\n",
       "      <td>18</td>\n",
       "    </tr>\n",
       "    <tr>\n",
       "      <th>Blackburn Rovers</th>\n",
       "      <td>36</td>\n",
       "    </tr>\n",
       "    <tr>\n",
       "      <th>Blackpool</th>\n",
       "      <td>17</td>\n",
       "    </tr>\n",
       "    <tr>\n",
       "      <th>Bolton Wanderers</th>\n",
       "      <td>36</td>\n",
       "    </tr>\n",
       "    <tr>\n",
       "      <th>Brighton and Hove Albion</th>\n",
       "      <td>66</td>\n",
       "    </tr>\n",
       "    <tr>\n",
       "      <th>Burnley</th>\n",
       "      <td>102</td>\n",
       "    </tr>\n",
       "    <tr>\n",
       "      <th>Cardiff City</th>\n",
       "      <td>36</td>\n",
       "    </tr>\n",
       "    <tr>\n",
       "      <th>Chelsea</th>\n",
       "      <td>193</td>\n",
       "    </tr>\n",
       "    <tr>\n",
       "      <th>Crystal Palace</th>\n",
       "      <td>138</td>\n",
       "    </tr>\n",
       "    <tr>\n",
       "      <th>Everton</th>\n",
       "      <td>192</td>\n",
       "    </tr>\n",
       "    <tr>\n",
       "      <th>Fulham</th>\n",
       "      <td>102</td>\n",
       "    </tr>\n",
       "    <tr>\n",
       "      <th>Huddersfield Town</th>\n",
       "      <td>35</td>\n",
       "    </tr>\n",
       "    <tr>\n",
       "      <th>Hull City</th>\n",
       "      <td>54</td>\n",
       "    </tr>\n",
       "    <tr>\n",
       "      <th>Leeds United</th>\n",
       "      <td>12</td>\n",
       "    </tr>\n",
       "    <tr>\n",
       "      <th>Leicester City</th>\n",
       "      <td>120</td>\n",
       "    </tr>\n",
       "    <tr>\n",
       "      <th>Liverpool</th>\n",
       "      <td>191</td>\n",
       "    </tr>\n",
       "    <tr>\n",
       "      <th>Manchester City</th>\n",
       "      <td>191</td>\n",
       "    </tr>\n",
       "    <tr>\n",
       "      <th>Manchester United</th>\n",
       "      <td>194</td>\n",
       "    </tr>\n",
       "    <tr>\n",
       "      <th>Middlesbrough</th>\n",
       "      <td>18</td>\n",
       "    </tr>\n",
       "    <tr>\n",
       "      <th>Newcastle United</th>\n",
       "      <td>175</td>\n",
       "    </tr>\n",
       "    <tr>\n",
       "      <th>Norwich City</th>\n",
       "      <td>90</td>\n",
       "    </tr>\n",
       "    <tr>\n",
       "      <th>Queens Park Rangers</th>\n",
       "      <td>54</td>\n",
       "    </tr>\n",
       "    <tr>\n",
       "      <th>Reading</th>\n",
       "      <td>18</td>\n",
       "    </tr>\n",
       "    <tr>\n",
       "      <th>Sheffield United</th>\n",
       "      <td>30</td>\n",
       "    </tr>\n",
       "    <tr>\n",
       "      <th>Southampton</th>\n",
       "      <td>156</td>\n",
       "    </tr>\n",
       "    <tr>\n",
       "      <th>Stoke City</th>\n",
       "      <td>144</td>\n",
       "    </tr>\n",
       "    <tr>\n",
       "      <th>Sunderland</th>\n",
       "      <td>126</td>\n",
       "    </tr>\n",
       "    <tr>\n",
       "      <th>Swansea City</th>\n",
       "      <td>126</td>\n",
       "    </tr>\n",
       "    <tr>\n",
       "      <th>Tottenham Hotspur</th>\n",
       "      <td>191</td>\n",
       "    </tr>\n",
       "    <tr>\n",
       "      <th>Watford</th>\n",
       "      <td>90</td>\n",
       "    </tr>\n",
       "    <tr>\n",
       "      <th>West Bromwich Albion</th>\n",
       "      <td>156</td>\n",
       "    </tr>\n",
       "    <tr>\n",
       "      <th>West Ham United</th>\n",
       "      <td>173</td>\n",
       "    </tr>\n",
       "    <tr>\n",
       "      <th>Wigan Athletic</th>\n",
       "      <td>54</td>\n",
       "    </tr>\n",
       "    <tr>\n",
       "      <th>Wolverhampton Wanderers</th>\n",
       "      <td>86</td>\n",
       "    </tr>\n",
       "  </tbody>\n",
       "</table>\n",
       "</div>"
      ],
      "text/plain": [
       "                          Num_Matches_a\n",
       "Team                                   \n",
       "AFC Bournemouth                      89\n",
       "Arsenal                             193\n",
       "Aston Villa                         139\n",
       "Birmingham City                      18\n",
       "Blackburn Rovers                     36\n",
       "Blackpool                            17\n",
       "Bolton Wanderers                     36\n",
       "Brighton and Hove Albion             66\n",
       "Burnley                             102\n",
       "Cardiff City                         36\n",
       "Chelsea                             193\n",
       "Crystal Palace                      138\n",
       "Everton                             192\n",
       "Fulham                              102\n",
       "Huddersfield Town                    35\n",
       "Hull City                            54\n",
       "Leeds United                         12\n",
       "Leicester City                      120\n",
       "Liverpool                           191\n",
       "Manchester City                     191\n",
       "Manchester United                   194\n",
       "Middlesbrough                        18\n",
       "Newcastle United                    175\n",
       "Norwich City                         90\n",
       "Queens Park Rangers                  54\n",
       "Reading                              18\n",
       "Sheffield United                     30\n",
       "Southampton                         156\n",
       "Stoke City                          144\n",
       "Sunderland                          126\n",
       "Swansea City                        126\n",
       "Tottenham Hotspur                   191\n",
       "Watford                              90\n",
       "West Bromwich Albion                156\n",
       "West Ham United                     173\n",
       "Wigan Athletic                       54\n",
       "Wolverhampton Wanderers              86"
      ]
     },
     "execution_count": 28,
     "metadata": {},
     "output_type": "execute_result"
    }
   ],
   "source": [
    "# Renaming the Link_Match column to Num_Matches_a\n",
    "away.columns = ['Num_Matches_a']\n",
    "away"
   ]
  },
  {
   "cell_type": "code",
   "execution_count": 29,
   "metadata": {},
   "outputs": [
    {
     "data": {
      "text/html": [
       "<div>\n",
       "<style scoped>\n",
       "    .dataframe tbody tr th:only-of-type {\n",
       "        vertical-align: middle;\n",
       "    }\n",
       "\n",
       "    .dataframe tbody tr th {\n",
       "        vertical-align: top;\n",
       "    }\n",
       "\n",
       "    .dataframe thead th {\n",
       "        text-align: right;\n",
       "    }\n",
       "</style>\n",
       "<table border=\"1\" class=\"dataframe\">\n",
       "  <thead>\n",
       "    <tr style=\"text-align: right;\">\n",
       "      <th></th>\n",
       "      <th>Num_Matches_h</th>\n",
       "      <th>Num_Matches_a</th>\n",
       "    </tr>\n",
       "    <tr>\n",
       "      <th>Team</th>\n",
       "      <th></th>\n",
       "      <th></th>\n",
       "    </tr>\n",
       "  </thead>\n",
       "  <tbody>\n",
       "    <tr>\n",
       "      <th>AFC Bournemouth</th>\n",
       "      <td>90</td>\n",
       "      <td>89</td>\n",
       "    </tr>\n",
       "    <tr>\n",
       "      <th>Arsenal</th>\n",
       "      <td>192</td>\n",
       "      <td>193</td>\n",
       "    </tr>\n",
       "    <tr>\n",
       "      <th>Aston Villa</th>\n",
       "      <td>137</td>\n",
       "      <td>139</td>\n",
       "    </tr>\n",
       "    <tr>\n",
       "      <th>Birmingham City</th>\n",
       "      <td>18</td>\n",
       "      <td>18</td>\n",
       "    </tr>\n",
       "    <tr>\n",
       "      <th>Blackburn Rovers</th>\n",
       "      <td>35</td>\n",
       "      <td>36</td>\n",
       "    </tr>\n",
       "    <tr>\n",
       "      <th>Blackpool</th>\n",
       "      <td>18</td>\n",
       "      <td>17</td>\n",
       "    </tr>\n",
       "    <tr>\n",
       "      <th>Bolton Wanderers</th>\n",
       "      <td>36</td>\n",
       "      <td>36</td>\n",
       "    </tr>\n",
       "    <tr>\n",
       "      <th>Brighton and Hove Albion</th>\n",
       "      <td>66</td>\n",
       "      <td>66</td>\n",
       "    </tr>\n",
       "    <tr>\n",
       "      <th>Burnley</th>\n",
       "      <td>104</td>\n",
       "      <td>102</td>\n",
       "    </tr>\n",
       "    <tr>\n",
       "      <th>Cardiff City</th>\n",
       "      <td>36</td>\n",
       "      <td>36</td>\n",
       "    </tr>\n",
       "    <tr>\n",
       "      <th>Chelsea</th>\n",
       "      <td>190</td>\n",
       "      <td>193</td>\n",
       "    </tr>\n",
       "    <tr>\n",
       "      <th>Crystal Palace</th>\n",
       "      <td>138</td>\n",
       "      <td>138</td>\n",
       "    </tr>\n",
       "    <tr>\n",
       "      <th>Everton</th>\n",
       "      <td>192</td>\n",
       "      <td>192</td>\n",
       "    </tr>\n",
       "    <tr>\n",
       "      <th>Fulham</th>\n",
       "      <td>102</td>\n",
       "      <td>102</td>\n",
       "    </tr>\n",
       "    <tr>\n",
       "      <th>Huddersfield Town</th>\n",
       "      <td>35</td>\n",
       "      <td>35</td>\n",
       "    </tr>\n",
       "    <tr>\n",
       "      <th>Hull City</th>\n",
       "      <td>54</td>\n",
       "      <td>54</td>\n",
       "    </tr>\n",
       "    <tr>\n",
       "      <th>Leeds United</th>\n",
       "      <td>12</td>\n",
       "      <td>12</td>\n",
       "    </tr>\n",
       "    <tr>\n",
       "      <th>Leicester City</th>\n",
       "      <td>120</td>\n",
       "      <td>120</td>\n",
       "    </tr>\n",
       "    <tr>\n",
       "      <th>Liverpool</th>\n",
       "      <td>193</td>\n",
       "      <td>191</td>\n",
       "    </tr>\n",
       "    <tr>\n",
       "      <th>Manchester City</th>\n",
       "      <td>194</td>\n",
       "      <td>191</td>\n",
       "    </tr>\n",
       "    <tr>\n",
       "      <th>Manchester United</th>\n",
       "      <td>192</td>\n",
       "      <td>194</td>\n",
       "    </tr>\n",
       "    <tr>\n",
       "      <th>Middlesbrough</th>\n",
       "      <td>18</td>\n",
       "      <td>18</td>\n",
       "    </tr>\n",
       "    <tr>\n",
       "      <th>Newcastle United</th>\n",
       "      <td>174</td>\n",
       "      <td>175</td>\n",
       "    </tr>\n",
       "    <tr>\n",
       "      <th>Norwich City</th>\n",
       "      <td>90</td>\n",
       "      <td>90</td>\n",
       "    </tr>\n",
       "    <tr>\n",
       "      <th>Queens Park Rangers</th>\n",
       "      <td>54</td>\n",
       "      <td>54</td>\n",
       "    </tr>\n",
       "    <tr>\n",
       "      <th>Reading</th>\n",
       "      <td>18</td>\n",
       "      <td>18</td>\n",
       "    </tr>\n",
       "    <tr>\n",
       "      <th>Sheffield United</th>\n",
       "      <td>32</td>\n",
       "      <td>30</td>\n",
       "    </tr>\n",
       "    <tr>\n",
       "      <th>Southampton</th>\n",
       "      <td>156</td>\n",
       "      <td>156</td>\n",
       "    </tr>\n",
       "    <tr>\n",
       "      <th>Stoke City</th>\n",
       "      <td>144</td>\n",
       "      <td>144</td>\n",
       "    </tr>\n",
       "    <tr>\n",
       "      <th>Sunderland</th>\n",
       "      <td>126</td>\n",
       "      <td>126</td>\n",
       "    </tr>\n",
       "    <tr>\n",
       "      <th>Swansea City</th>\n",
       "      <td>126</td>\n",
       "      <td>126</td>\n",
       "    </tr>\n",
       "    <tr>\n",
       "      <th>Tottenham Hotspur</th>\n",
       "      <td>191</td>\n",
       "      <td>191</td>\n",
       "    </tr>\n",
       "    <tr>\n",
       "      <th>Watford</th>\n",
       "      <td>90</td>\n",
       "      <td>90</td>\n",
       "    </tr>\n",
       "    <tr>\n",
       "      <th>West Bromwich Albion</th>\n",
       "      <td>158</td>\n",
       "      <td>156</td>\n",
       "    </tr>\n",
       "    <tr>\n",
       "      <th>West Ham United</th>\n",
       "      <td>173</td>\n",
       "      <td>173</td>\n",
       "    </tr>\n",
       "    <tr>\n",
       "      <th>Wigan Athletic</th>\n",
       "      <td>53</td>\n",
       "      <td>54</td>\n",
       "    </tr>\n",
       "    <tr>\n",
       "      <th>Wolverhampton Wanderers</th>\n",
       "      <td>84</td>\n",
       "      <td>86</td>\n",
       "    </tr>\n",
       "  </tbody>\n",
       "</table>\n",
       "</div>"
      ],
      "text/plain": [
       "                          Num_Matches_h  Num_Matches_a\n",
       "Team                                                  \n",
       "AFC Bournemouth                      90             89\n",
       "Arsenal                             192            193\n",
       "Aston Villa                         137            139\n",
       "Birmingham City                      18             18\n",
       "Blackburn Rovers                     35             36\n",
       "Blackpool                            18             17\n",
       "Bolton Wanderers                     36             36\n",
       "Brighton and Hove Albion             66             66\n",
       "Burnley                             104            102\n",
       "Cardiff City                         36             36\n",
       "Chelsea                             190            193\n",
       "Crystal Palace                      138            138\n",
       "Everton                             192            192\n",
       "Fulham                              102            102\n",
       "Huddersfield Town                    35             35\n",
       "Hull City                            54             54\n",
       "Leeds United                         12             12\n",
       "Leicester City                      120            120\n",
       "Liverpool                           193            191\n",
       "Manchester City                     194            191\n",
       "Manchester United                   192            194\n",
       "Middlesbrough                        18             18\n",
       "Newcastle United                    174            175\n",
       "Norwich City                         90             90\n",
       "Queens Park Rangers                  54             54\n",
       "Reading                              18             18\n",
       "Sheffield United                     32             30\n",
       "Southampton                         156            156\n",
       "Stoke City                          144            144\n",
       "Sunderland                          126            126\n",
       "Swansea City                        126            126\n",
       "Tottenham Hotspur                   191            191\n",
       "Watford                              90             90\n",
       "West Bromwich Albion                158            156\n",
       "West Ham United                     173            173\n",
       "Wigan Athletic                       53             54\n",
       "Wolverhampton Wanderers              84             86"
      ]
     },
     "execution_count": 29,
     "metadata": {},
     "output_type": "execute_result"
    }
   ],
   "source": [
    "# Merging dataframes home and away into one dataframe called df_team\n",
    "df_team = pd.merge(home,away,on='Team')\n",
    "df_team"
   ]
  },
  {
   "cell_type": "code",
   "execution_count": 30,
   "metadata": {},
   "outputs": [
    {
     "data": {
      "text/html": [
       "<div>\n",
       "<style scoped>\n",
       "    .dataframe tbody tr th:only-of-type {\n",
       "        vertical-align: middle;\n",
       "    }\n",
       "\n",
       "    .dataframe tbody tr th {\n",
       "        vertical-align: top;\n",
       "    }\n",
       "\n",
       "    .dataframe thead th {\n",
       "        text-align: right;\n",
       "    }\n",
       "</style>\n",
       "<table border=\"1\" class=\"dataframe\">\n",
       "  <thead>\n",
       "    <tr style=\"text-align: right;\">\n",
       "      <th></th>\n",
       "      <th>Num_Matches_h</th>\n",
       "      <th>Num_Matches_a</th>\n",
       "      <th>Num_Matches</th>\n",
       "    </tr>\n",
       "    <tr>\n",
       "      <th>Team</th>\n",
       "      <th></th>\n",
       "      <th></th>\n",
       "      <th></th>\n",
       "    </tr>\n",
       "  </thead>\n",
       "  <tbody>\n",
       "    <tr>\n",
       "      <th>AFC Bournemouth</th>\n",
       "      <td>90</td>\n",
       "      <td>89</td>\n",
       "      <td>179</td>\n",
       "    </tr>\n",
       "    <tr>\n",
       "      <th>Arsenal</th>\n",
       "      <td>192</td>\n",
       "      <td>193</td>\n",
       "      <td>385</td>\n",
       "    </tr>\n",
       "    <tr>\n",
       "      <th>Aston Villa</th>\n",
       "      <td>137</td>\n",
       "      <td>139</td>\n",
       "      <td>276</td>\n",
       "    </tr>\n",
       "    <tr>\n",
       "      <th>Birmingham City</th>\n",
       "      <td>18</td>\n",
       "      <td>18</td>\n",
       "      <td>36</td>\n",
       "    </tr>\n",
       "    <tr>\n",
       "      <th>Blackburn Rovers</th>\n",
       "      <td>35</td>\n",
       "      <td>36</td>\n",
       "      <td>71</td>\n",
       "    </tr>\n",
       "    <tr>\n",
       "      <th>Blackpool</th>\n",
       "      <td>18</td>\n",
       "      <td>17</td>\n",
       "      <td>35</td>\n",
       "    </tr>\n",
       "    <tr>\n",
       "      <th>Bolton Wanderers</th>\n",
       "      <td>36</td>\n",
       "      <td>36</td>\n",
       "      <td>72</td>\n",
       "    </tr>\n",
       "    <tr>\n",
       "      <th>Brighton and Hove Albion</th>\n",
       "      <td>66</td>\n",
       "      <td>66</td>\n",
       "      <td>132</td>\n",
       "    </tr>\n",
       "    <tr>\n",
       "      <th>Burnley</th>\n",
       "      <td>104</td>\n",
       "      <td>102</td>\n",
       "      <td>206</td>\n",
       "    </tr>\n",
       "    <tr>\n",
       "      <th>Cardiff City</th>\n",
       "      <td>36</td>\n",
       "      <td>36</td>\n",
       "      <td>72</td>\n",
       "    </tr>\n",
       "    <tr>\n",
       "      <th>Chelsea</th>\n",
       "      <td>190</td>\n",
       "      <td>193</td>\n",
       "      <td>383</td>\n",
       "    </tr>\n",
       "    <tr>\n",
       "      <th>Crystal Palace</th>\n",
       "      <td>138</td>\n",
       "      <td>138</td>\n",
       "      <td>276</td>\n",
       "    </tr>\n",
       "    <tr>\n",
       "      <th>Everton</th>\n",
       "      <td>192</td>\n",
       "      <td>192</td>\n",
       "      <td>384</td>\n",
       "    </tr>\n",
       "    <tr>\n",
       "      <th>Fulham</th>\n",
       "      <td>102</td>\n",
       "      <td>102</td>\n",
       "      <td>204</td>\n",
       "    </tr>\n",
       "    <tr>\n",
       "      <th>Huddersfield Town</th>\n",
       "      <td>35</td>\n",
       "      <td>35</td>\n",
       "      <td>70</td>\n",
       "    </tr>\n",
       "    <tr>\n",
       "      <th>Hull City</th>\n",
       "      <td>54</td>\n",
       "      <td>54</td>\n",
       "      <td>108</td>\n",
       "    </tr>\n",
       "    <tr>\n",
       "      <th>Leeds United</th>\n",
       "      <td>12</td>\n",
       "      <td>12</td>\n",
       "      <td>24</td>\n",
       "    </tr>\n",
       "    <tr>\n",
       "      <th>Leicester City</th>\n",
       "      <td>120</td>\n",
       "      <td>120</td>\n",
       "      <td>240</td>\n",
       "    </tr>\n",
       "    <tr>\n",
       "      <th>Liverpool</th>\n",
       "      <td>193</td>\n",
       "      <td>191</td>\n",
       "      <td>384</td>\n",
       "    </tr>\n",
       "    <tr>\n",
       "      <th>Manchester City</th>\n",
       "      <td>194</td>\n",
       "      <td>191</td>\n",
       "      <td>385</td>\n",
       "    </tr>\n",
       "    <tr>\n",
       "      <th>Manchester United</th>\n",
       "      <td>192</td>\n",
       "      <td>194</td>\n",
       "      <td>386</td>\n",
       "    </tr>\n",
       "    <tr>\n",
       "      <th>Middlesbrough</th>\n",
       "      <td>18</td>\n",
       "      <td>18</td>\n",
       "      <td>36</td>\n",
       "    </tr>\n",
       "    <tr>\n",
       "      <th>Newcastle United</th>\n",
       "      <td>174</td>\n",
       "      <td>175</td>\n",
       "      <td>349</td>\n",
       "    </tr>\n",
       "    <tr>\n",
       "      <th>Norwich City</th>\n",
       "      <td>90</td>\n",
       "      <td>90</td>\n",
       "      <td>180</td>\n",
       "    </tr>\n",
       "    <tr>\n",
       "      <th>Queens Park Rangers</th>\n",
       "      <td>54</td>\n",
       "      <td>54</td>\n",
       "      <td>108</td>\n",
       "    </tr>\n",
       "    <tr>\n",
       "      <th>Reading</th>\n",
       "      <td>18</td>\n",
       "      <td>18</td>\n",
       "      <td>36</td>\n",
       "    </tr>\n",
       "    <tr>\n",
       "      <th>Sheffield United</th>\n",
       "      <td>32</td>\n",
       "      <td>30</td>\n",
       "      <td>62</td>\n",
       "    </tr>\n",
       "    <tr>\n",
       "      <th>Southampton</th>\n",
       "      <td>156</td>\n",
       "      <td>156</td>\n",
       "      <td>312</td>\n",
       "    </tr>\n",
       "    <tr>\n",
       "      <th>Stoke City</th>\n",
       "      <td>144</td>\n",
       "      <td>144</td>\n",
       "      <td>288</td>\n",
       "    </tr>\n",
       "    <tr>\n",
       "      <th>Sunderland</th>\n",
       "      <td>126</td>\n",
       "      <td>126</td>\n",
       "      <td>252</td>\n",
       "    </tr>\n",
       "    <tr>\n",
       "      <th>Swansea City</th>\n",
       "      <td>126</td>\n",
       "      <td>126</td>\n",
       "      <td>252</td>\n",
       "    </tr>\n",
       "    <tr>\n",
       "      <th>Tottenham Hotspur</th>\n",
       "      <td>191</td>\n",
       "      <td>191</td>\n",
       "      <td>382</td>\n",
       "    </tr>\n",
       "    <tr>\n",
       "      <th>Watford</th>\n",
       "      <td>90</td>\n",
       "      <td>90</td>\n",
       "      <td>180</td>\n",
       "    </tr>\n",
       "    <tr>\n",
       "      <th>West Bromwich Albion</th>\n",
       "      <td>158</td>\n",
       "      <td>156</td>\n",
       "      <td>314</td>\n",
       "    </tr>\n",
       "    <tr>\n",
       "      <th>West Ham United</th>\n",
       "      <td>173</td>\n",
       "      <td>173</td>\n",
       "      <td>346</td>\n",
       "    </tr>\n",
       "    <tr>\n",
       "      <th>Wigan Athletic</th>\n",
       "      <td>53</td>\n",
       "      <td>54</td>\n",
       "      <td>107</td>\n",
       "    </tr>\n",
       "    <tr>\n",
       "      <th>Wolverhampton Wanderers</th>\n",
       "      <td>84</td>\n",
       "      <td>86</td>\n",
       "      <td>170</td>\n",
       "    </tr>\n",
       "  </tbody>\n",
       "</table>\n",
       "</div>"
      ],
      "text/plain": [
       "                          Num_Matches_h  Num_Matches_a  Num_Matches\n",
       "Team                                                               \n",
       "AFC Bournemouth                      90             89          179\n",
       "Arsenal                             192            193          385\n",
       "Aston Villa                         137            139          276\n",
       "Birmingham City                      18             18           36\n",
       "Blackburn Rovers                     35             36           71\n",
       "Blackpool                            18             17           35\n",
       "Bolton Wanderers                     36             36           72\n",
       "Brighton and Hove Albion             66             66          132\n",
       "Burnley                             104            102          206\n",
       "Cardiff City                         36             36           72\n",
       "Chelsea                             190            193          383\n",
       "Crystal Palace                      138            138          276\n",
       "Everton                             192            192          384\n",
       "Fulham                              102            102          204\n",
       "Huddersfield Town                    35             35           70\n",
       "Hull City                            54             54          108\n",
       "Leeds United                         12             12           24\n",
       "Leicester City                      120            120          240\n",
       "Liverpool                           193            191          384\n",
       "Manchester City                     194            191          385\n",
       "Manchester United                   192            194          386\n",
       "Middlesbrough                        18             18           36\n",
       "Newcastle United                    174            175          349\n",
       "Norwich City                         90             90          180\n",
       "Queens Park Rangers                  54             54          108\n",
       "Reading                              18             18           36\n",
       "Sheffield United                     32             30           62\n",
       "Southampton                         156            156          312\n",
       "Stoke City                          144            144          288\n",
       "Sunderland                          126            126          252\n",
       "Swansea City                        126            126          252\n",
       "Tottenham Hotspur                   191            191          382\n",
       "Watford                              90             90          180\n",
       "West Bromwich Albion                158            156          314\n",
       "West Ham United                     173            173          346\n",
       "Wigan Athletic                       53             54          107\n",
       "Wolverhampton Wanderers              84             86          170"
      ]
     },
     "execution_count": 30,
     "metadata": {},
     "output_type": "execute_result"
    }
   ],
   "source": [
    "# Making a new column for total matches per team called Num_Matches\n",
    "df_team['Num_Matches'] = df_team['Num_Matches_h'] + df_team['Num_Matches_a']\n",
    "df_team"
   ]
  },
  {
   "cell_type": "code",
   "execution_count": 31,
   "metadata": {},
   "outputs": [
    {
     "data": {
      "image/png": "[encoded data removed]",
      "text/plain": [
       "<Figure size 1440x720 with 1 Axes>"
      ]
     },
     "metadata": {
      "needs_background": "light"
     },
     "output_type": "display_data"
    }
   ],
   "source": [
    "# Sort teams by descending number of matches\n",
    "df_team = df_team.sort_values(by='Num_Matches',ascending=False)\n",
    "\n",
    "# Forming graph\n",
    "fig, ax = plt.subplots()\n",
    "df_team['Num_Matches'].plot.bar(ax=ax, figsize=(20,10))\n",
    "\n",
    "# Setting title and labels\n",
    "ax.set_title('Number of Matches per Premier League Team, 2010-2021', size=20, fontweight = 'bold')\n",
    "ax.set_xlabel('Premier League Team', size=16)\n",
    "ax.set_ylabel('Number of Matches', size=16)\n",
    "\n",
    "# Changing the size of the ticks \n",
    "plt.xticks(size = 14)\n",
    "plt.yticks(size = 14)\n",
    "\n",
    "# Add a grid\n",
    "ax.yaxis.grid(True)\n",
    "plt.show()"
   ]
  },
  {
   "cell_type": "markdown",
   "metadata": {},
   "source": [
    "As shown in the graph above, the top five teams - Manchester City, Manchester United, Liverpool, Chelsea, and Arsenal - are tied for the most amount of matches played in the last decade. All five of these teams played every season. On the other hand the lowest five teams in terms of number of games played - Leeds United, Middlesbrough, Reading, Birmingham City, and Blackpool - were probably not part of the Premier League for the majority of the seasons. Each season, there are only twenty teams in the league, so we can assume that each of these teams probably only played one season."
   ]
  },
  {
   "cell_type": "markdown",
   "metadata": {},
   "source": [
    "### I. Comparing Match Result to Total Penalties"
   ]
  },
  {
   "cell_type": "markdown",
   "metadata": {},
   "source": [
    "First, we can compare the match result to the total number of offsides calls, yellow cards and red cards of both teams. In order to do so, we can look at the difference in goals between the two teams to see if the spread is bigger when the total number of each penalty is greater. The goals difference is given by the column \"Sg_Match_Ft\". Since the current season is still running, we decided to exclude it from our analysis. "
   ]
  },
  {
   "cell_type": "code",
   "execution_count": 32,
   "metadata": {},
   "outputs": [
    {
     "name": "stderr",
     "output_type": "stream",
     "text": [
      "<ipython-input-32-bbe36252a675>:5: SettingWithCopyWarning: \n",
      "A value is trying to be set on a copy of a slice from a DataFrame.\n",
      "Try using .loc[row_indexer,col_indexer] = value instead\n",
      "\n",
      "See the caveats in the documentation: https://pandas.pydata.org/pandas-docs/stable/user_guide/indexing.html#returning-a-view-versus-a-copy\n",
      "  df['Sg_Match_Ft'] = df['Sg_Match_Ft'].abs()\n",
      "<ipython-input-32-bbe36252a675>:8: SettingWithCopyWarning: \n",
      "A value is trying to be set on a copy of a slice from a DataFrame.\n",
      "Try using .loc[row_indexer,col_indexer] = value instead\n",
      "\n",
      "See the caveats in the documentation: https://pandas.pydata.org/pandas-docs/stable/user_guide/indexing.html#returning-a-view-versus-a-copy\n",
      "  df['Home_Offsides'] = df['Home_Offsides'].astype(int)\n",
      "<ipython-input-32-bbe36252a675>:9: SettingWithCopyWarning: \n",
      "A value is trying to be set on a copy of a slice from a DataFrame.\n",
      "Try using .loc[row_indexer,col_indexer] = value instead\n",
      "\n",
      "See the caveats in the documentation: https://pandas.pydata.org/pandas-docs/stable/user_guide/indexing.html#returning-a-view-versus-a-copy\n",
      "  df['Away_Offsides'] = df['Away_Offsides'].astype(int)\n",
      "<ipython-input-32-bbe36252a675>:10: SettingWithCopyWarning: \n",
      "A value is trying to be set on a copy of a slice from a DataFrame.\n",
      "Try using .loc[row_indexer,col_indexer] = value instead\n",
      "\n",
      "See the caveats in the documentation: https://pandas.pydata.org/pandas-docs/stable/user_guide/indexing.html#returning-a-view-versus-a-copy\n",
      "  df['Home_Yellow_Cards'] = df['Home_Yellow_Cards'].astype(int)\n",
      "<ipython-input-32-bbe36252a675>:11: SettingWithCopyWarning: \n",
      "A value is trying to be set on a copy of a slice from a DataFrame.\n",
      "Try using .loc[row_indexer,col_indexer] = value instead\n",
      "\n",
      "See the caveats in the documentation: https://pandas.pydata.org/pandas-docs/stable/user_guide/indexing.html#returning-a-view-versus-a-copy\n",
      "  df['Away_Yellow_Cards'] = df['Away_Yellow_Cards'].astype(int)\n",
      "<ipython-input-32-bbe36252a675>:12: SettingWithCopyWarning: \n",
      "A value is trying to be set on a copy of a slice from a DataFrame.\n",
      "Try using .loc[row_indexer,col_indexer] = value instead\n",
      "\n",
      "See the caveats in the documentation: https://pandas.pydata.org/pandas-docs/stable/user_guide/indexing.html#returning-a-view-versus-a-copy\n",
      "  df['Home_Red_Cards'] = df['Home_Red_Cards'].astype(int)\n",
      "<ipython-input-32-bbe36252a675>:13: SettingWithCopyWarning: \n",
      "A value is trying to be set on a copy of a slice from a DataFrame.\n",
      "Try using .loc[row_indexer,col_indexer] = value instead\n",
      "\n",
      "See the caveats in the documentation: https://pandas.pydata.org/pandas-docs/stable/user_guide/indexing.html#returning-a-view-versus-a-copy\n",
      "  df['Away_Red_Cards'] = df['Away_Red_Cards'].astype(int)\n",
      "<ipython-input-32-bbe36252a675>:16: SettingWithCopyWarning: \n",
      "A value is trying to be set on a copy of a slice from a DataFrame.\n",
      "Try using .loc[row_indexer,col_indexer] = value instead\n",
      "\n",
      "See the caveats in the documentation: https://pandas.pydata.org/pandas-docs/stable/user_guide/indexing.html#returning-a-view-versus-a-copy\n",
      "  df['Total_Offsides'] = df['Home_Offsides'] + df['Away_Offsides']\n",
      "<ipython-input-32-bbe36252a675>:19: SettingWithCopyWarning: \n",
      "A value is trying to be set on a copy of a slice from a DataFrame.\n",
      "Try using .loc[row_indexer,col_indexer] = value instead\n",
      "\n",
      "See the caveats in the documentation: https://pandas.pydata.org/pandas-docs/stable/user_guide/indexing.html#returning-a-view-versus-a-copy\n",
      "  df['Total_Yellow_Cards'] = df['Home_Yellow_Cards'] + df['Away_Yellow_Cards']\n",
      "<ipython-input-32-bbe36252a675>:22: SettingWithCopyWarning: \n",
      "A value is trying to be set on a copy of a slice from a DataFrame.\n",
      "Try using .loc[row_indexer,col_indexer] = value instead\n",
      "\n",
      "See the caveats in the documentation: https://pandas.pydata.org/pandas-docs/stable/user_guide/indexing.html#returning-a-view-versus-a-copy\n",
      "  df['Total_Red_Cards'] = df['Home_Red_Cards'] + df['Away_Red_Cards']\n",
      "<ipython-input-32-bbe36252a675>:25: SettingWithCopyWarning: \n",
      "A value is trying to be set on a copy of a slice from a DataFrame.\n",
      "Try using .loc[row_indexer,col_indexer] = value instead\n",
      "\n",
      "See the caveats in the documentation: https://pandas.pydata.org/pandas-docs/stable/user_guide/indexing.html#returning-a-view-versus-a-copy\n",
      "  df['Match_Teams'] = df[['Home_Team', 'Away_Team']].apply(' -vs- '.join, axis=1)\n"
     ]
    }
   ],
   "source": [
    "#Removing the current season\n",
    "df = df[df['Season'] != '20/21']\n",
    "\n",
    "#Convert difference in goals to absolute value \n",
    "df['Sg_Match_Ft'] = df['Sg_Match_Ft'].abs()\n",
    "\n",
    "#Convert home team and away team offsides, yellow cards and red cards to integer type \n",
    "df['Home_Offsides'] = df['Home_Offsides'].astype(int)\n",
    "df['Away_Offsides'] = df['Away_Offsides'].astype(int)\n",
    "df['Home_Yellow_Cards'] = df['Home_Yellow_Cards'].astype(int)\n",
    "df['Away_Yellow_Cards'] = df['Away_Yellow_Cards'].astype(int)\n",
    "df['Home_Red_Cards'] = df['Home_Red_Cards'].astype(int)\n",
    "df['Away_Red_Cards'] = df['Away_Red_Cards'].astype(int)\n",
    "\n",
    "#Add home team and away team offsides \n",
    "df['Total_Offsides'] = df['Home_Offsides'] + df['Away_Offsides']\n",
    "\n",
    "#Add home team and away team yellow cards \n",
    "df['Total_Yellow_Cards'] = df['Home_Yellow_Cards'] + df['Away_Yellow_Cards']\n",
    "\n",
    "#Add home team and away team red cards \n",
    "df['Total_Red_Cards'] = df['Home_Red_Cards'] + df['Away_Red_Cards']\n",
    "\n",
    "#For plotting purposes\n",
    "df['Match_Teams'] = df[['Home_Team', 'Away_Team']].apply(' -vs- '.join, axis=1)"
   ]
  },
  {
   "cell_type": "markdown",
   "metadata": {},
   "source": [
    "To have a better idea of how recurrent these penalties are, we created a chart that shows the total number of each type of penalty per season."
   ]
  },
  {
   "cell_type": "code",
   "execution_count": 33,
   "metadata": {},
   "outputs": [
    {
     "data": {
      "image/png": "[encoded data removed]",
      "text/plain": [
       "<Figure size 1080x360 with 1 Axes>"
      ]
     },
     "metadata": {
      "needs_background": "light"
     },
     "output_type": "display_data"
    }
   ],
   "source": [
    "offsides = df.groupby('Season')[['Total_Offsides']].sum()\n",
    "yellow_cards = df.groupby('Season')[['Total_Yellow_Cards']].sum()\n",
    "red_cards = df.groupby('Season')[['Total_Red_Cards']].sum()\n",
    "df_penalties = pd.merge(pd.merge(offsides,yellow_cards,on='Season'),red_cards,on='Season')\n",
    "\n",
    "fig, ax = plt.subplots()\n",
    "df_penalties[['Total_Offsides','Total_Yellow_Cards','Total_Red_Cards']].plot.bar(ax=ax, figsize=(15,5), color =['limegreen','gold','red'])\n",
    "ax.set_title('Penalties per season', size=15, fontweight='bold')\n",
    "ax.set_xlabel('Season', size = 12)\n",
    "ax.set_ylabel('Total number of penalties', size = 12)\n",
    "ax.legend(['Offsides','Yellow Cards', 'Red Cards'])\n",
    "ax.yaxis.grid(True, linestyle=':')\n",
    "ax.tick_params(axis='x', labelrotation=360)"
   ]
  },
  {
   "cell_type": "markdown",
   "metadata": {},
   "source": [
    "As we can see from the chart, offsides and yellow cards are pretty common in soccer matches. On the other hand, red cards are less frequent. In fact, the total per season is less than the total number of matches per season, 380, which means most matches in each season were free of red cards. Moreover, we can see the number of offsides has been decreasing over time, while the number of yellow cards has remained mostly constant.   "
   ]
  },
  {
   "cell_type": "markdown",
   "metadata": {},
   "source": [
    "Interestingly, the two variables have almost exactly no correlation (adj. r-squared = .002). To understand if this lack of correlation holds up for each type of penalty, we need to perform a similar analysis of each penalty individually."
   ]
  },
  {
   "cell_type": "markdown",
   "metadata": {},
   "source": [
    "* #### Match Result vs. Total Offsides Calls"
   ]
  },
  {
   "cell_type": "markdown",
   "metadata": {},
   "source": [
    "A first approach to compare match results to the total number of offside calls is to look at the matches with the highest goals difference and the matches with the greatest number of offside calls. For example, we looked at the top 10 in the most recent completed season, 19/20. "
   ]
  },
  {
   "cell_type": "code",
   "execution_count": 34,
   "metadata": {},
   "outputs": [
    {
     "data": {
      "image/png": "[encoded data removed]",
      "text/plain": [
       "<Figure size 432x288 with 1 Axes>"
      ]
     },
     "metadata": {
      "needs_background": "light"
     },
     "output_type": "display_data"
    },
    {
     "data": {
      "image/png": "[encoded data removed]",
      "text/plain": [
       "<Figure size 432x288 with 1 Axes>"
      ]
     },
     "metadata": {
      "needs_background": "light"
     },
     "output_type": "display_data"
    }
   ],
   "source": [
    "#Top 10 matches with the highest number of penalties for 19/20 season\n",
    "df_last_season = df.loc[ df['Season'] == '19/20'].set_index(['Match_Teams'])\n",
    "fig, ax = plt.subplots()\n",
    "df_last_season[['Total_Offsides']].sort_values('Total_Offsides', ascending = False).head(10).plot.barh(ax=ax, color = 'limegreen')\n",
    "ax.invert_yaxis()\n",
    "ax.set_title('Top 10 matches with the highest number of offsides calls for 19/20 season', fontweight = 'bold')\n",
    "ax.set_xlabel('Number of Offsides')\n",
    "ax.get_legend().remove()\n",
    "ax.yaxis.label.set_visible(False)\n",
    "\n",
    "\n",
    "#Top 10 matches with the highest difference in goals for 19/20 season\n",
    "fig, ax = plt.subplots()\n",
    "df_last_season[['Sg_Match_Ft']].sort_values('Sg_Match_Ft', ascending = False).head(10).plot.barh(ax=ax, color = 'darkorange')\n",
    "ax.invert_yaxis()\n",
    "ax.set_title('Top 10 matches with the highest difference in goals for 19/20 season', fontweight = 'bold')\n",
    "ax.get_legend().remove()\n",
    "ax.set_xlabel('Difference in Goals')\n",
    "ax.yaxis.label.set_visible(False)"
   ]
  },
  {
   "cell_type": "markdown",
   "metadata": {},
   "source": [
    "As we can see from the charts above, the top 10 matches with the most offsides are not the same as the matches with the greatest difference in goals scored, so it seems offsides calls do not have a big influence in the match result, or at least in increasing the score difference. We can also see how common offsides calls were during the last season to have a better idea whether or not they could potentially influence the match result."
   ]
  },
  {
   "cell_type": "code",
   "execution_count": 35,
   "metadata": {},
   "outputs": [
    {
     "data": {
      "text/plain": [
       "Total_Offsides\n",
       "0     14\n",
       "1     70\n",
       "2     51\n",
       "3     66\n",
       "4     65\n",
       "5     43\n",
       "6     25\n",
       "7     11\n",
       "8      6\n",
       "9      5\n",
       "10     2\n",
       "12     1\n",
       "13     1\n",
       "Name: Link_Match, dtype: int64"
      ]
     },
     "execution_count": 35,
     "metadata": {},
     "output_type": "execute_result"
    }
   ],
   "source": [
    "df_last_season.groupby('Total_Offsides')['Link_Match'].nunique()"
   ]
  },
  {
   "cell_type": "code",
   "execution_count": 36,
   "metadata": {},
   "outputs": [
    {
     "data": {
      "text/plain": [
       "1210"
      ]
     },
     "execution_count": 36,
     "metadata": {},
     "output_type": "execute_result"
    }
   ],
   "source": [
    "df_last_season['Total_Offsides'].sum()"
   ]
  },
  {
   "cell_type": "code",
   "execution_count": 37,
   "metadata": {},
   "outputs": [
    {
     "data": {
      "text/plain": [
       "3.361111111111111"
      ]
     },
     "execution_count": 37,
     "metadata": {},
     "output_type": "execute_result"
    }
   ],
   "source": [
    "df_last_season['Total_Offsides'].mean()"
   ]
  },
  {
   "cell_type": "markdown",
   "metadata": {},
   "source": [
    "We can see offside calls were actually pretty common. For the 380 matches in the season, there were 1288 offsides in total and on average there were 3.38 in each match. Moreover, there were many matches with more than 4 offsides in total from the two teams.  "
   ]
  },
  {
   "cell_type": "code",
   "execution_count": 38,
   "metadata": {},
   "outputs": [
    {
     "data": {
      "text/plain": [
       "14871"
      ]
     },
     "execution_count": 38,
     "metadata": {},
     "output_type": "execute_result"
    }
   ],
   "source": [
    "df['Total_Offsides'].sum()"
   ]
  },
  {
   "cell_type": "code",
   "execution_count": 39,
   "metadata": {},
   "outputs": [
    {
     "data": {
      "text/plain": [
       "4.140033407572383"
      ]
     },
     "execution_count": 39,
     "metadata": {},
     "output_type": "execute_result"
    }
   ],
   "source": [
    "df['Total_Offsides'].mean()"
   ]
  },
  {
   "cell_type": "markdown",
   "metadata": {},
   "source": [
    "For the whole sample, offsides are also significant and the mean is even higher. Nonetheless, even if offsides are frequent, they seem to have a low impact in the match result. To prove this hypothesis, we can run a linear regression between the total number of offsides and the goals difference to see if there is any relationship "
   ]
  },
  {
   "cell_type": "code",
   "execution_count": 40,
   "metadata": {},
   "outputs": [
    {
     "name": "stdout",
     "output_type": "stream",
     "text": [
      "                            OLS Regression Results                            \n",
      "==============================================================================\n",
      "Dep. Variable:            Sg_Match_Ft   R-squared:                       0.001\n",
      "Model:                            OLS   Adj. R-squared:                  0.001\n",
      "Method:                 Least Squares   F-statistic:                     3.962\n",
      "Date:                Tue, 18 May 2021   Prob (F-statistic):             0.0466\n",
      "Time:                        13:06:45   Log-Likelihood:                -5830.1\n",
      "No. Observations:                3592   AIC:                         1.166e+04\n",
      "Df Residuals:                    3590   BIC:                         1.168e+04\n",
      "Df Model:                           1                                         \n",
      "Covariance Type:            nonrobust                                         \n",
      "==================================================================================\n",
      "                     coef    std err          t      P>|t|      [0.025      0.975]\n",
      "----------------------------------------------------------------------------------\n",
      "Intercept          1.4658      0.041     36.058      0.000       1.386       1.545\n",
      "Total_Offsides    -0.0169      0.008     -1.990      0.047      -0.034      -0.000\n",
      "==============================================================================\n",
      "Omnibus:                      628.633   Durbin-Watson:                   1.979\n",
      "Prob(Omnibus):                  0.000   Jarque-Bera (JB):             1150.340\n",
      "Skew:                           1.094   Prob(JB):                    1.61e-250\n",
      "Kurtosis:                       4.704   Cond. No.                         9.83\n",
      "==============================================================================\n",
      "\n",
      "Notes:\n",
      "[1] Standard Errors assume that the covariance matrix of the errors is correctly specified.\n"
     ]
    }
   ],
   "source": [
    "reg = smf.ols('Sg_Match_Ft ~ Total_Offsides',df).fit()\n",
    "print(reg.summary())"
   ]
  },
  {
   "cell_type": "markdown",
   "metadata": {},
   "source": [
    "As we can see from the regression results above, the coefficient on total offsides is small and it is not statistically significant since t statistic is less than 2 and p-value is greater than 5%. Therefore, we can say offside calls do not have a big impact on the match result "
   ]
  },
  {
   "cell_type": "code",
   "execution_count": 41,
   "metadata": {},
   "outputs": [],
   "source": [
    "# I tried running a scatter plot but it wasn't super good\n",
    "# I also looked at each team's individual score in the match and their number of offsides in the match but the results were \n",
    "#   similar, so I dont know if it would be better to compare individually each team or the difference in goals. \n",
    "# We can also plot the teams that have had the most offsides(on average or on aggregate) but I am not sure if thats relevant \n",
    "#    for our central question\n"
   ]
  },
  {
   "cell_type": "markdown",
   "metadata": {},
   "source": [
    "* ####  Match Result vs. Total Yellow Cards\n"
   ]
  },
  {
   "cell_type": "markdown",
   "metadata": {},
   "source": [
    "We can first look at the average number of yellow cards there is in a match. "
   ]
  },
  {
   "cell_type": "code",
   "execution_count": 42,
   "metadata": {},
   "outputs": [
    {
     "data": {
      "text/plain": [
       "3.254175946547884"
      ]
     },
     "execution_count": 42,
     "metadata": {},
     "output_type": "execute_result"
    }
   ],
   "source": [
    "df['Total_Yellow_Cards'].mean()"
   ]
  },
  {
   "cell_type": "code",
   "execution_count": 43,
   "metadata": {},
   "outputs": [
    {
     "data": {
      "text/plain": [
       "11689"
      ]
     },
     "execution_count": 43,
     "metadata": {},
     "output_type": "execute_result"
    }
   ],
   "source": [
    "df['Total_Yellow_Cards'].sum()"
   ]
  },
  {
   "cell_type": "markdown",
   "metadata": {},
   "source": [
    "We can notice there have been less yellow cards in total compared to offsides calls and the average is lower, as shown in out graph before. Nonetheless, we can see if they have a bigger impact on match results. Again, we can start by looking at the matches with the most yellow cards received during the match and the matches with the biggest score difference. Let's use season 19/20 again as an example. "
   ]
  },
  {
   "cell_type": "code",
   "execution_count": 44,
   "metadata": {},
   "outputs": [
    {
     "data": {
      "image/png": "[encoded data removed]",
      "text/plain": [
       "<Figure size 432x288 with 1 Axes>"
      ]
     },
     "metadata": {
      "needs_background": "light"
     },
     "output_type": "display_data"
    },
    {
     "data": {
      "image/png": "[encoded data removed]",
      "text/plain": [
       "<Figure size 432x288 with 1 Axes>"
      ]
     },
     "metadata": {
      "needs_background": "light"
     },
     "output_type": "display_data"
    }
   ],
   "source": [
    "fig, ax = plt.subplots()\n",
    "df_last_season[['Total_Yellow_Cards']].sort_values('Total_Yellow_Cards', ascending = False).head(10).plot.barh(ax=ax, color = 'gold')\n",
    "ax.invert_yaxis()\n",
    "ax.set_title('Top 10 matches with the highest number of yellow cards for 19/20 season', fontweight = 'bold')\n",
    "ax.set_xlabel('Number of Yellow Cards')\n",
    "ax.yaxis.label.set_visible(False)\n",
    "ax.get_legend().remove()\n",
    "\n",
    "#Top 10 matches with the highest difference in goals for 19/20 season\n",
    "fig, ax = plt.subplots()\n",
    "df_last_season[['Sg_Match_Ft']].sort_values('Sg_Match_Ft', ascending = False).head(10).plot.barh(ax=ax, color = 'darkorange')\n",
    "ax.invert_yaxis()\n",
    "ax.set_title('Top 10 matches with the highest difference in goals for 19/20 season', fontweight = 'bold')\n",
    "ax.get_legend().remove()\n",
    "ax.set_xlabel('Difference in Goals')\n",
    "ax.yaxis.label.set_visible(False)"
   ]
  },
  {
   "cell_type": "markdown",
   "metadata": {},
   "source": [
    "From the graphs above, we can notice that, similar to offsides calls, yellow cards do not seem to be the main driver of scores differences. However, by running a linear regression we can see the coefficient on yellow cards is statistically significant although it does not add a lot of explanatory power to the difference in the scores (R-square = 2.7%). The coefficient is negative, which means the score gap would decrease as the number of yellow cards increases. Since the amount of yellow cards is the total from both teams, it can be hard to interpret the results as Total_Yellow_Cards increases if both teams get more yellow cards or just one of them.     "
   ]
  },
  {
   "cell_type": "code",
   "execution_count": 45,
   "metadata": {},
   "outputs": [
    {
     "name": "stdout",
     "output_type": "stream",
     "text": [
      "                            OLS Regression Results                            \n",
      "==============================================================================\n",
      "Dep. Variable:            Sg_Match_Ft   R-squared:                       0.029\n",
      "Model:                            OLS   Adj. R-squared:                  0.029\n",
      "Method:                 Least Squares   F-statistic:                     107.5\n",
      "Date:                Tue, 18 May 2021   Prob (F-statistic):           7.63e-25\n",
      "Time:                        13:06:46   Log-Likelihood:                -5779.0\n",
      "No. Observations:                3592   AIC:                         1.156e+04\n",
      "Df Residuals:                    3590   BIC:                         1.157e+04\n",
      "Df Model:                           1                                         \n",
      "Covariance Type:            nonrobust                                         \n",
      "======================================================================================\n",
      "                         coef    std err          t      P>|t|      [0.025      0.975]\n",
      "--------------------------------------------------------------------------------------\n",
      "Intercept              1.7557      0.040     43.735      0.000       1.677       1.834\n",
      "Total_Yellow_Cards    -0.1106      0.011    -10.370      0.000      -0.131      -0.090\n",
      "==============================================================================\n",
      "Omnibus:                      602.907   Durbin-Watson:                   1.966\n",
      "Prob(Omnibus):                  0.000   Jarque-Bera (JB):             1096.882\n",
      "Skew:                           1.055   Prob(JB):                    6.53e-239\n",
      "Kurtosis:                       4.696   Cond. No.                         7.89\n",
      "==============================================================================\n",
      "\n",
      "Notes:\n",
      "[1] Standard Errors assume that the covariance matrix of the errors is correctly specified.\n"
     ]
    }
   ],
   "source": [
    "reg = smf.ols('Sg_Match_Ft ~ Total_Yellow_Cards',df).fit()\n",
    "print(reg.summary())"
   ]
  },
  {
   "cell_type": "markdown",
   "metadata": {},
   "source": [
    "* #### Match Result vs. Total Red Cards\n"
   ]
  },
  {
   "cell_type": "code",
   "execution_count": 46,
   "metadata": {},
   "outputs": [
    {
     "data": {
      "text/plain": [
       "Total_Red_Cards\n",
       "0    3128\n",
       "1     427\n",
       "2      36\n",
       "3       1\n",
       "Name: Link_Match, dtype: int64"
      ]
     },
     "execution_count": 46,
     "metadata": {},
     "output_type": "execute_result"
    }
   ],
   "source": [
    "df.groupby('Total_Red_Cards')['Link_Match'].nunique()"
   ]
  },
  {
   "cell_type": "code",
   "execution_count": 47,
   "metadata": {},
   "outputs": [
    {
     "data": {
      "text/plain": [
       "Total_Red_Cards\n",
       "0    315\n",
       "1     43\n",
       "2      2\n",
       "Name: Link_Match, dtype: int64"
      ]
     },
     "execution_count": 47,
     "metadata": {},
     "output_type": "execute_result"
    }
   ],
   "source": [
    "df_last_season.groupby('Total_Red_Cards')['Link_Match'].nunique()"
   ]
  },
  {
   "cell_type": "markdown",
   "metadata": {},
   "source": [
    "We can observe red cards are not common compared to the previous penalties. In the whole sample, we can see there was only one match where 3 red cards were given. In the last season, there were 2 matches with 2 red cards given during the match, 44 matches with 1 red card and the rest did not have any red cards. We can see if any of the 2 matches with 2 red cards is among the matches where the score gap was the biggest.  "
   ]
  },
  {
   "cell_type": "code",
   "execution_count": 48,
   "metadata": {},
   "outputs": [
    {
     "data": {
      "image/png": "[encoded data removed]",
      "text/plain": [
       "<Figure size 489.6x93.6 with 1 Axes>"
      ]
     },
     "metadata": {
      "needs_background": "light"
     },
     "output_type": "display_data"
    },
    {
     "data": {
      "image/png": "[encoded data removed]",
      "text/plain": [
       "<Figure size 432x288 with 1 Axes>"
      ]
     },
     "metadata": {
      "needs_background": "light"
     },
     "output_type": "display_data"
    }
   ],
   "source": [
    "fig, ax = plt.subplots()\n",
    "df_last_season[['Total_Red_Cards']].sort_values('Total_Red_Cards', ascending = False).head(2).plot.barh(ax=ax, color = 'red', figsize=(6.8,1.3))\n",
    "ax.invert_yaxis()\n",
    "ax.set_title('Top 10 matches with the highest number of red cards for 19/20 season', fontweight = 'bold')\n",
    "ax.set_xlabel('Number of red cards')\n",
    "ax.yaxis.label.set_visible(False)\n",
    "ax.get_legend().remove()\n",
    "ax.set_xticks(np.arange(0, 3, 1))\n",
    "\n",
    "#Top 10 matches with the highest difference in goals for 19/20 season\n",
    "fig, ax = plt.subplots()\n",
    "df_last_season[['Sg_Match_Ft']].sort_values('Sg_Match_Ft', ascending = False).head(10).plot.barh(ax=ax, color = 'darkorange')\n",
    "ax.invert_yaxis()\n",
    "ax.set_title('Top 10 matches with the highest difference in goals for 19/20 season', fontweight = 'bold')\n",
    "ax.get_legend().remove()\n",
    "ax.set_xlabel('Difference in Goals')\n",
    "ax.yaxis.label.set_visible(False)"
   ]
  },
  {
   "cell_type": "markdown",
   "metadata": {},
   "source": [
    "We can notice that neither of the matches with 2 red cards during that season is among those matches where the goals difference is higher. Therefore, we can infer other factors had a bigger influence in those match results. For instance, we can look at the Southampton vs Leicester City where the score was 0-9. According to the premier league website stats for this match (https://www.premierleague.com/match/46702), Leicester City had a higher ball possession percentage, more shots, touches and passes, which seem to be factors that better explain the match result. However, the Southampton team did get a red card, which might have influenced the match result to a certain extent.      "
   ]
  },
  {
   "cell_type": "markdown",
   "metadata": {},
   "source": [
    "* #### Match Result vs. Total Penalties\n"
   ]
  },
  {
   "cell_type": "markdown",
   "metadata": {},
   "source": [
    "Finally, we can run a regression that includes all penalties to see if together they are more helpful at predicting the match result. "
   ]
  },
  {
   "cell_type": "code",
   "execution_count": 49,
   "metadata": {},
   "outputs": [
    {
     "name": "stdout",
     "output_type": "stream",
     "text": [
      "                            OLS Regression Results                            \n",
      "==============================================================================\n",
      "Dep. Variable:            Sg_Match_Ft   R-squared:                       0.031\n",
      "Model:                            OLS   Adj. R-squared:                  0.031\n",
      "Method:                 Least Squares   F-statistic:                     38.87\n",
      "Date:                Tue, 18 May 2021   Prob (F-statistic):           1.04e-24\n",
      "Time:                        13:06:46   Log-Likelihood:                -5774.6\n",
      "No. Observations:                3592   AIC:                         1.156e+04\n",
      "Df Residuals:                    3588   BIC:                         1.158e+04\n",
      "Df Model:                           3                                         \n",
      "Covariance Type:            nonrobust                                         \n",
      "======================================================================================\n",
      "                         coef    std err          t      P>|t|      [0.025      0.975]\n",
      "--------------------------------------------------------------------------------------\n",
      "Intercept              1.8199      0.053     34.077      0.000       1.715       1.925\n",
      "Total_Offsides        -0.0179      0.008     -2.146      0.032      -0.034      -0.002\n",
      "Total_Yellow_Cards    -0.1123      0.011    -10.516      0.000      -0.133      -0.091\n",
      "Total_Red_Cards        0.1120      0.054      2.088      0.037       0.007       0.217\n",
      "==============================================================================\n",
      "Omnibus:                      592.362   Durbin-Watson:                   1.970\n",
      "Prob(Omnibus):                  0.000   Jarque-Bera (JB):             1064.592\n",
      "Skew:                           1.044   Prob(JB):                    6.71e-232\n",
      "Kurtosis:                       4.658   Cond. No.                         16.1\n",
      "==============================================================================\n",
      "\n",
      "Notes:\n",
      "[1] Standard Errors assume that the covariance matrix of the errors is correctly specified.\n"
     ]
    }
   ],
   "source": [
    "reg = smf.ols('Sg_Match_Ft ~ Total_Offsides + Total_Yellow_Cards + Total_Red_Cards',df).fit()\n",
    "print(reg.summary())"
   ]
  },
  {
   "cell_type": "markdown",
   "metadata": {},
   "source": [
    "We can observe from the results that only total yellow cards is statistically significant and the results are pretty similar to the regression we ran before, where we only included yellow cards as an independent variable. Therefore, we can conclude total yellow cards has more influence on match results than red cards or offsides, though our results disprove our hypothesis that each penalty type has a statistically significant negative value for match results."
   ]
  },
  {
   "cell_type": "markdown",
   "metadata": {},
   "source": [
    "* #### Supervised Learning Models\n",
    "\n",
    "When we learned how little penalties influence the result of a match, we found ourselves asking what the correlations looked like graphically. Using sklearn's k-nearest regressors library, we analyzed penalties and match result using supervised learning."
   ]
  },
  {
   "cell_type": "code",
   "execution_count": 50,
   "metadata": {},
   "outputs": [
    {
     "name": "stdout",
     "output_type": "stream",
     "text": [
      "-0.047095520618115616\n"
     ]
    },
    {
     "name": "stderr",
     "output_type": "stream",
     "text": [
      "<ipython-input-50-1705606ded19>:11: SettingWithCopyWarning: \n",
      "A value is trying to be set on a copy of a slice from a DataFrame.\n",
      "Try using .loc[row_indexer,col_indexer] = value instead\n",
      "\n",
      "See the caveats in the documentation: https://pandas.pydata.org/pandas-docs/stable/user_guide/indexing.html#returning-a-view-versus-a-copy\n",
      "  df['yhat_knn'] = sklearn_knn.predict(df[['Sg_Match_Ft']])\n"
     ]
    },
    {
     "data": {
      "text/plain": [
       "<AxesSubplot:xlabel='Sg_Match_Ft', ylabel='Total_Offsides'>"
      ]
     },
     "execution_count": 50,
     "metadata": {},
     "output_type": "execute_result"
    },
    {
     "data": {
      "image/png": "[encoded data removed]",
      "text/plain": [
       "<Figure size 432x288 with 1 Axes>"
      ]
     },
     "metadata": {
      "needs_background": "light"
     },
     "output_type": "display_data"
    }
   ],
   "source": [
    "# 1) Match Result vs. Total Offsides Calls\n",
    "\n",
    "# printing scores\n",
    "scores = pd.Series(dtype='float64')\n",
    "for i in range(1,100,10):\n",
    "    scores.loc[i] = cross_val_score(knn(n_neighbors=i), X = df[['Sg_Match_Ft']], y = df['Total_Offsides'],cv=5).mean()\n",
    "sklearn_knn = knn(n_neighbors=scores.idxmax()).fit(X = df[['Sg_Match_Ft']], y = df['Total_Offsides'])\n",
    "print(sklearn_knn.score(X = df[['Sg_Match_Ft']], y = df['Total_Offsides']))\n",
    "\n",
    "# graphing\n",
    "df['yhat_knn'] = sklearn_knn.predict(df[['Sg_Match_Ft']])\n",
    "df.plot.scatter(x='Sg_Match_Ft',y='Total_Offsides')\n",
    "df.sort_values('Sg_Match_Ft').set_index('Sg_Match_Ft')['yhat_knn'].plot(color='r',lw=1)"
   ]
  },
  {
   "cell_type": "code",
   "execution_count": 51,
   "metadata": {},
   "outputs": [
    {
     "name": "stdout",
     "output_type": "stream",
     "text": [
      "0.030674672514111934\n"
     ]
    },
    {
     "name": "stderr",
     "output_type": "stream",
     "text": [
      "<ipython-input-51-00a55b42864f>:11: SettingWithCopyWarning: \n",
      "A value is trying to be set on a copy of a slice from a DataFrame.\n",
      "Try using .loc[row_indexer,col_indexer] = value instead\n",
      "\n",
      "See the caveats in the documentation: https://pandas.pydata.org/pandas-docs/stable/user_guide/indexing.html#returning-a-view-versus-a-copy\n",
      "  df['yhat_knn'] = sklearn_knn.predict(df[['Sg_Match_Ft']])\n"
     ]
    },
    {
     "data": {
      "text/plain": [
       "<AxesSubplot:xlabel='Sg_Match_Ft', ylabel='Total_Yellow_Cards'>"
      ]
     },
     "execution_count": 51,
     "metadata": {},
     "output_type": "execute_result"
    },
    {
     "data": {
      "image/png": "[encoded data removed]",
      "text/plain": [
       "<Figure size 432x288 with 1 Axes>"
      ]
     },
     "metadata": {
      "needs_background": "light"
     },
     "output_type": "display_data"
    }
   ],
   "source": [
    "# 2) Match Result vs. Total Yellow Cards\n",
    "\n",
    "# printing scores\n",
    "scores = pd.Series(dtype='float64')\n",
    "for i in range(1,100,10):\n",
    "    scores.loc[i] = cross_val_score(knn(n_neighbors=i), X = df[['Sg_Match_Ft']], y = df['Total_Yellow_Cards'],cv=5).mean()\n",
    "sklearn_knn = knn(n_neighbors=scores.idxmax()).fit(X = df[['Sg_Match_Ft']], y = df['Total_Yellow_Cards'])\n",
    "print(sklearn_knn.score(X = df[['Sg_Match_Ft']], y = df['Total_Yellow_Cards']))\n",
    "\n",
    "# graphing\n",
    "df['yhat_knn'] = sklearn_knn.predict(df[['Sg_Match_Ft']])\n",
    "df.plot.scatter(x='Sg_Match_Ft',y='Total_Yellow_Cards')\n",
    "df.sort_values('Sg_Match_Ft').set_index('Sg_Match_Ft')['yhat_knn'].plot(color='r',lw=1)"
   ]
  },
  {
   "cell_type": "code",
   "execution_count": 52,
   "metadata": {},
   "outputs": [
    {
     "name": "stdout",
     "output_type": "stream",
     "text": [
      "-0.00260782109569635\n"
     ]
    },
    {
     "name": "stderr",
     "output_type": "stream",
     "text": [
      "<ipython-input-52-b311c9a7789f>:11: SettingWithCopyWarning: \n",
      "A value is trying to be set on a copy of a slice from a DataFrame.\n",
      "Try using .loc[row_indexer,col_indexer] = value instead\n",
      "\n",
      "See the caveats in the documentation: https://pandas.pydata.org/pandas-docs/stable/user_guide/indexing.html#returning-a-view-versus-a-copy\n",
      "  df['yhat_knn'] = sklearn_knn.predict(df[['Sg_Match_Ft']])\n"
     ]
    },
    {
     "data": {
      "text/plain": [
       "<AxesSubplot:xlabel='Sg_Match_Ft', ylabel='Total_Red_Cards'>"
      ]
     },
     "execution_count": 52,
     "metadata": {},
     "output_type": "execute_result"
    },
    {
     "data": {
      "image/png": "[encoded data removed]",
      "text/plain": [
       "<Figure size 432x288 with 1 Axes>"
      ]
     },
     "metadata": {
      "needs_background": "light"
     },
     "output_type": "display_data"
    }
   ],
   "source": [
    "# 3) Match Result vs. Total Red Cards\n",
    "\n",
    "# printing scores\n",
    "scores = pd.Series(dtype='float64')\n",
    "for i in range(1,100,10):\n",
    "    scores.loc[i] = cross_val_score(knn(n_neighbors=i), X = df[['Sg_Match_Ft']], y = df['Total_Red_Cards'],cv=5).mean()\n",
    "sklearn_knn = knn(n_neighbors=scores.idxmax()).fit(X = df[['Sg_Match_Ft']], y = df['Total_Red_Cards'])\n",
    "print(sklearn_knn.score(X = df[['Sg_Match_Ft']], y = df['Total_Red_Cards']))\n",
    "\n",
    "# graphing\n",
    "df['yhat_knn'] = sklearn_knn.predict(df[['Sg_Match_Ft']])\n",
    "df.plot.scatter(x='Sg_Match_Ft',y='Total_Red_Cards')\n",
    "df.sort_values('Sg_Match_Ft').set_index('Sg_Match_Ft')['yhat_knn'].plot(color='r',lw=1)"
   ]
  },
  {
   "cell_type": "code",
   "execution_count": 53,
   "metadata": {},
   "outputs": [
    {
     "name": "stderr",
     "output_type": "stream",
     "text": [
      "<ipython-input-53-698f1bd6ea88>:3: SettingWithCopyWarning: \n",
      "A value is trying to be set on a copy of a slice from a DataFrame.\n",
      "Try using .loc[row_indexer,col_indexer] = value instead\n",
      "\n",
      "See the caveats in the documentation: https://pandas.pydata.org/pandas-docs/stable/user_guide/indexing.html#returning-a-view-versus-a-copy\n",
      "  df['Total_Penalties'] = df['Total_Offsides'] + df['Total_Yellow_Cards'] + df['Total_Red_Cards']\n"
     ]
    },
    {
     "name": "stdout",
     "output_type": "stream",
     "text": [
      "-0.06488327496649227\n"
     ]
    },
    {
     "name": "stderr",
     "output_type": "stream",
     "text": [
      "<ipython-input-53-698f1bd6ea88>:13: SettingWithCopyWarning: \n",
      "A value is trying to be set on a copy of a slice from a DataFrame.\n",
      "Try using .loc[row_indexer,col_indexer] = value instead\n",
      "\n",
      "See the caveats in the documentation: https://pandas.pydata.org/pandas-docs/stable/user_guide/indexing.html#returning-a-view-versus-a-copy\n",
      "  df['yhat_knn'] = sklearn_knn.predict(df[['Sg_Match_Ft']])\n"
     ]
    },
    {
     "data": {
      "text/plain": [
       "<AxesSubplot:xlabel='Sg_Match_Ft', ylabel='Total_Penalties'>"
      ]
     },
     "execution_count": 53,
     "metadata": {},
     "output_type": "execute_result"
    },
    {
     "data": {
      "image/png": "[encoded data removed]",
      "text/plain": [
       "<Figure size 432x288 with 1 Axes>"
      ]
     },
     "metadata": {
      "needs_background": "light"
     },
     "output_type": "display_data"
    }
   ],
   "source": [
    "# 4) Match Result vs. Total Penalties\n",
    "\n",
    "df['Total_Penalties'] = df['Total_Offsides'] + df['Total_Yellow_Cards'] + df['Total_Red_Cards']\n",
    "\n",
    "# printing scores\n",
    "scores = pd.Series(dtype='float64')\n",
    "for i in range(1,100,10):\n",
    "    scores.loc[i] = cross_val_score(knn(n_neighbors=i), X = df[['Sg_Match_Ft']], y = df['Total_Penalties'],cv=5).mean()\n",
    "sklearn_knn = knn(n_neighbors=scores.idxmax()).fit(X = df[['Sg_Match_Ft']], y = df['Total_Penalties'])\n",
    "print(sklearn_knn.score(X = df[['Sg_Match_Ft']], y = df['Total_Penalties']))\n",
    "\n",
    "# graphing\n",
    "df['yhat_knn'] = sklearn_knn.predict(df[['Sg_Match_Ft']])\n",
    "df.plot.scatter(x='Sg_Match_Ft',y='Total_Penalties')\n",
    "df.sort_values('Sg_Match_Ft').set_index('Sg_Match_Ft')['yhat_knn'].plot(color='r',lw=1)"
   ]
  },
  {
   "cell_type": "code",
   "execution_count": 54,
   "metadata": {},
   "outputs": [],
   "source": [
    "# TODO: Discuss results of supervised learning"
   ]
  },
  {
   "cell_type": "markdown",
   "metadata": {},
   "source": [
    "### II. Comparing Match Result to Difference in Penalties\n"
   ]
  },
  {
   "cell_type": "markdown",
   "metadata": {},
   "source": [
    "Next, we will compare match result to the difference in penalties. In our previous section we compared total penalties, but this number does not tell which team had more penalties. Therefore, we thought looking at the difference in penalties could help us achieve better results.   "
   ]
  },
  {
   "cell_type": "markdown",
   "metadata": {},
   "source": [
    "* #### Match Result vs. Difference in Offsides Calls\n"
   ]
  },
  {
   "cell_type": "markdown",
   "metadata": {},
   "source": [
    "Same as in the previous section, we can start by looking at the top matches with the highest difference in offsides calls and those with the highest goals difference. Let's consider season 19/20 again as an example."
   ]
  },
  {
   "cell_type": "code",
   "execution_count": 55,
   "metadata": {},
   "outputs": [
    {
     "name": "stderr",
     "output_type": "stream",
     "text": [
      "<ipython-input-55-3238aab5b20b>:2: SettingWithCopyWarning: \n",
      "A value is trying to be set on a copy of a slice from a DataFrame.\n",
      "Try using .loc[row_indexer,col_indexer] = value instead\n",
      "\n",
      "See the caveats in the documentation: https://pandas.pydata.org/pandas-docs/stable/user_guide/indexing.html#returning-a-view-versus-a-copy\n",
      "  df['Diff_Offsides'] = (df['Home_Offsides'] - df['Away_Offsides']).abs()\n",
      "<ipython-input-55-3238aab5b20b>:3: SettingWithCopyWarning: \n",
      "A value is trying to be set on a copy of a slice from a DataFrame.\n",
      "Try using .loc[row_indexer,col_indexer] = value instead\n",
      "\n",
      "See the caveats in the documentation: https://pandas.pydata.org/pandas-docs/stable/user_guide/indexing.html#returning-a-view-versus-a-copy\n",
      "  df['Diff_Yellow_Cards'] = (df['Home_Yellow_Cards'] - df['Away_Yellow_Cards']).abs()\n",
      "<ipython-input-55-3238aab5b20b>:4: SettingWithCopyWarning: \n",
      "A value is trying to be set on a copy of a slice from a DataFrame.\n",
      "Try using .loc[row_indexer,col_indexer] = value instead\n",
      "\n",
      "See the caveats in the documentation: https://pandas.pydata.org/pandas-docs/stable/user_guide/indexing.html#returning-a-view-versus-a-copy\n",
      "  df['Diff_Red_Cards'] = (df['Home_Red_Cards'] - df['Away_Red_Cards']).abs()\n"
     ]
    }
   ],
   "source": [
    "# Add columns with the difference in each penalty \n",
    "df['Diff_Offsides'] = (df['Home_Offsides'] - df['Away_Offsides']).abs()\n",
    "df['Diff_Yellow_Cards'] = (df['Home_Yellow_Cards'] - df['Away_Yellow_Cards']).abs()\n",
    "df['Diff_Red_Cards'] = (df['Home_Red_Cards'] - df['Away_Red_Cards']).abs()"
   ]
  },
  {
   "cell_type": "code",
   "execution_count": 56,
   "metadata": {},
   "outputs": [
    {
     "data": {
      "image/png": "[encoded data removed]",
      "text/plain": [
       "<Figure size 432x288 with 1 Axes>"
      ]
     },
     "metadata": {
      "needs_background": "light"
     },
     "output_type": "display_data"
    },
    {
     "data": {
      "image/png": "[encoded data removed]",
      "text/plain": [
       "<Figure size 432x288 with 1 Axes>"
      ]
     },
     "metadata": {
      "needs_background": "light"
     },
     "output_type": "display_data"
    }
   ],
   "source": [
    "#Top 10 matches with the highest difference in offsides for 19/20 season\n",
    "df_last_season = df.loc[ df['Season'] == '19/20'].set_index(['Match_Teams'])\n",
    "fig, ax = plt.subplots()\n",
    "df_last_season[['Diff_Offsides']].sort_values('Diff_Offsides', ascending = False).head(10).plot.barh(ax=ax, color = 'limegreen')\n",
    "ax.invert_yaxis()\n",
    "ax.set_title('Top 10 matches with the highest difference in offsides calls for 19/20 season', fontweight = 'bold')\n",
    "ax.set_xlabel('Difference in Offsides')\n",
    "ax.get_legend().remove()\n",
    "ax.yaxis.label.set_visible(False)\n",
    "\n",
    "\n",
    "#Top 10 matches with the highest difference in goals for 19/20 season\n",
    "fig, ax = plt.subplots()\n",
    "df_last_season[['Sg_Match_Ft']].sort_values('Sg_Match_Ft', ascending = False).head(10).plot.barh(ax=ax, color = 'darkorange')\n",
    "ax.invert_yaxis()\n",
    "ax.set_title('Top 10 matches with the highest difference in goals for 19/20 season', fontweight = 'bold')\n",
    "ax.get_legend().remove()\n",
    "ax.set_xlabel('Difference in Goals')\n",
    "ax.yaxis.label.set_visible(False)"
   ]
  },
  {
   "cell_type": "markdown",
   "metadata": {},
   "source": [
    "This time around we find there is a match from the top 10 with the highest difference in offsides among those with the highest score difference, Brighton and Hove Albion vs Manchester City. We can look at this match in more detail."
   ]
  },
  {
   "cell_type": "code",
   "execution_count": 57,
   "metadata": {},
   "outputs": [
    {
     "data": {
      "text/html": [
       "<div>\n",
       "<style scoped>\n",
       "    .dataframe tbody tr th:only-of-type {\n",
       "        vertical-align: middle;\n",
       "    }\n",
       "\n",
       "    .dataframe tbody tr th {\n",
       "        vertical-align: top;\n",
       "    }\n",
       "\n",
       "    .dataframe thead th {\n",
       "        text-align: right;\n",
       "    }\n",
       "</style>\n",
       "<table border=\"1\" class=\"dataframe\">\n",
       "  <thead>\n",
       "    <tr style=\"text-align: right;\">\n",
       "      <th></th>\n",
       "      <th>Result_Full</th>\n",
       "      <th>Home_Offsides</th>\n",
       "      <th>Away_Offsides</th>\n",
       "      <th>Diff_Offsides</th>\n",
       "      <th>Sg_Match_Ft</th>\n",
       "      <th>Link_Match</th>\n",
       "    </tr>\n",
       "    <tr>\n",
       "      <th>Match_Teams</th>\n",
       "      <th></th>\n",
       "      <th></th>\n",
       "      <th></th>\n",
       "      <th></th>\n",
       "      <th></th>\n",
       "      <th></th>\n",
       "    </tr>\n",
       "  </thead>\n",
       "  <tbody>\n",
       "    <tr>\n",
       "      <th>Aston Villa -vs- Everton</th>\n",
       "      <td>2-0</td>\n",
       "      <td>8</td>\n",
       "      <td>1</td>\n",
       "      <td>7</td>\n",
       "      <td>2</td>\n",
       "      <td>https://www.premierleague.com/match/46625</td>\n",
       "    </tr>\n",
       "    <tr>\n",
       "      <th>Arsenal -vs- Brighton and Hove Albion</th>\n",
       "      <td>1-2</td>\n",
       "      <td>7</td>\n",
       "      <td>0</td>\n",
       "      <td>7</td>\n",
       "      <td>1</td>\n",
       "      <td>https://www.premierleague.com/match/46745</td>\n",
       "    </tr>\n",
       "    <tr>\n",
       "      <th>Burnley -vs- West Ham United</th>\n",
       "      <td>3-0</td>\n",
       "      <td>7</td>\n",
       "      <td>1</td>\n",
       "      <td>6</td>\n",
       "      <td>3</td>\n",
       "      <td>https://www.premierleague.com/match/46715</td>\n",
       "    </tr>\n",
       "    <tr>\n",
       "      <th>Chelsea -vs- Liverpool</th>\n",
       "      <td>1-2</td>\n",
       "      <td>7</td>\n",
       "      <td>1</td>\n",
       "      <td>6</td>\n",
       "      <td>1</td>\n",
       "      <td>https://www.premierleague.com/match/46657</td>\n",
       "    </tr>\n",
       "    <tr>\n",
       "      <th>Liverpool -vs- Newcastle United</th>\n",
       "      <td>3-1</td>\n",
       "      <td>2</td>\n",
       "      <td>8</td>\n",
       "      <td>6</td>\n",
       "      <td>2</td>\n",
       "      <td>https://www.premierleague.com/match/46648</td>\n",
       "    </tr>\n",
       "    <tr>\n",
       "      <th>Newcastle United -vs- Watford</th>\n",
       "      <td>1-1</td>\n",
       "      <td>6</td>\n",
       "      <td>0</td>\n",
       "      <td>6</td>\n",
       "      <td>0</td>\n",
       "      <td>https://www.premierleague.com/match/46642</td>\n",
       "    </tr>\n",
       "    <tr>\n",
       "      <th>Brighton and Hove Albion -vs- Manchester City</th>\n",
       "      <td>0-5</td>\n",
       "      <td>6</td>\n",
       "      <td>1</td>\n",
       "      <td>5</td>\n",
       "      <td>5</td>\n",
       "      <td>https://www.premierleague.com/match/46947</td>\n",
       "    </tr>\n",
       "    <tr>\n",
       "      <th>Tottenham Hotspur -vs- Sheffield United</th>\n",
       "      <td>1-1</td>\n",
       "      <td>1</td>\n",
       "      <td>6</td>\n",
       "      <td>5</td>\n",
       "      <td>0</td>\n",
       "      <td>https://www.premierleague.com/match/46723</td>\n",
       "    </tr>\n",
       "    <tr>\n",
       "      <th>Tottenham Hotspur -vs- Brighton and Hove Albion</th>\n",
       "      <td>2-1</td>\n",
       "      <td>5</td>\n",
       "      <td>0</td>\n",
       "      <td>5</td>\n",
       "      <td>1</td>\n",
       "      <td>https://www.premierleague.com/match/46793</td>\n",
       "    </tr>\n",
       "    <tr>\n",
       "      <th>AFC Bournemouth -vs- Watford</th>\n",
       "      <td>0-3</td>\n",
       "      <td>0</td>\n",
       "      <td>5</td>\n",
       "      <td>5</td>\n",
       "      <td>3</td>\n",
       "      <td>https://www.premierleague.com/match/46816</td>\n",
       "    </tr>\n",
       "  </tbody>\n",
       "</table>\n",
       "</div>"
      ],
      "text/plain": [
       "                                                Result_Full  Home_Offsides  \\\n",
       "Match_Teams                                                                  \n",
       "Aston Villa -vs- Everton                                2-0              8   \n",
       "Arsenal -vs- Brighton and Hove Albion                   1-2              7   \n",
       "Burnley -vs- West Ham United                            3-0              7   \n",
       "Chelsea -vs- Liverpool                                  1-2              7   \n",
       "Liverpool -vs- Newcastle United                         3-1              2   \n",
       "Newcastle United -vs- Watford                           1-1              6   \n",
       "Brighton and Hove Albion -vs- Manchester City           0-5              6   \n",
       "Tottenham Hotspur -vs- Sheffield United                 1-1              1   \n",
       "Tottenham Hotspur -vs- Brighton and Hove Albion         2-1              5   \n",
       "AFC Bournemouth -vs- Watford                            0-3              0   \n",
       "\n",
       "                                                 Away_Offsides  Diff_Offsides  \\\n",
       "Match_Teams                                                                     \n",
       "Aston Villa -vs- Everton                                     1              7   \n",
       "Arsenal -vs- Brighton and Hove Albion                        0              7   \n",
       "Burnley -vs- West Ham United                                 1              6   \n",
       "Chelsea -vs- Liverpool                                       1              6   \n",
       "Liverpool -vs- Newcastle United                              8              6   \n",
       "Newcastle United -vs- Watford                                0              6   \n",
       "Brighton and Hove Albion -vs- Manchester City                1              5   \n",
       "Tottenham Hotspur -vs- Sheffield United                      6              5   \n",
       "Tottenham Hotspur -vs- Brighton and Hove Albion              0              5   \n",
       "AFC Bournemouth -vs- Watford                                 5              5   \n",
       "\n",
       "                                                 Sg_Match_Ft  \\\n",
       "Match_Teams                                                    \n",
       "Aston Villa -vs- Everton                                   2   \n",
       "Arsenal -vs- Brighton and Hove Albion                      1   \n",
       "Burnley -vs- West Ham United                               3   \n",
       "Chelsea -vs- Liverpool                                     1   \n",
       "Liverpool -vs- Newcastle United                            2   \n",
       "Newcastle United -vs- Watford                              0   \n",
       "Brighton and Hove Albion -vs- Manchester City              5   \n",
       "Tottenham Hotspur -vs- Sheffield United                    0   \n",
       "Tottenham Hotspur -vs- Brighton and Hove Albion            1   \n",
       "AFC Bournemouth -vs- Watford                               3   \n",
       "\n",
       "                                                                                Link_Match  \n",
       "Match_Teams                                                                                 \n",
       "Aston Villa -vs- Everton                         https://www.premierleague.com/match/46625  \n",
       "Arsenal -vs- Brighton and Hove Albion            https://www.premierleague.com/match/46745  \n",
       "Burnley -vs- West Ham United                     https://www.premierleague.com/match/46715  \n",
       "Chelsea -vs- Liverpool                           https://www.premierleague.com/match/46657  \n",
       "Liverpool -vs- Newcastle United                  https://www.premierleague.com/match/46648  \n",
       "Newcastle United -vs- Watford                    https://www.premierleague.com/match/46642  \n",
       "Brighton and Hove Albion -vs- Manchester City    https://www.premierleague.com/match/46947  \n",
       "Tottenham Hotspur -vs- Sheffield United          https://www.premierleague.com/match/46723  \n",
       "Tottenham Hotspur -vs- Brighton and Hove Albion  https://www.premierleague.com/match/46793  \n",
       "AFC Bournemouth -vs- Watford                     https://www.premierleague.com/match/46816  "
      ]
     },
     "execution_count": 57,
     "metadata": {},
     "output_type": "execute_result"
    }
   ],
   "source": [
    "df_last_season[['Result_Full','Home_Offsides', 'Away_Offsides', 'Diff_Offsides', 'Sg_Match_Ft','Link_Match']].sort_values('Diff_Offsides', ascending = False).head(10)"
   ]
  },
  {
   "cell_type": "markdown",
   "metadata": {},
   "source": [
    "We can see in this match Manchester City beat Brighton and Hove Albion, 5 to 0. The loser team got 6 offsides, while the winning team only got 1, so this might have partially influenced the match result. Although this is a particular case, we can infer offsides can affect the match result even if just a little. In the table above, some of the losing teams have more offsides than the winning team but some others do not. Therefore, we can say offsides alone do not explain much of the match result, but it can affect it in some cases together with other factors.   "
   ]
  },
  {
   "cell_type": "markdown",
   "metadata": {},
   "source": [
    "* #### Match Result vs. Difference in Yellow Cards\n"
   ]
  },
  {
   "cell_type": "markdown",
   "metadata": {},
   "source": [
    "We can compare the matches with the maximum difference in yellow cards and the matches with the biggest difference in goals. Let's see those from the last season."
   ]
  },
  {
   "cell_type": "code",
   "execution_count": 58,
   "metadata": {},
   "outputs": [
    {
     "data": {
      "image/png": "[encoded data removed]",
      "text/plain": [
       "<Figure size 432x288 with 1 Axes>"
      ]
     },
     "metadata": {
      "needs_background": "light"
     },
     "output_type": "display_data"
    },
    {
     "data": {
      "image/png": "[encoded data removed]",
      "text/plain": [
       "<Figure size 432x288 with 1 Axes>"
      ]
     },
     "metadata": {
      "needs_background": "light"
     },
     "output_type": "display_data"
    }
   ],
   "source": [
    "fig, ax = plt.subplots()\n",
    "df_last_season[['Diff_Yellow_Cards']].sort_values('Diff_Yellow_Cards', ascending = False).head(10).plot.barh(ax=ax, color = 'gold')\n",
    "ax.invert_yaxis()\n",
    "ax.set_title('Top 10 matches with the highest difference in yellow cards for 19/20 season', fontweight = 'bold')\n",
    "ax.set_xlabel('Difference in Yellow Cards')\n",
    "ax.yaxis.label.set_visible(False)\n",
    "ax.get_legend().remove()\n",
    "\n",
    "#Top 10 matches with the highest difference in goals for 19/20 season\n",
    "fig, ax = plt.subplots()\n",
    "df_last_season[['Sg_Match_Ft']].sort_values('Sg_Match_Ft', ascending = False).head(10).plot.barh(ax=ax, color = 'darkorange')\n",
    "ax.invert_yaxis()\n",
    "ax.set_title('Top 10 matches with the highest difference in goals for 19/20 season', fontweight = 'bold')\n",
    "ax.get_legend().remove()\n",
    "ax.set_xlabel('Difference in Goals')\n",
    "ax.yaxis.label.set_visible(False)"
   ]
  },
  {
   "cell_type": "markdown",
   "metadata": {},
   "source": [
    "We find that having a wider difference in yellow cards does not translate to having a bigger score difference. Similar as when using the total number of yellow cards, we find that the difference in yellow cards is statistically significant but it adds little explanatory power to the match result.   "
   ]
  },
  {
   "cell_type": "code",
   "execution_count": 59,
   "metadata": {},
   "outputs": [
    {
     "name": "stdout",
     "output_type": "stream",
     "text": [
      "                            OLS Regression Results                            \n",
      "==============================================================================\n",
      "Dep. Variable:            Sg_Match_Ft   R-squared:                       0.005\n",
      "Model:                            OLS   Adj. R-squared:                  0.004\n",
      "Method:                 Least Squares   F-statistic:                     17.01\n",
      "Date:                Tue, 18 May 2021   Prob (F-statistic):           3.80e-05\n",
      "Time:                        13:06:50   Log-Likelihood:                -5823.6\n",
      "No. Observations:                3592   AIC:                         1.165e+04\n",
      "Df Residuals:                    3590   BIC:                         1.166e+04\n",
      "Df Model:                           1                                         \n",
      "Covariance Type:            nonrobust                                         \n",
      "=====================================================================================\n",
      "                        coef    std err          t      P>|t|      [0.025      0.975]\n",
      "-------------------------------------------------------------------------------------\n",
      "Intercept             1.4951      0.032     47.369      0.000       1.433       1.557\n",
      "Diff_Yellow_Cards    -0.0804      0.020     -4.124      0.000      -0.119      -0.042\n",
      "==============================================================================\n",
      "Omnibus:                      624.065   Durbin-Watson:                   1.970\n",
      "Prob(Omnibus):                  0.000   Jarque-Bera (JB):             1134.635\n",
      "Skew:                           1.090   Prob(JB):                    4.14e-247\n",
      "Kurtosis:                       4.683   Cond. No.                         3.14\n",
      "==============================================================================\n",
      "\n",
      "Notes:\n",
      "[1] Standard Errors assume that the covariance matrix of the errors is correctly specified.\n"
     ]
    }
   ],
   "source": [
    "reg = smf.ols('Sg_Match_Ft ~ Diff_Yellow_Cards',df).fit()\n",
    "print(reg.summary())"
   ]
  },
  {
   "cell_type": "markdown",
   "metadata": {},
   "source": [
    "* #### Match Result vs. Difference in Red Cards\n"
   ]
  },
  {
   "cell_type": "markdown",
   "metadata": {},
   "source": [
    "As we previously saw, red cards are not so recurrent, so in most cases the difference in red cards will be one or zero. Therefore, comparing it to the difference in the score of the match might not be really useful. As we can see below, in most matches the difference in red cards is zero, so we could say red cards are not really helpful to predict the result of a match.     "
   ]
  },
  {
   "cell_type": "code",
   "execution_count": 60,
   "metadata": {},
   "outputs": [
    {
     "data": {
      "text/plain": [
       "Diff_Red_Cards\n",
       "0    3147\n",
       "1     428\n",
       "2      17\n",
       "Name: Link_Match, dtype: int64"
      ]
     },
     "execution_count": 60,
     "metadata": {},
     "output_type": "execute_result"
    }
   ],
   "source": [
    "df.groupby('Diff_Red_Cards')['Link_Match'].nunique()"
   ]
  },
  {
   "cell_type": "markdown",
   "metadata": {},
   "source": [
    "* #### Match Result vs. Difference in Penalties\n"
   ]
  },
  {
   "cell_type": "code",
   "execution_count": 61,
   "metadata": {},
   "outputs": [
    {
     "name": "stdout",
     "output_type": "stream",
     "text": [
      "                            OLS Regression Results                            \n",
      "==============================================================================\n",
      "Dep. Variable:            Sg_Match_Ft   R-squared:                       0.006\n",
      "Model:                            OLS   Adj. R-squared:                  0.005\n",
      "Method:                 Least Squares   F-statistic:                     6.703\n",
      "Date:                Tue, 18 May 2021   Prob (F-statistic):           0.000165\n",
      "Time:                        13:06:50   Log-Likelihood:                -5822.0\n",
      "No. Observations:                3592   AIC:                         1.165e+04\n",
      "Df Residuals:                    3588   BIC:                         1.168e+04\n",
      "Df Model:                           3                                         \n",
      "Covariance Type:            nonrobust                                         \n",
      "=====================================================================================\n",
      "                        coef    std err          t      P>|t|      [0.025      0.975]\n",
      "-------------------------------------------------------------------------------------\n",
      "Intercept             1.4889      0.040     37.246      0.000       1.410       1.567\n",
      "Diff_Offsides        -0.0031      0.013     -0.234      0.815      -0.029       0.023\n",
      "Diff_Yellow_Cards    -0.0816      0.020     -4.182      0.000      -0.120      -0.043\n",
      "Diff_Red_Cards        0.1025      0.059      1.748      0.081      -0.012       0.217\n",
      "==============================================================================\n",
      "Omnibus:                      619.663   Durbin-Watson:                   1.970\n",
      "Prob(Omnibus):                  0.000   Jarque-Bera (JB):             1119.680\n",
      "Skew:                           1.086   Prob(JB):                    7.32e-244\n",
      "Kurtosis:                       4.663   Cond. No.                         7.95\n",
      "==============================================================================\n",
      "\n",
      "Notes:\n",
      "[1] Standard Errors assume that the covariance matrix of the errors is correctly specified.\n"
     ]
    }
   ],
   "source": [
    "reg = smf.ols('Sg_Match_Ft ~ Diff_Offsides + Diff_Yellow_Cards + Diff_Red_Cards',df).fit()\n",
    "print(reg.summary())"
   ]
  },
  {
   "cell_type": "markdown",
   "metadata": {},
   "source": [
    "By running a regression with the three penalties as independent variables, we obtain a lower R-square than using the totals. Nonetheless, we can see yellow cards is again the only variable that is statistically significant. Our results again disprove our hypothesis."
   ]
  },
  {
   "cell_type": "markdown",
   "metadata": {},
   "source": [
    "* #### Supervised Learning Models\n",
    "\n",
    "Despite learning a difference in penalties results in the same weak correlation with match results as total penalties, we still wanted to see how a knn score and visualization looked. As we did in the first section, we again constricted a knn supervised model."
   ]
  },
  {
   "cell_type": "code",
   "execution_count": 69,
   "metadata": {},
   "outputs": [
    {
     "name": "stdout",
     "output_type": "stream",
     "text": [
      "-0.033612762726788814\n"
     ]
    },
    {
     "name": "stderr",
     "output_type": "stream",
     "text": [
      "<ipython-input-69-5625545c551f>:11: SettingWithCopyWarning: \n",
      "A value is trying to be set on a copy of a slice from a DataFrame.\n",
      "Try using .loc[row_indexer,col_indexer] = value instead\n",
      "\n",
      "See the caveats in the documentation: https://pandas.pydata.org/pandas-docs/stable/user_guide/indexing.html#returning-a-view-versus-a-copy\n",
      "  df['yhat_knn'] = sklearn_knn.predict(df[['Sg_Match_Ft']])\n"
     ]
    },
    {
     "data": {
      "text/plain": [
       "<AxesSubplot:xlabel='Sg_Match_Ft', ylabel='Diff_Offsides'>"
      ]
     },
     "execution_count": 69,
     "metadata": {},
     "output_type": "execute_result"
    },
    {
     "data": {
      "image/png": "[encoded data removed]",
      "text/plain": [
       "<Figure size 432x288 with 1 Axes>"
      ]
     },
     "metadata": {
      "needs_background": "light"
     },
     "output_type": "display_data"
    }
   ],
   "source": [
    "# 1) Match Result vs. Difference in Offsides calls\n",
    "\n",
    "# printing scores\n",
    "scores = pd.Series(dtype='float64')\n",
    "for i in range(1,100,10):\n",
    "    scores.loc[i] = cross_val_score(knn(n_neighbors=i), X = df[['Sg_Match_Ft']], y = df['Diff_Offsides'],cv=5).mean()\n",
    "sklearn_knn = knn(n_neighbors=scores.idxmax()).fit(X = df[['Sg_Match_Ft']], y = df['Diff_Offsides'])\n",
    "print(sklearn_knn.score(X = df[['Sg_Match_Ft']], y = df['Diff_Offsides']))\n",
    "\n",
    "# graphing\n",
    "df['yhat_knn'] = sklearn_knn.predict(df[['Sg_Match_Ft']])\n",
    "df.plot.scatter(x='Sg_Match_Ft',y='Diff_Offsides')\n",
    "df.sort_values('Sg_Match_Ft').set_index('Sg_Match_Ft')['yhat_knn'].plot(color='r',lw=1)"
   ]
  },
  {
   "cell_type": "code",
   "execution_count": 70,
   "metadata": {},
   "outputs": [
    {
     "name": "stdout",
     "output_type": "stream",
     "text": [
      "0.0031236724627926593\n"
     ]
    },
    {
     "name": "stderr",
     "output_type": "stream",
     "text": [
      "<ipython-input-70-19f8e1a6e456>:11: SettingWithCopyWarning: \n",
      "A value is trying to be set on a copy of a slice from a DataFrame.\n",
      "Try using .loc[row_indexer,col_indexer] = value instead\n",
      "\n",
      "See the caveats in the documentation: https://pandas.pydata.org/pandas-docs/stable/user_guide/indexing.html#returning-a-view-versus-a-copy\n",
      "  df['yhat_knn'] = sklearn_knn.predict(df[['Sg_Match_Ft']])\n"
     ]
    },
    {
     "data": {
      "text/plain": [
       "<AxesSubplot:xlabel='Sg_Match_Ft', ylabel='Diff_Yellow_Cards'>"
      ]
     },
     "execution_count": 70,
     "metadata": {},
     "output_type": "execute_result"
    },
    {
     "data": {
      "image/png": "[encoded data removed]",
      "text/plain": [
       "<Figure size 432x288 with 1 Axes>"
      ]
     },
     "metadata": {
      "needs_background": "light"
     },
     "output_type": "display_data"
    }
   ],
   "source": [
    "# 2) Match Result vs. Difference in Yellow Cards\n",
    "\n",
    "# printing scores\n",
    "scores = pd.Series(dtype='float64')\n",
    "for i in range(1,100,10):\n",
    "    scores.loc[i] = cross_val_score(knn(n_neighbors=i), X = df[['Sg_Match_Ft']], y = df['Diff_Yellow_Cards'],cv=5).mean()\n",
    "sklearn_knn = knn(n_neighbors=scores.idxmax()).fit(X = df[['Sg_Match_Ft']], y = df['Diff_Yellow_Cards'])\n",
    "print(sklearn_knn.score(X = df[['Sg_Match_Ft']], y = df['Diff_Yellow_Cards']))\n",
    "\n",
    "# graphing\n",
    "df['yhat_knn'] = sklearn_knn.predict(df[['Sg_Match_Ft']])\n",
    "df.plot.scatter(x='Sg_Match_Ft',y='Diff_Yellow_Cards')\n",
    "df.sort_values('Sg_Match_Ft').set_index('Sg_Match_Ft')['yhat_knn'].plot(color='r',lw=1)"
   ]
  },
  {
   "cell_type": "code",
   "execution_count": 73,
   "metadata": {},
   "outputs": [
    {
     "name": "stdout",
     "output_type": "stream",
     "text": [
      "-0.0007706099631834551\n"
     ]
    },
    {
     "name": "stderr",
     "output_type": "stream",
     "text": [
      "<ipython-input-73-7e0690fdaeb5>:11: SettingWithCopyWarning: \n",
      "A value is trying to be set on a copy of a slice from a DataFrame.\n",
      "Try using .loc[row_indexer,col_indexer] = value instead\n",
      "\n",
      "See the caveats in the documentation: https://pandas.pydata.org/pandas-docs/stable/user_guide/indexing.html#returning-a-view-versus-a-copy\n",
      "  df['yhat_knn'] = sklearn_knn.predict(df[['Sg_Match_Ft']])\n"
     ]
    },
    {
     "data": {
      "text/plain": [
       "<AxesSubplot:xlabel='Sg_Match_Ft', ylabel='Diff_Red_Cards'>"
      ]
     },
     "execution_count": 73,
     "metadata": {},
     "output_type": "execute_result"
    },
    {
     "data": {
      "image/png": "[encoded data removed]",
      "text/plain": [
       "<Figure size 432x288 with 1 Axes>"
      ]
     },
     "metadata": {
      "needs_background": "light"
     },
     "output_type": "display_data"
    }
   ],
   "source": [
    "# 3) Match Result vs. Difference in Red Cards\n",
    "\n",
    "# printing scores\n",
    "scores = pd.Series(dtype='float64')\n",
    "for i in range(1,100,10):\n",
    "    scores.loc[i] = cross_val_score(knn(n_neighbors=i), X = df[['Sg_Match_Ft']], y = df['Diff_Red_Cards'],cv=5).mean()\n",
    "sklearn_knn = knn(n_neighbors=scores.idxmax()).fit(X = df[['Sg_Match_Ft']], y = df['Diff_Red_Cards'])\n",
    "print(sklearn_knn.score(X = df[['Sg_Match_Ft']], y = df['Diff_Red_Cards']))\n",
    "\n",
    "# graphing\n",
    "df['yhat_knn'] = sklearn_knn.predict(df[['Sg_Match_Ft']])\n",
    "df.plot.scatter(x='Sg_Match_Ft',y='Diff_Red_Cards')\n",
    "df.sort_values('Sg_Match_Ft').set_index('Sg_Match_Ft')['yhat_knn'].plot(color='r',lw=1)"
   ]
  },
  {
   "cell_type": "code",
   "execution_count": 74,
   "metadata": {},
   "outputs": [
    {
     "name": "stderr",
     "output_type": "stream",
     "text": [
      "<ipython-input-74-4851c0f155a3>:3: SettingWithCopyWarning: \n",
      "A value is trying to be set on a copy of a slice from a DataFrame.\n",
      "Try using .loc[row_indexer,col_indexer] = value instead\n",
      "\n",
      "See the caveats in the documentation: https://pandas.pydata.org/pandas-docs/stable/user_guide/indexing.html#returning-a-view-versus-a-copy\n",
      "  df['Diff_Total_Penalties'] = df['Diff_Offsides'] + df['Diff_Yellow_Cards'] + df['Diff_Red_Cards']\n"
     ]
    },
    {
     "name": "stdout",
     "output_type": "stream",
     "text": [
      "-0.0211841933029433\n"
     ]
    },
    {
     "name": "stderr",
     "output_type": "stream",
     "text": [
      "<ipython-input-74-4851c0f155a3>:13: SettingWithCopyWarning: \n",
      "A value is trying to be set on a copy of a slice from a DataFrame.\n",
      "Try using .loc[row_indexer,col_indexer] = value instead\n",
      "\n",
      "See the caveats in the documentation: https://pandas.pydata.org/pandas-docs/stable/user_guide/indexing.html#returning-a-view-versus-a-copy\n",
      "  df['yhat_knn'] = sklearn_knn.predict(df[['Sg_Match_Ft']])\n"
     ]
    },
    {
     "data": {
      "text/plain": [
       "<AxesSubplot:xlabel='Sg_Match_Ft', ylabel='Diff_Total_Penalties'>"
      ]
     },
     "execution_count": 74,
     "metadata": {},
     "output_type": "execute_result"
    },
    {
     "data": {
      "image/png": "[encoded data removed]",
      "text/plain": [
       "<Figure size 432x288 with 1 Axes>"
      ]
     },
     "metadata": {
      "needs_background": "light"
     },
     "output_type": "display_data"
    }
   ],
   "source": [
    "# 4) Match Result vs. Difference in Total Penalties\n",
    "\n",
    "df['Diff_Total_Penalties'] = df['Diff_Offsides'] + df['Diff_Yellow_Cards'] + df['Diff_Red_Cards']\n",
    "\n",
    "# printing scores\n",
    "scores = pd.Series(dtype='float64')\n",
    "for i in range(1,100,10):\n",
    "    scores.loc[i] = cross_val_score(knn(n_neighbors=i), X = df[['Sg_Match_Ft']], y = df['Diff_Total_Penalties'],cv=5).mean()\n",
    "sklearn_knn = knn(n_neighbors=scores.idxmax()).fit(X = df[['Sg_Match_Ft']], y = df['Diff_Total_Penalties'])\n",
    "print(sklearn_knn.score(X = df[['Sg_Match_Ft']], y = df['Diff_Total_Penalties']))\n",
    "\n",
    "# graphing\n",
    "df['yhat_knn'] = sklearn_knn.predict(df[['Sg_Match_Ft']])\n",
    "df.plot.scatter(x='Sg_Match_Ft',y='Diff_Total_Penalties')\n",
    "df.sort_values('Sg_Match_Ft').set_index('Sg_Match_Ft')['yhat_knn'].plot(color='r',lw=1)"
   ]
  },
  {
   "cell_type": "code",
   "execution_count": 63,
   "metadata": {},
   "outputs": [],
   "source": [
    "#Additional visualizations "
   ]
  },
  {
   "cell_type": "code",
   "execution_count": 64,
   "metadata": {},
   "outputs": [],
   "source": [
    "offsides_team_h = df.groupby(['Home_Team'])[['Home_Offsides']].sum()\n",
    "offsides_team_a = df.groupby(['Away_Team'])[['Away_Offsides']].sum()\n",
    "offsides_team_a.index.names = ['Home_Team']\n",
    "\n",
    "df_offsides = pd.merge(offsides_team_h,offsides_team_a,on = 'Home_Team')\n",
    "df_offsides['Total_Offsides'] = df_offsides['Home_Offsides'] + df_offsides['Away_Offsides']\n",
    "df_offsides['Num_Matches'] = df_team['Num_Matches']\n",
    "df_offsides['Weighted_Average'] = df_offsides['Total_Offsides'] / df_offsides['Num_Matches']"
   ]
  },
  {
   "cell_type": "code",
   "execution_count": 65,
   "metadata": {},
   "outputs": [
    {
     "data": {
      "image/png": "[encoded data removed]",
      "text/plain": [
       "<Figure size 720x648 with 1 Axes>"
      ]
     },
     "metadata": {
      "needs_background": "light"
     },
     "output_type": "display_data"
    }
   ],
   "source": [
    "fig, ax = plt.subplots()\n",
    "df_offsides[['Total_Offsides']].sort_values('Total_Offsides', ascending = False).head(40).plot.barh(ax=ax, figsize= (10,9))\n",
    "ax.invert_yaxis()\n",
    "ax.set_title('Total offsides per team from season 10/11 to season 19/20 ', size = 14, fontweight = 'bold')\n",
    "ax.get_legend().remove()\n",
    "ax.set_xlabel('Number of offsides', size= 11)\n",
    "ax.yaxis.label.set_visible(False)"
   ]
  },
  {
   "cell_type": "markdown",
   "metadata": {},
   "source": [
    "We plotted the total number of offsides per team. However, as we saw at the beginning of our analysis, there are some teams that have played more matches than others, so we divided the total number of offsides by the number of matches each team has played."
   ]
  },
  {
   "cell_type": "code",
   "execution_count": 66,
   "metadata": {},
   "outputs": [
    {
     "data": {
      "image/png": "[encoded data removed]",
      "text/plain": [
       "<Figure size 720x576 with 1 Axes>"
      ]
     },
     "metadata": {
      "needs_background": "light"
     },
     "output_type": "display_data"
    }
   ],
   "source": [
    "fig, ax = plt.subplots()\n",
    "df_offsides[['Weighted_Average']].sort_values('Weighted_Average', ascending = False).head(40).plot.barh(ax=ax, figsize= (10,8))\n",
    "ax.invert_yaxis()\n",
    "ax.set_title('Average offsides per team from season 10/11 to season 19/20 ', size = 14, fontweight = 'bold')\n",
    "ax.get_legend().remove()\n",
    "ax.set_xlabel('Number of offsides', size = 11)\n",
    "ax.yaxis.label.set_visible(False)"
   ]
  },
  {
   "cell_type": "code",
   "execution_count": 67,
   "metadata": {},
   "outputs": [
    {
     "data": {
      "image/png": "[encoded data removed]",
      "text/plain": [
       "<Figure size 720x576 with 1 Axes>"
      ]
     },
     "metadata": {
      "needs_background": "light"
     },
     "output_type": "display_data"
    }
   ],
   "source": [
    "yellow_team_h = df.groupby(['Home_Team'])[['Home_Yellow_Cards']].sum()\n",
    "yellow_team_a = df.groupby(['Away_Team'])[['Away_Yellow_Cards']].sum()\n",
    "yellow_team_a.index.names = ['Home_Team']\n",
    "\n",
    "df_yellow = pd.merge(yellow_team_h,yellow_team_a,on = 'Home_Team')\n",
    "df_yellow['Total_Yellow_Cards'] = df_yellow['Home_Yellow_Cards'] + df_yellow['Away_Yellow_Cards']\n",
    "df_yellow['Num_Matches'] = df_team['Num_Matches']\n",
    "df_yellow['Weighted_Average'] = df_yellow['Total_Yellow_Cards'] / df_yellow['Num_Matches']\n",
    "\n",
    "fig, ax = plt.subplots()\n",
    "df_yellow[['Weighted_Average']].sort_values('Weighted_Average', ascending = False).head(40).plot.barh(ax=ax, figsize= (10,8), color ='gold')\n",
    "ax.invert_yaxis()\n",
    "ax.set_title('Average yellow cards per team from season 10/11 to season 19/20 ', fontweight = 'bold')\n",
    "ax.get_legend().remove()\n",
    "ax.set_xlabel('Number of yellow cards', size = 11)\n",
    "ax.yaxis.label.set_visible(False)"
   ]
  },
  {
   "cell_type": "code",
   "execution_count": 68,
   "metadata": {},
   "outputs": [
    {
     "data": {
      "image/png": "[encoded data removed]",
      "text/plain": [
       "<Figure size 720x576 with 1 Axes>"
      ]
     },
     "metadata": {
      "needs_background": "light"
     },
     "output_type": "display_data"
    }
   ],
   "source": [
    "red_team_h = df.groupby(['Home_Team'])[['Home_Red_Cards']].sum()\n",
    "red_team_a = df.groupby(['Away_Team'])[['Away_Red_Cards']].sum()\n",
    "red_team_a.index.names = ['Home_Team']\n",
    "\n",
    "df_red = pd.merge(red_team_h,red_team_a,on = 'Home_Team')\n",
    "df_red['Total_Red_Cards'] = df_red['Home_Red_Cards'] + df_red['Away_Red_Cards']\n",
    "df_red['Num_Matches'] = df_team['Num_Matches']\n",
    "df_red['Weighted_Average'] = df_red['Total_Red_Cards'] / df_red['Num_Matches']\n",
    "\n",
    "fig, ax = plt.subplots()\n",
    "df_red[['Weighted_Average']].sort_values('Weighted_Average', ascending = False).head(40).plot.barh(ax=ax, figsize= (10,8), color ='red')\n",
    "ax.invert_yaxis()\n",
    "ax.set_title('Average red cards per team from season 10/11 to season 19/20 ', fontweight = 'bold')\n",
    "ax.get_legend().remove()\n",
    "ax.set_xlabel('Number of red cards', size = 11)\n",
    "ax.yaxis.label.set_visible(False)"
   ]
  },
  {
   "cell_type": "markdown",
   "metadata": {},
   "source": [
    "Manchester City won 4 out of these 10 seasons. We can see in the graphs that it has been around the middle for all of the three penalties. "
   ]
  },
  {
   "cell_type": "code",
   "execution_count": null,
   "metadata": {},
   "outputs": [],
   "source": []
  }
 ],
 "metadata": {
  "kernelspec": {
   "display_name": "Python 3",
   "language": "python",
   "name": "python3"
  },
  "language_info": {
   "codemirror_mode": {
    "name": "ipython",
    "version": 3
   },
   "file_extension": ".py",
   "mimetype": "text/x-python",
   "name": "python",
   "nbconvert_exporter": "python",
   "pygments_lexer": "ipython3",
   "version": "3.8.5"
  }
 },
 "nbformat": 4,
 "nbformat_minor": 4
}
